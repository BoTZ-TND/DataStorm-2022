{
 "cells": [
  {
   "cell_type": "code",
   "execution_count": 10,
   "metadata": {
    "collapsed": true
   },
   "outputs": [],
   "source": [
    "import pandas as pd"
   ]
  },
  {
   "cell_type": "code",
   "execution_count": 11,
   "outputs": [],
   "source": [
    "train_ds = pd.read_csv(\"D:\\\\Competitions\\\\DataStorm-2022\\\\data\\\\train_data.csv\")\n",
    "val_ds = pd.read_csv(\"D:\\\\Competitions\\\\DataStorm-2022\\\\data\\\\validation_dataV1.csv\")\n",
    "test_ds = pd.read_csv(\"D:\\\\Competitions\\\\DataStorm-2022\\\\data\\\\test_dataV1.csv\")"
   ],
   "metadata": {
    "collapsed": false,
    "pycharm": {
     "name": "#%%\n"
    }
   }
  },
  {
   "cell_type": "code",
   "execution_count": 12,
   "outputs": [
    {
     "data": {
      "text/plain": "  CategoryCode  ItemCode      DateID  DailySales\n0   category_2    117610   11/6/2021           7\n1   category_4    836584  11/18/2021          16\n2   category_1    370195   1/24/2022           6\n3   category_2    172582  10/30/2021           5\n4   category_2   1006009  10/30/2021           5",
      "text/html": "<div>\n<style scoped>\n    .dataframe tbody tr th:only-of-type {\n        vertical-align: middle;\n    }\n\n    .dataframe tbody tr th {\n        vertical-align: top;\n    }\n\n    .dataframe thead th {\n        text-align: right;\n    }\n</style>\n<table border=\"1\" class=\"dataframe\">\n  <thead>\n    <tr style=\"text-align: right;\">\n      <th></th>\n      <th>CategoryCode</th>\n      <th>ItemCode</th>\n      <th>DateID</th>\n      <th>DailySales</th>\n    </tr>\n  </thead>\n  <tbody>\n    <tr>\n      <th>0</th>\n      <td>category_2</td>\n      <td>117610</td>\n      <td>11/6/2021</td>\n      <td>7</td>\n    </tr>\n    <tr>\n      <th>1</th>\n      <td>category_4</td>\n      <td>836584</td>\n      <td>11/18/2021</td>\n      <td>16</td>\n    </tr>\n    <tr>\n      <th>2</th>\n      <td>category_1</td>\n      <td>370195</td>\n      <td>1/24/2022</td>\n      <td>6</td>\n    </tr>\n    <tr>\n      <th>3</th>\n      <td>category_2</td>\n      <td>172582</td>\n      <td>10/30/2021</td>\n      <td>5</td>\n    </tr>\n    <tr>\n      <th>4</th>\n      <td>category_2</td>\n      <td>1006009</td>\n      <td>10/30/2021</td>\n      <td>5</td>\n    </tr>\n  </tbody>\n</table>\n</div>"
     },
     "execution_count": 12,
     "metadata": {},
     "output_type": "execute_result"
    }
   ],
   "source": [
    "train_ds.head()"
   ],
   "metadata": {
    "collapsed": false,
    "pycharm": {
     "name": "#%%\n"
    }
   }
  },
  {
   "cell_type": "code",
   "execution_count": 13,
   "outputs": [
    {
     "data": {
      "text/plain": "  CategoryCode  ItemCode       Week  WeeklySales\n0   category_2   1044502  20/2/2022           11\n1   category_2   1105009  20/2/2022           11\n2   category_2    913561  13/3/2022            5\n3   category_1   1048975  13/3/2022           30\n4   category_1     17287  27/2/2022           60",
      "text/html": "<div>\n<style scoped>\n    .dataframe tbody tr th:only-of-type {\n        vertical-align: middle;\n    }\n\n    .dataframe tbody tr th {\n        vertical-align: top;\n    }\n\n    .dataframe thead th {\n        text-align: right;\n    }\n</style>\n<table border=\"1\" class=\"dataframe\">\n  <thead>\n    <tr style=\"text-align: right;\">\n      <th></th>\n      <th>CategoryCode</th>\n      <th>ItemCode</th>\n      <th>Week</th>\n      <th>WeeklySales</th>\n    </tr>\n  </thead>\n  <tbody>\n    <tr>\n      <th>0</th>\n      <td>category_2</td>\n      <td>1044502</td>\n      <td>20/2/2022</td>\n      <td>11</td>\n    </tr>\n    <tr>\n      <th>1</th>\n      <td>category_2</td>\n      <td>1105009</td>\n      <td>20/2/2022</td>\n      <td>11</td>\n    </tr>\n    <tr>\n      <th>2</th>\n      <td>category_2</td>\n      <td>913561</td>\n      <td>13/3/2022</td>\n      <td>5</td>\n    </tr>\n    <tr>\n      <th>3</th>\n      <td>category_1</td>\n      <td>1048975</td>\n      <td>13/3/2022</td>\n      <td>30</td>\n    </tr>\n    <tr>\n      <th>4</th>\n      <td>category_1</td>\n      <td>17287</td>\n      <td>27/2/2022</td>\n      <td>60</td>\n    </tr>\n  </tbody>\n</table>\n</div>"
     },
     "execution_count": 13,
     "metadata": {},
     "output_type": "execute_result"
    }
   ],
   "source": [
    "val_ds.head()"
   ],
   "metadata": {
    "collapsed": false,
    "pycharm": {
     "name": "#%%\n"
    }
   }
  },
  {
   "cell_type": "code",
   "execution_count": 14,
   "outputs": [
    {
     "data": {
      "text/plain": "  CategoryCode  ItemCode       Week  PredictedSales\n0   category_1     43738  13/3/2022             NaN\n1   category_2   1006090  20/2/2022             NaN\n2   category_2   1076929  13/3/2022             NaN\n3   category_1   1081321   6/3/2022             NaN\n4   category_2    216151  13/3/2022             NaN",
      "text/html": "<div>\n<style scoped>\n    .dataframe tbody tr th:only-of-type {\n        vertical-align: middle;\n    }\n\n    .dataframe tbody tr th {\n        vertical-align: top;\n    }\n\n    .dataframe thead th {\n        text-align: right;\n    }\n</style>\n<table border=\"1\" class=\"dataframe\">\n  <thead>\n    <tr style=\"text-align: right;\">\n      <th></th>\n      <th>CategoryCode</th>\n      <th>ItemCode</th>\n      <th>Week</th>\n      <th>PredictedSales</th>\n    </tr>\n  </thead>\n  <tbody>\n    <tr>\n      <th>0</th>\n      <td>category_1</td>\n      <td>43738</td>\n      <td>13/3/2022</td>\n      <td>NaN</td>\n    </tr>\n    <tr>\n      <th>1</th>\n      <td>category_2</td>\n      <td>1006090</td>\n      <td>20/2/2022</td>\n      <td>NaN</td>\n    </tr>\n    <tr>\n      <th>2</th>\n      <td>category_2</td>\n      <td>1076929</td>\n      <td>13/3/2022</td>\n      <td>NaN</td>\n    </tr>\n    <tr>\n      <th>3</th>\n      <td>category_1</td>\n      <td>1081321</td>\n      <td>6/3/2022</td>\n      <td>NaN</td>\n    </tr>\n    <tr>\n      <th>4</th>\n      <td>category_2</td>\n      <td>216151</td>\n      <td>13/3/2022</td>\n      <td>NaN</td>\n    </tr>\n  </tbody>\n</table>\n</div>"
     },
     "execution_count": 14,
     "metadata": {},
     "output_type": "execute_result"
    }
   ],
   "source": [
    "test_ds.head()"
   ],
   "metadata": {
    "collapsed": false,
    "pycharm": {
     "name": "#%%\n"
    }
   }
  },
  {
   "cell_type": "code",
   "execution_count": 15,
   "outputs": [],
   "source": [
    "train_ds[\"DateID\"] = pd.to_datetime(train_ds[\"DateID\"], infer_datetime_format=True)\n",
    "val_ds[\"DateID\"] = pd.to_datetime(val_ds[\"Week\"], infer_datetime_format=True)\n",
    "test_ds[\"DateID\"] = pd.to_datetime(test_ds[\"Week\"], infer_datetime_format=True)"
   ],
   "metadata": {
    "collapsed": false,
    "pycharm": {
     "name": "#%%\n"
    }
   }
  },
  {
   "cell_type": "code",
   "execution_count": 16,
   "outputs": [],
   "source": [
    "train_ds[\"DOW\"] = train_ds[\"DateID\"].dt.dayofweek\n",
    "val_ds[\"DOW\"] = val_ds[\"DateID\"].dt.dayofweek\n",
    "test_ds[\"DOW\"] = test_ds[\"DateID\"].dt.dayofweek"
   ],
   "metadata": {
    "collapsed": false,
    "pycharm": {
     "name": "#%%\n"
    }
   }
  },
  {
   "cell_type": "code",
   "execution_count": 20,
   "outputs": [],
   "source": [
    "train_ds[\"WOY\"] = train_ds[\"DateID\"].dt.isocalendar().week\n",
    "val_ds[\"WOY\"] = val_ds[\"DateID\"].dt.isocalendar().week\n",
    "test_ds[\"WOY\"] = test_ds[\"DateID\"].dt.isocalendar().week"
   ],
   "metadata": {
    "collapsed": false,
    "pycharm": {
     "name": "#%%\n"
    }
   }
  },
  {
   "cell_type": "code",
   "execution_count": 25,
   "outputs": [],
   "source": [
    "train_ds[\"DOY\"] = train_ds[\"DateID\"].dt.day_of_year\n",
    "val_ds[\"DOY\"] = val_ds[\"DateID\"].dt.day_of_year\n",
    "test_ds[\"DOY\"] = test_ds[\"DateID\"].dt.day_of_year"
   ],
   "metadata": {
    "collapsed": false,
    "pycharm": {
     "name": "#%%\n"
    }
   }
  },
  {
   "cell_type": "code",
   "execution_count": 26,
   "outputs": [
    {
     "data": {
      "text/plain": "  CategoryCode  ItemCode     DateID  DailySales  DOW  WOY  DOY\n0   category_2    117610 2021-11-06           7    5   44  310\n1   category_4    836584 2021-11-18          16    3   46  322\n2   category_1    370195 2022-01-24           6    0    4   24\n3   category_2    172582 2021-10-30           5    5   43  303\n4   category_2   1006009 2021-10-30           5    5   43  303",
      "text/html": "<div>\n<style scoped>\n    .dataframe tbody tr th:only-of-type {\n        vertical-align: middle;\n    }\n\n    .dataframe tbody tr th {\n        vertical-align: top;\n    }\n\n    .dataframe thead th {\n        text-align: right;\n    }\n</style>\n<table border=\"1\" class=\"dataframe\">\n  <thead>\n    <tr style=\"text-align: right;\">\n      <th></th>\n      <th>CategoryCode</th>\n      <th>ItemCode</th>\n      <th>DateID</th>\n      <th>DailySales</th>\n      <th>DOW</th>\n      <th>WOY</th>\n      <th>DOY</th>\n    </tr>\n  </thead>\n  <tbody>\n    <tr>\n      <th>0</th>\n      <td>category_2</td>\n      <td>117610</td>\n      <td>2021-11-06</td>\n      <td>7</td>\n      <td>5</td>\n      <td>44</td>\n      <td>310</td>\n    </tr>\n    <tr>\n      <th>1</th>\n      <td>category_4</td>\n      <td>836584</td>\n      <td>2021-11-18</td>\n      <td>16</td>\n      <td>3</td>\n      <td>46</td>\n      <td>322</td>\n    </tr>\n    <tr>\n      <th>2</th>\n      <td>category_1</td>\n      <td>370195</td>\n      <td>2022-01-24</td>\n      <td>6</td>\n      <td>0</td>\n      <td>4</td>\n      <td>24</td>\n    </tr>\n    <tr>\n      <th>3</th>\n      <td>category_2</td>\n      <td>172582</td>\n      <td>2021-10-30</td>\n      <td>5</td>\n      <td>5</td>\n      <td>43</td>\n      <td>303</td>\n    </tr>\n    <tr>\n      <th>4</th>\n      <td>category_2</td>\n      <td>1006009</td>\n      <td>2021-10-30</td>\n      <td>5</td>\n      <td>5</td>\n      <td>43</td>\n      <td>303</td>\n    </tr>\n  </tbody>\n</table>\n</div>"
     },
     "execution_count": 26,
     "metadata": {},
     "output_type": "execute_result"
    }
   ],
   "source": [
    "train_ds.head()"
   ],
   "metadata": {
    "collapsed": false,
    "pycharm": {
     "name": "#%%\n"
    }
   }
  },
  {
   "cell_type": "code",
   "execution_count": 27,
   "outputs": [
    {
     "data": {
      "text/plain": "  CategoryCode  ItemCode       Week  WeeklySales     DateID  DOW  WOY  DOY\n0   category_2   1044502  20/2/2022           11 2022-02-20    6    7   51\n1   category_2   1105009  20/2/2022           11 2022-02-20    6    7   51\n2   category_2    913561  13/3/2022            5 2022-03-13    6   10   72\n3   category_1   1048975  13/3/2022           30 2022-03-13    6   10   72\n4   category_1     17287  27/2/2022           60 2022-02-27    6    8   58",
      "text/html": "<div>\n<style scoped>\n    .dataframe tbody tr th:only-of-type {\n        vertical-align: middle;\n    }\n\n    .dataframe tbody tr th {\n        vertical-align: top;\n    }\n\n    .dataframe thead th {\n        text-align: right;\n    }\n</style>\n<table border=\"1\" class=\"dataframe\">\n  <thead>\n    <tr style=\"text-align: right;\">\n      <th></th>\n      <th>CategoryCode</th>\n      <th>ItemCode</th>\n      <th>Week</th>\n      <th>WeeklySales</th>\n      <th>DateID</th>\n      <th>DOW</th>\n      <th>WOY</th>\n      <th>DOY</th>\n    </tr>\n  </thead>\n  <tbody>\n    <tr>\n      <th>0</th>\n      <td>category_2</td>\n      <td>1044502</td>\n      <td>20/2/2022</td>\n      <td>11</td>\n      <td>2022-02-20</td>\n      <td>6</td>\n      <td>7</td>\n      <td>51</td>\n    </tr>\n    <tr>\n      <th>1</th>\n      <td>category_2</td>\n      <td>1105009</td>\n      <td>20/2/2022</td>\n      <td>11</td>\n      <td>2022-02-20</td>\n      <td>6</td>\n      <td>7</td>\n      <td>51</td>\n    </tr>\n    <tr>\n      <th>2</th>\n      <td>category_2</td>\n      <td>913561</td>\n      <td>13/3/2022</td>\n      <td>5</td>\n      <td>2022-03-13</td>\n      <td>6</td>\n      <td>10</td>\n      <td>72</td>\n    </tr>\n    <tr>\n      <th>3</th>\n      <td>category_1</td>\n      <td>1048975</td>\n      <td>13/3/2022</td>\n      <td>30</td>\n      <td>2022-03-13</td>\n      <td>6</td>\n      <td>10</td>\n      <td>72</td>\n    </tr>\n    <tr>\n      <th>4</th>\n      <td>category_1</td>\n      <td>17287</td>\n      <td>27/2/2022</td>\n      <td>60</td>\n      <td>2022-02-27</td>\n      <td>6</td>\n      <td>8</td>\n      <td>58</td>\n    </tr>\n  </tbody>\n</table>\n</div>"
     },
     "execution_count": 27,
     "metadata": {},
     "output_type": "execute_result"
    }
   ],
   "source": [
    "val_ds.head()"
   ],
   "metadata": {
    "collapsed": false,
    "pycharm": {
     "name": "#%%\n"
    }
   }
  },
  {
   "cell_type": "code",
   "execution_count": 28,
   "outputs": [
    {
     "data": {
      "text/plain": "  CategoryCode  ItemCode       Week  PredictedSales     DateID  DOW  WOY  DOY\n0   category_1     43738  13/3/2022             NaN 2022-03-13    6   10   72\n1   category_2   1006090  20/2/2022             NaN 2022-02-20    6    7   51\n2   category_2   1076929  13/3/2022             NaN 2022-03-13    6   10   72\n3   category_1   1081321   6/3/2022             NaN 2022-03-06    6    9   65\n4   category_2    216151  13/3/2022             NaN 2022-03-13    6   10   72",
      "text/html": "<div>\n<style scoped>\n    .dataframe tbody tr th:only-of-type {\n        vertical-align: middle;\n    }\n\n    .dataframe tbody tr th {\n        vertical-align: top;\n    }\n\n    .dataframe thead th {\n        text-align: right;\n    }\n</style>\n<table border=\"1\" class=\"dataframe\">\n  <thead>\n    <tr style=\"text-align: right;\">\n      <th></th>\n      <th>CategoryCode</th>\n      <th>ItemCode</th>\n      <th>Week</th>\n      <th>PredictedSales</th>\n      <th>DateID</th>\n      <th>DOW</th>\n      <th>WOY</th>\n      <th>DOY</th>\n    </tr>\n  </thead>\n  <tbody>\n    <tr>\n      <th>0</th>\n      <td>category_1</td>\n      <td>43738</td>\n      <td>13/3/2022</td>\n      <td>NaN</td>\n      <td>2022-03-13</td>\n      <td>6</td>\n      <td>10</td>\n      <td>72</td>\n    </tr>\n    <tr>\n      <th>1</th>\n      <td>category_2</td>\n      <td>1006090</td>\n      <td>20/2/2022</td>\n      <td>NaN</td>\n      <td>2022-02-20</td>\n      <td>6</td>\n      <td>7</td>\n      <td>51</td>\n    </tr>\n    <tr>\n      <th>2</th>\n      <td>category_2</td>\n      <td>1076929</td>\n      <td>13/3/2022</td>\n      <td>NaN</td>\n      <td>2022-03-13</td>\n      <td>6</td>\n      <td>10</td>\n      <td>72</td>\n    </tr>\n    <tr>\n      <th>3</th>\n      <td>category_1</td>\n      <td>1081321</td>\n      <td>6/3/2022</td>\n      <td>NaN</td>\n      <td>2022-03-06</td>\n      <td>6</td>\n      <td>9</td>\n      <td>65</td>\n    </tr>\n    <tr>\n      <th>4</th>\n      <td>category_2</td>\n      <td>216151</td>\n      <td>13/3/2022</td>\n      <td>NaN</td>\n      <td>2022-03-13</td>\n      <td>6</td>\n      <td>10</td>\n      <td>72</td>\n    </tr>\n  </tbody>\n</table>\n</div>"
     },
     "execution_count": 28,
     "metadata": {},
     "output_type": "execute_result"
    }
   ],
   "source": [
    "test_ds.head()"
   ],
   "metadata": {
    "collapsed": false,
    "pycharm": {
     "name": "#%%\n"
    }
   }
  },
  {
   "cell_type": "code",
   "execution_count": 29,
   "outputs": [],
   "source": [
    "train_ds.to_csv(\"D:\\\\Competitions\\\\DataStorm-2022\\\\data\\\\train_V2.csv\",index=False)\n",
    "val_ds.to_csv(\"D:\\\\Competitions\\\\DataStorm-2022\\\\data\\\\val_V2.csv\",index=False)\n",
    "test_ds.to_csv(\"D:\\\\Competitions\\\\DataStorm-2022\\\\data\\\\test_V2.csv\",index=False)"
   ],
   "metadata": {
    "collapsed": false,
    "pycharm": {
     "name": "#%%\n"
    }
   }
  },
  {
   "cell_type": "code",
   "execution_count": null,
   "outputs": [],
   "source": [],
   "metadata": {
    "collapsed": false,
    "pycharm": {
     "name": "#%%\n"
    }
   }
  }
 ],
 "metadata": {
  "kernelspec": {
   "display_name": "Python 3",
   "language": "python",
   "name": "python3"
  },
  "language_info": {
   "codemirror_mode": {
    "name": "ipython",
    "version": 2
   },
   "file_extension": ".py",
   "mimetype": "text/x-python",
   "name": "python",
   "nbconvert_exporter": "python",
   "pygments_lexer": "ipython2",
   "version": "2.7.6"
  }
 },
 "nbformat": 4,
 "nbformat_minor": 0
}