{
 "cells": [
  {
   "cell_type": "code",
   "execution_count": 2,
   "metadata": {
    "collapsed": true,
    "pycharm": {
     "name": "#%%\n"
    }
   },
   "outputs": [],
   "source": [
    "import pandas as pd\n",
    "import matplotlib.pyplot as plt"
   ]
  },
  {
   "cell_type": "code",
   "execution_count": 5,
   "metadata": {
    "collapsed": false,
    "pycharm": {
     "name": "#%%\n"
    }
   },
   "outputs": [],
   "source": [
    "original_train_df = pd.read_csv(\"../data/train_data.csv\")\n",
    "day_list_df = pd.read_csv(\"../data/SalesPointsV1.csv\")"
   ]
  },
  {
   "cell_type": "code",
   "execution_count": 6,
   "metadata": {
    "collapsed": false,
    "pycharm": {
     "name": "#%%\n"
    }
   },
   "outputs": [
    {
     "data": {
      "text/html": [
       "<div>\n",
       "<style scoped>\n",
       "    .dataframe tbody tr th:only-of-type {\n",
       "        vertical-align: middle;\n",
       "    }\n",
       "\n",
       "    .dataframe tbody tr th {\n",
       "        vertical-align: top;\n",
       "    }\n",
       "\n",
       "    .dataframe thead th {\n",
       "        text-align: right;\n",
       "    }\n",
       "</style>\n",
       "<table border=\"1\" class=\"dataframe\">\n",
       "  <thead>\n",
       "    <tr style=\"text-align: right;\">\n",
       "      <th></th>\n",
       "      <th>CategoryCode</th>\n",
       "      <th>ItemCode</th>\n",
       "      <th>DateID</th>\n",
       "      <th>DailySales</th>\n",
       "    </tr>\n",
       "  </thead>\n",
       "  <tbody>\n",
       "    <tr>\n",
       "      <th>0</th>\n",
       "      <td>category_2</td>\n",
       "      <td>117610</td>\n",
       "      <td>11/6/2021</td>\n",
       "      <td>7</td>\n",
       "    </tr>\n",
       "    <tr>\n",
       "      <th>1</th>\n",
       "      <td>category_4</td>\n",
       "      <td>836584</td>\n",
       "      <td>11/18/2021</td>\n",
       "      <td>16</td>\n",
       "    </tr>\n",
       "    <tr>\n",
       "      <th>2</th>\n",
       "      <td>category_1</td>\n",
       "      <td>370195</td>\n",
       "      <td>1/24/2022</td>\n",
       "      <td>6</td>\n",
       "    </tr>\n",
       "    <tr>\n",
       "      <th>3</th>\n",
       "      <td>category_2</td>\n",
       "      <td>172582</td>\n",
       "      <td>10/30/2021</td>\n",
       "      <td>5</td>\n",
       "    </tr>\n",
       "    <tr>\n",
       "      <th>4</th>\n",
       "      <td>category_2</td>\n",
       "      <td>1006009</td>\n",
       "      <td>10/30/2021</td>\n",
       "      <td>5</td>\n",
       "    </tr>\n",
       "  </tbody>\n",
       "</table>\n",
       "</div>"
      ],
      "text/plain": [
       "  CategoryCode  ItemCode      DateID  DailySales\n",
       "0   category_2    117610   11/6/2021           7\n",
       "1   category_4    836584  11/18/2021          16\n",
       "2   category_1    370195   1/24/2022           6\n",
       "3   category_2    172582  10/30/2021           5\n",
       "4   category_2   1006009  10/30/2021           5"
      ]
     },
     "execution_count": 6,
     "metadata": {},
     "output_type": "execute_result"
    }
   ],
   "source": [
    "original_train_df.head()"
   ]
  },
  {
   "cell_type": "code",
   "execution_count": 7,
   "metadata": {
    "collapsed": false,
    "pycharm": {
     "name": "#%%\n"
    }
   },
   "outputs": [],
   "source": [
    "category_itemList_map = original_train_df.groupby([\"CategoryCode\"]).agg(list)[[\"ItemCode\"]]\n",
    "category_itemList_map = category_itemList_map.to_dict()['ItemCode']"
   ]
  },
  {
   "cell_type": "code",
   "execution_count": 13,
   "metadata": {
    "collapsed": false,
    "pycharm": {
     "name": "#%%\n"
    }
   },
   "outputs": [
    {
     "name": "stdout",
     "output_type": "stream",
     "text": [
      "category_1 6841\n",
      "category_2 9203\n",
      "category_3 2360\n",
      "category_4 1517\n"
     ]
    }
   ],
   "source": [
    "for _key in category_itemList_map.keys():\n",
    "    print(_key,len(category_itemList_map[_key]))\n",
    "    # print(_key,category_itemList_map[_key])"
   ]
  },
  {
   "cell_type": "code",
   "execution_count": 9,
   "metadata": {
    "collapsed": false,
    "pycharm": {
     "name": "#%%\n"
    }
   },
   "outputs": [],
   "source": [
    "def category_wise_graph(category_map):\n",
    "    for __key in category_map.keys():\n",
    "        print(__key)\n",
    "        draw_multi_ts_graph(category_map[__key][:4])\n"
   ]
  },
  {
   "cell_type": "code",
   "execution_count": 10,
   "metadata": {
    "collapsed": false,
    "pycharm": {
     "name": "#%%\n"
    }
   },
   "outputs": [],
   "source": [
    "def draw_multi_ts_graph(lis_item_codes):\n",
    "    for _it_co in lis_item_codes:\n",
    "        product_series = day_list_df.loc[day_list_df[\"ItemCode\"] == _it_co].iloc[0]\n",
    "        print(product_series[\"DailySales\"])"
   ]
  },
  {
   "cell_type": "code",
   "execution_count": 11,
   "metadata": {
    "collapsed": false,
    "pycharm": {
     "name": "#%%\n"
    }
   },
   "outputs": [
    {
     "name": "stdout",
     "output_type": "stream",
     "text": [
      "category_1\n",
      "[6, 6, 8, 1, 7, 7, 0, 13, 3, 4, 2, 1, 0, 3, 14, 6, 0, 7, 1, 10, 3, 2, 19, 6, 1, 1, 4, 0, 6, 18, 11, 0, 8, 7, 3, 24, 1, 1, 9, 2, 1, 3, 19, 23, 6, 0, 4, 4, 1, 3, 4, 4, 4, 0, 26, 2, 8, 4, 4, 3, 10, 0, 7, 27, 1, 8, 0, 10, 1, 15, 0, 55, 9, 0, 17, 1, 4, 12, 13, 0, 6, 1, 21, 29, 15, 18, 6, 10, 7, 8, 6, 28, 2, 6, 5, 1, 3, 1, 8, 34, 5, 1, 3, 5, 7, 8, 4, 6, 1, 1, 0, 0, 7, 20, 0, 6, 3, 3, 0, 6, 0, 19, 5, 3, 8, 14, 6, 17, 3, 1, 3, 2, 6, 9, 31]\n",
      "[8, 3, 9, 2, 1, 2, 4, 11, 11, 4, 7, 4, 7, 3, 2, 8, 1, 4, 6, 4, 3, 3, 4, 10, 7, 2, 4, 4, 6, 3, 5, 5, 3, 4, 9, 1, 2, 3, 4, 1, 3, 1, 3, 9, 2, 5, 2, 9, 0, 3, 7, 4, 11, 6, 6, 6, 7, 7, 1, 2, 3, 9, 5, 16, 8, 6, 3, 11, 0, 4, 3, 4, 6, 4, 13, 6, 10, 3, 10, 10, 10, 4, 5, 9, 3, 13, 2, 4, 4, 2, 5, 10, 9, 4, 10, 3, 4, 8, 8, 5, 11, 4, 6, 3, 6, 5, 4, 4, 4, 3, 11, 7, 7, 6, 3, 3, 4, 16, 6, 3, 8, 11, 5, 5, 3, 7, 3, 2, 8, 4, 8, 1, 6, 9, 1, 3]\n",
      "[11, 5, 2, 6, 5, 0, 9, 1, 36, 5, 5, 20, 6, 3, 2, 7, 1, 0, 5, 1, 17, 30, 1, 0, 2, 2, 0, 1, 2, 0, 18, 17, 18, 5, 2, 2, 18, 10, 9, 8, 0, 22, 7, 1, 3, 3, 5, 3, 4, 6, 2, 6, 3, 24, 1, 2, 1, 7, 7, 3, 10, 0, 2, 3, 5, 6, 0, 8, 5, 8, 5, 8, 6, 5, 4, 7, 1, 9, 13, 4, 7, 14, 10, 21, 13, 2, 0, 3, 2, 8, 4, 4, 6, 10, 7, 5, 5, 5, 29, 7, 11, 0, 7, 2, 3, 0, 0, 0, 0, 0, 0, 1, 1, 8, 7, 5, 1, 0, 0, 0, 11, 0, 2, 6]\n",
      "[3, 2, 6, 0, 0, 0, 2, 0, 2, 6, 3, 2, 2, 1, 0, 0, 0, 0, 0, 0, 4, 0, 0, 2, 0, 1, 1, 2, 10, 2, 3, 1, 0, 1, 0, 3, 4, 0, 2, 0, 0, 0, 4, 0, 0, 1, 0, 0, 4, 4, 0, 4, 0, 1, 0, 2, 0, 0, 0, 0, 3, 0, 3, 1, 7, 7, 1, 4, 0, 4, 5, 1, 2, 0, 0, 2, 1, 4, 1, 5, 2, 2, 4, 12, 2, 5, 0, 4, 2, 1, 6, 8, 8, 43, 0, 3, 1, 0, 0, 9, 3, 2, 1, 4, 0, 2, 7, 0, 1, 5, 2, 1, 0, 0, 0, 4, 0, 3, 3, 2, 1, 1, 1, 4, 2, 3, 2, 0, 4, 0, 6, 0, 0, 0, 2, 1]\n",
      "category_2\n",
      "[1, 1, 2, 3, 2, 1, 2, 1, 1, 1, 2, 0, 3, 2, 1, 1, 2, 0, 2, 1, 1, 5, 2, 3, 5, 0, 1, 3, 4, 3, 11, 7, 7, 11, 12, 8, 7, 13, 4, 5, 4, 15, 0, 1, 0, 2, 1, 0, 4, 1, 5, 8, 2, 6, 7, 3, 2, 2, 4, 0, 2, 1, 1, 1, 1, 1, 1, 1, 0, 0, 1, 0, 1, 0, 1, 1, 24, 0, 2, 0, 2, 0, 1, 2, 2, 0, 1, 0, 0, 0, 2, 1, 1, 7, 3, 1, 0, 0, 2, 0, 0, 0, 2, 1, 2, 0, 0, 6, 0, 1, 0, 1, 2, 1, 1, 0, 2, 2, 0, 1, 0, 2, 4, 0, 2, 2, 0, 0, 2, 0, 3, 0, 2, 1, 1]\n",
      "[7, 1, 5, 3, 3, 2, 2, 4, 3, 1, 2, 2, 3, 5, 1, 0, 4, 5, 0, 5, 0, 0, 1, 1, 4, 3, 2, 5, 6, 5, 1, 5, 3, 2, 4, 2, 0, 0, 2, 0, 3, 3, 0, 1, 0, 1, 3, 1, 5, 1, 1, 1, 0, 1, 3, 2, 8, 7, 4, 2, 2, 4, 1, 3, 5, 11, 10, 3, 11, 0, 6, 5, 4, 2, 5, 1, 5, 1, 1, 2, 3, 3, 3, 1, 1, 1, 4, 3, 2, 0, 3, 9, 0, 1, 3, 5, 1, 3, 8, 3, 1, 3, 2, 5, 2, 6, 3, 2, 2, 1, 5, 4, 2, 2, 0, 1, 6, 2, 3, 4, 1, 4, 3, 2, 1, 1, 4, 2, 1, 2, 0, 2, 3, 5, 3, 1]\n",
      "[1, 3, 4, 1, 3, 0, 7, 0, 6, 5, 3, 0, 5, 1, 6, 6, 2, 2, 4, 1, 1, 0, 0, 1, 2, 0, 1, 3, 1, 5, 1, 0, 2, 0, 3, 0, 0, 0, 1, 0, 0, 1, 1, 1, 0, 1, 0, 2, 1, 0, 0, 2, 2, 0, 0, 1, 1, 1, 2, 1, 1, 0, 1, 1, 0, 0, 0, 1, 0, 1, 1, 0, 0, 2, 0, 1, 0, 2, 0, 2, 2, 2, 0, 0, 1, 2, 0, 0, 1, 0, 0, 1, 2, 0, 0, 0, 0, 1, 1, 0, 0, 0, 0, 0, 0, 0, 1, 0, 0, 0, 0, 1, 0, 0, 2, 4, 1, 2, 1, 0, 0, 0, 0, 2, 0, 0, 0, 1, 1, 0, 2, 0, 0, 0, 1]\n",
      "[8, 19, 14, 4, 3, 0, 0, 0, 0, 0, 0, 0, 0, 0, 0, 0, 0, 0, 0, 2, 3, 1, 5, 0, 1, 9, 9, 3, 0, 4, 2, 1, 6, 0, 0, 4, 3, 2, 12, 1, 2, 0, 3, 1, 1, 7, 2, 5, 5, 3, 2, 4, 0, 0, 2, 6, 5, 5, 7, 10, 3, 0, 8, 5, 6, 1, 2, 4, 2, 0, 1, 4, 6, 0, 3, 1, 6, 8, 2, 1, 0, 2, 3, 0, 0, 0, 3, 2, 3, 2, 5, 2, 2, 3, 4, 3, 0, 1, 2, 1, 6, 5, 0, 6, 3, 3, 3, 2, 6, 11, 4, 3, 2, 3, 5, 2, 1, 4, 3, 3, 2, 4, 4, 3, 3, 9, 1, 2, 11, 9, 0, 13, 0, 2, 3, 4]\n",
      "category_3\n",
      "[6, 5, 0, 4, 0, 0, 5, 1, 4, 9, 0, 4, 3, 2, 4, 6, 13, 1, 5, 0, 0, 0, 0, 0, 3, 3, 5, 15, 0, 9, 3, 1, 7, 1, 11, 1, 0, 4, 4, 9, 0, 14, 0, 0, 19, 8, 0, 3, 4, 17, 0, 2, 2, 16, 7, 8, 1, 6, 2, 0, 2, 1, 8, 0, 0, 0, 0, 1, 24, 8, 4, 0, 2, 1, 1, 0, 2, 1, 9, 1, 3, 0, 0, 1, 10, 6, 1, 1, 2, 0, 2, 0, 0, 0, 0, 0, 0, 0, 0, 0, 0, 0, 0, 0, 0, 0, 8, 3, 7, 2, 5, 2, 5, 4]\n",
      "[133, 69, 109, 188, 87, 136, 102, 114, 103, 50, 84, 109, 124, 43, 56, 33, 62, 77, 53, 140, 248, 89, 129, 72, 100, 0, 96, 150, 109, 86, 144, 123, 85, 120, 60, 81, 117, 78, 101, 64, 131, 144, 104, 79, 63, 101, 113, 128, 102, 115, 92, 69, 96, 74, 101, 129, 149, 57, 70, 72, 143, 89, 60, 178, 34, 28, 113, 61, 91, 164, 60, 77, 131, 82, 65, 149, 154, 64, 126, 97, 85, 66, 62, 110, 134, 20, 57, 98, 161, 54, 129, 99, 48, 73, 91, 109, 120, 87, 53, 99, 76, 157, 63, 63, 73, 54, 33, 64, 107, 111, 106, 12, 59, 63, 57, 319, 45, 44, 56, 35, 63, 127, 62, 7, 55, 11, 28, 96, 12, 69, 41, 49, 15, 61, 90, 46]\n",
      "[2, 9, 7, 9, 3, 6, 7, 4, 11, 4, 9, 4, 3, 5, 6, 6, 7, 13, 1, 2, 7, 5, 2, 3, 2, 1, 4, 5, 2, 2, 4, 6, 5, 3, 5, 1, 4, 6, 2, 3, 7, 3, 4, 7, 5, 6, 4, 8, 14, 5, 13, 5, 3, 2, 6, 3, 9, 2, 7, 9, 3, 7, 1, 2, 6, 2, 4, 6, 4, 1, 9, 7, 8, 2, 4, 4, 2, 6, 7, 8, 2, 7, 5, 12, 7, 7, 5, 7, 4, 9, 6, 7, 6, 2, 2, 10, 10, 8, 4, 2, 1, 4, 10, 5, 3, 0, 0, 2, 4, 4, 2, 1, 5, 7, 6, 9, 2, 5, 10, 5, 6, 2, 7, 2, 7, 6, 1, 5, 3, 5, 7, 10, 6, 3, 3, 3]\n",
      "[4, 5, 3, 5, 4, 4, 2, 3, 2, 2, 2, 6, 1, 1, 2, 0, 1, 0, 2, 1, 1, 4, 5, 11, 2, 4, 2, 2, 2, 3, 2, 1, 2, 3, 1, 1, 1, 5, 1, 0, 1, 1, 2, 4, 1, 2, 0, 0, 3, 11, 4, 0, 1, 6, 0, 3, 2, 4, 5, 3, 1, 2, 2, 0, 2, 0, 0, 3, 1, 1, 5, 0, 4, 2, 2, 1, 1, 2, 2, 3, 2, 1, 0, 1, 3, 1, 1, 0, 2, 0, 4, 0, 0, 2, 5, 5, 4, 1, 5, 0, 0, 12, 4, 3, 0, 3, 4, 3, 4, 4, 4, 2, 0, 2, 1, 1, 0, 4, 6, 6, 11, 5, 5, 5, 8, 7, 9, 9, 3, 5, 14, 6, 8, 11, 8, 12]\n",
      "category_4\n",
      "[13, 36, 34, 2, 12, 12, 11, 12, 2, 19, 6, 26, 18, 12, 27, 19, 35, 11, 10, 14, 11, 16, 11, 15, 35, 3, 28, 18, 3, 21, 16, 19, 13, 23, 55, 15, 17, 21, 14, 31, 4, 25, 22, 6, 21, 11, 28, 13, 16, 7, 11, 37, 23, 80, 48, 41, 38, 6, 60, 5, 22, 51, 33, 16, 15, 20, 22, 14, 12, 14, 8, 30, 12, 3, 15, 65, 8, 28, 18, 13, 1, 14, 22, 24, 16, 12, 12, 9, 30, 7, 12, 30, 18, 23, 15, 35, 38, 10, 19, 80, 74, 24, 14, 0, 0, 0, 0, 0, 0, 0, 0, 0, 0, 0, 0, 0, 0, 3, 24, 45, 27, 19, 26, 46, 104, 35, 31]\n",
      "[7, 6, 29, 25, 10, 32, 0, 2, 12, 0, 0, 0, 1, 0, 9, 7, 0, 0, 2, 35, 1, 16, 6, 26, 1, 6, 4, 5, 12, 2, 0, 3, 5, 5, 0, 7, 13, 51, 17, 4, 7, 7, 5, 11, 0, 46, 3, 1, 6, 1, 9, 4, 9, 1, 1, 10, 2, 35, 3, 8, 14, 13, 7, 10, 6, 1, 39, 8, 7, 7, 2, 2, 10, 3, 3, 9, 2, 0, 5, 5, 1, 12, 29, 16, 0, 27, 5, 5, 24, 13, 0, 3, 31, 4, 3, 11, 11, 9, 12, 29, 15, 19, 50, 8, 23, 5, 8, 1, 8, 19, 6, 11, 18, 8, 18, 27, 5, 16, 0, 1, 0, 0, 0, 0, 0, 0, 0, 0, 0, 0, 0, 86, 52, 1, 40]\n",
      "[7, 6, 29, 25, 10, 32, 0, 2, 12, 0, 0, 0, 1, 0, 9, 7, 0, 0, 2, 35, 1, 16, 6, 26, 1, 6, 4, 5, 12, 2, 0, 3, 5, 5, 0, 7, 13, 51, 17, 4, 7, 7, 5, 11, 0, 46, 3, 1, 6, 1, 9, 4, 9, 1, 1, 10, 2, 35, 3, 8, 14, 13, 7, 10, 6, 1, 39, 8, 7, 7, 2, 2, 10, 3, 3, 9, 2, 0, 5, 5, 1, 12, 29, 16, 0, 27, 5, 5, 24, 13, 0, 3, 31, 4, 3, 11, 11, 9, 12, 29, 15, 19, 50, 8, 23, 5, 8, 1, 8, 19, 6, 11, 18, 8, 18, 27, 5, 16, 0, 1, 0, 0, 0, 0, 0, 0, 0, 0, 0, 0, 0, 86, 52, 1, 40]\n",
      "[7, 6, 29, 25, 10, 32, 0, 2, 12, 0, 0, 0, 1, 0, 9, 7, 0, 0, 2, 35, 1, 16, 6, 26, 1, 6, 4, 5, 12, 2, 0, 3, 5, 5, 0, 7, 13, 51, 17, 4, 7, 7, 5, 11, 0, 46, 3, 1, 6, 1, 9, 4, 9, 1, 1, 10, 2, 35, 3, 8, 14, 13, 7, 10, 6, 1, 39, 8, 7, 7, 2, 2, 10, 3, 3, 9, 2, 0, 5, 5, 1, 12, 29, 16, 0, 27, 5, 5, 24, 13, 0, 3, 31, 4, 3, 11, 11, 9, 12, 29, 15, 19, 50, 8, 23, 5, 8, 1, 8, 19, 6, 11, 18, 8, 18, 27, 5, 16, 0, 1, 0, 0, 0, 0, 0, 0, 0, 0, 0, 0, 0, 86, 52, 1, 40]\n"
     ]
    }
   ],
   "source": [
    "category_wise_graph(category_itemList_map)"
   ]
  },
  {
   "cell_type": "markdown",
   "metadata": {},
   "source": [
    "## Tharindu did this shit:"
   ]
  },
  {
   "cell_type": "code",
   "execution_count": 6,
   "metadata": {},
   "outputs": [],
   "source": [
    "#category2\n",
    "d1= [7, 4, 3, 1, 1, 2, 3, 2, 7, 1, 4, 6, 1, 1, 1, 1, 1, 1, 2, 2, 2, 2, 1, 2, 8, 2, 11, 1, 2, 1, 2, 2, 5, 1, 1, 2, 5, 7, 11, 3, 5, 2, 3, 1, 5, 2, 12, 3, 7, 15, 13, 1, 1, 4, 2, 7, 6, 2, 1, 2, 1, 1, 1, 1, 2, 2, 2, 1, 2, 1, 2, 1, 1, 1, 1, 3, 24, 4, 1, 1, 4, 3, 2, 1, 1, 2, 1, 2, 1, 2, 8, 4, 2, 1, 3, 2, 1, 2, 1, 1]\n",
    "d2= [5, 2, 1, 5, 3, 1, 1, 1, 3, 5, 4, 5, 3, 3, 1, 2, 2, 3, 1, 1, 3, 2, 1, 2, 1, 4, 4, 1, 1, 1, 4, 6, 3, 1, 2, 5, 2, 2, 2, 3, 3, 6, 5, 3, 1, 1, 5, 1, 4, 5, 7, 1, 4, 3, 3, 10, 2, 3, 6, 1, 1, 3, 11, 3, 4, 5, 4, 9, 2, 2, 4, 1, 1, 4, 3, 3, 1, 2, 5, 7, 5, 5, 3, 8, 3, 8, 1, 2, 1, 3, 4, 3, 11, 5, 1, 1, 2, 2, 4, 3, 1, 2, 5, 2, 6, 2, 2, 2, 3, 5, 3, 2, 5, 3, 1, 2, 2, 1, 1, 3, 2]\n",
    "d3= [5, 1, 2, 1, 2, 1, 1, 4, 1, 4, 1, 1, 1, 2, 2, 1, 2, 2, 2, 2, 1, 1, 1, 2, 1, 3, 6, 1, 3, 1, 1, 2, 2, 1, 1, 1, 1, 1, 1, 2, 1, 1, 1, 1, 1, 2, 1, 6, 2, 1, 2, 1, 3, 1, 2, 2, 3, 4, 2, 5, 7, 3, 1, 1, 1, 1, 5, 2, 1, 1, 6, 1]\n"
   ]
  },
  {
   "cell_type": "code",
   "execution_count": 7,
   "metadata": {},
   "outputs": [
    {
     "data": {
      "text/plain": [
       "[<matplotlib.lines.Line2D at 0x1b8a6ab97f0>]"
      ]
     },
     "execution_count": 7,
     "metadata": {},
     "output_type": "execute_result"
    },
    {
     "data": {
      "image/png": "[encoded data removed]",
      "text/plain": [
       "<Figure size 432x288 with 1 Axes>"
      ]
     },
     "metadata": {
      "needs_background": "light"
     },
     "output_type": "display_data"
    }
   ],
   "source": [
    "plt.plot(d1)\n",
    "plt.plot(d2)\n",
    "plt.plot(d3)"
   ]
  }
 ],
 "metadata": {
  "kernelspec": {
   "display_name": "Python 3",
   "language": "python",
   "name": "python3"
  },
  "language_info": {
   "codemirror_mode": {
    "name": "ipython",
    "version": 3
   },
   "file_extension": ".py",
   "mimetype": "text/x-python",
   "name": "python",
   "nbconvert_exporter": "python",
   "pygments_lexer": "ipython3",
   "version": "3.8.12"
  }
 },
 "nbformat": 4,
 "nbformat_minor": 0
}
