{
 "cells": [
  {
   "cell_type": "code",
   "execution_count": 17,
   "metadata": {
    "collapsed": true
   },
   "outputs": [],
   "source": [
    "import  pandas as pd\n",
    "from statsmodels.tsa.arima.model import ARIMA\n",
    "import matplotlib.pyplot as plt\n",
    "import numpy as np"
   ]
  },
  {
   "cell_type": "code",
   "execution_count": 4,
   "outputs": [],
   "source": [
    "sales_points = pd.read_csv(\"D:\\\\Competitions\\\\DataStorm-2022\\\\data\\\\SalesPointsV2.csv\")"
   ],
   "metadata": {
    "collapsed": false,
    "pycharm": {
     "name": "#%%\n"
    }
   }
  },
  {
   "cell_type": "code",
   "execution_count": 5,
   "outputs": [
    {
     "data": {
      "text/plain": "     Unnamed: 0  ItemCode  #sales       stage  \\\n0             0      3418      21  validation   \n1             1      3427      21  validation   \n2             2      7666      21  validation   \n3             3      9925      21        test   \n4             4     16936      21        test   \n..          ...       ...     ...         ...   \n189         189   1101769      21        test   \n190         190   1103056      19        test   \n191         191   1105009      18  validation   \n192         192   1105018      17        test   \n193         193   1105027      17        test   \n\n                                           WeeklySales  \n0    [29, 42, 41, 41, 44, 46, 43, 49, 54, 69, 101, ...  \n1    [11, 40, 20, 48, 54, 28, 36, 52, 42, 57, 46, 4...  \n2    [84, 119, 196, 185, 94, 15, 10, 30, 79, 82, 14...  \n3    [1, 9, 11, 13, 5, 11, 11, 13, 12, 10, 21, 15, ...  \n4    [9, 25, 40, 31, 21, 43, 7, 34, 151, 32, 28, 25...  \n..                                                 ...  \n189  [8, 3, 0, 0, 18, 20, 22, 17, 14, 1, 0, 2, 0, 0...  \n190  [8, 12, 28, 27, 20, 17, 24, 19, 12, 7, 18, 11,...  \n191  [5, 5, 10, 17, 17, 4, 6, 9, 4, 7, 2, 6, 6, 7, ...  \n192  [3, 6, 11, 4, 7, 8, 6, 7, 10, 12, 4, 10, 10, 1...  \n193  [3, 11, 10, 7, 16, 13, 10, 12, 7, 8, 12, 6, 5,...  \n\n[194 rows x 5 columns]",
      "text/html": "<div>\n<style scoped>\n    .dataframe tbody tr th:only-of-type {\n        vertical-align: middle;\n    }\n\n    .dataframe tbody tr th {\n        vertical-align: top;\n    }\n\n    .dataframe thead th {\n        text-align: right;\n    }\n</style>\n<table border=\"1\" class=\"dataframe\">\n  <thead>\n    <tr style=\"text-align: right;\">\n      <th></th>\n      <th>Unnamed: 0</th>\n      <th>ItemCode</th>\n      <th>#sales</th>\n      <th>stage</th>\n      <th>WeeklySales</th>\n    </tr>\n  </thead>\n  <tbody>\n    <tr>\n      <th>0</th>\n      <td>0</td>\n      <td>3418</td>\n      <td>21</td>\n      <td>validation</td>\n      <td>[29, 42, 41, 41, 44, 46, 43, 49, 54, 69, 101, ...</td>\n    </tr>\n    <tr>\n      <th>1</th>\n      <td>1</td>\n      <td>3427</td>\n      <td>21</td>\n      <td>validation</td>\n      <td>[11, 40, 20, 48, 54, 28, 36, 52, 42, 57, 46, 4...</td>\n    </tr>\n    <tr>\n      <th>2</th>\n      <td>2</td>\n      <td>7666</td>\n      <td>21</td>\n      <td>validation</td>\n      <td>[84, 119, 196, 185, 94, 15, 10, 30, 79, 82, 14...</td>\n    </tr>\n    <tr>\n      <th>3</th>\n      <td>3</td>\n      <td>9925</td>\n      <td>21</td>\n      <td>test</td>\n      <td>[1, 9, 11, 13, 5, 11, 11, 13, 12, 10, 21, 15, ...</td>\n    </tr>\n    <tr>\n      <th>4</th>\n      <td>4</td>\n      <td>16936</td>\n      <td>21</td>\n      <td>test</td>\n      <td>[9, 25, 40, 31, 21, 43, 7, 34, 151, 32, 28, 25...</td>\n    </tr>\n    <tr>\n      <th>...</th>\n      <td>...</td>\n      <td>...</td>\n      <td>...</td>\n      <td>...</td>\n      <td>...</td>\n    </tr>\n    <tr>\n      <th>189</th>\n      <td>189</td>\n      <td>1101769</td>\n      <td>21</td>\n      <td>test</td>\n      <td>[8, 3, 0, 0, 18, 20, 22, 17, 14, 1, 0, 2, 0, 0...</td>\n    </tr>\n    <tr>\n      <th>190</th>\n      <td>190</td>\n      <td>1103056</td>\n      <td>19</td>\n      <td>test</td>\n      <td>[8, 12, 28, 27, 20, 17, 24, 19, 12, 7, 18, 11,...</td>\n    </tr>\n    <tr>\n      <th>191</th>\n      <td>191</td>\n      <td>1105009</td>\n      <td>18</td>\n      <td>validation</td>\n      <td>[5, 5, 10, 17, 17, 4, 6, 9, 4, 7, 2, 6, 6, 7, ...</td>\n    </tr>\n    <tr>\n      <th>192</th>\n      <td>192</td>\n      <td>1105018</td>\n      <td>17</td>\n      <td>test</td>\n      <td>[3, 6, 11, 4, 7, 8, 6, 7, 10, 12, 4, 10, 10, 1...</td>\n    </tr>\n    <tr>\n      <th>193</th>\n      <td>193</td>\n      <td>1105027</td>\n      <td>17</td>\n      <td>test</td>\n      <td>[3, 11, 10, 7, 16, 13, 10, 12, 7, 8, 12, 6, 5,...</td>\n    </tr>\n  </tbody>\n</table>\n<p>194 rows × 5 columns</p>\n</div>"
     },
     "execution_count": 5,
     "metadata": {},
     "output_type": "execute_result"
    }
   ],
   "source": [
    "sales_points"
   ],
   "metadata": {
    "collapsed": false,
    "pycharm": {
     "name": "#%%\n"
    }
   }
  },
  {
   "cell_type": "code",
   "execution_count": 28,
   "outputs": [],
   "source": [
    "def build_arima_model(lis_data,result,order=(5,1,0),show_fig=False,show_summary=False):\n",
    "    model = ARIMA(lis_data, order=order)\n",
    "    model_fit = model.fit()\n",
    "    if show_summary:\n",
    "        # summary of fit model\n",
    "        print(model_fit.summary())\n",
    "\n",
    "    if show_fig:\n",
    "        # line plot of residuals\n",
    "        residuals = pd.DataFrame(model_fit.resid)\n",
    "        residuals.plot()\n",
    "        plt.show()\n",
    "        # density plot of residuals\n",
    "        residuals.plot(kind='kde')\n",
    "        plt.show()\n",
    "        # summary stats of residuals\n",
    "        print(residuals.describe())\n",
    "\n",
    "    result[\"arima_model\"] = model\n",
    "    result[\"model_data\"] = model_fit\n",
    "    return result"
   ],
   "metadata": {
    "collapsed": false,
    "pycharm": {
     "name": "#%%\n"
    }
   }
  },
  {
   "cell_type": "code",
   "execution_count": 29,
   "outputs": [
    {
     "name": "stderr",
     "output_type": "stream",
     "text": [
      "d:\\competitions\\datastorm-2022\\venv\\lib\\site-packages\\statsmodels\\tsa\\statespace\\sarimax.py:966: UserWarning: Non-stationary starting autoregressive parameters found. Using zeros as starting parameters.\n",
      "  warn('Non-stationary starting autoregressive parameters'\n"
     ]
    },
    {
     "name": "stdout",
     "output_type": "stream",
     "text": [
      "                               SARIMAX Results                                \n",
      "==============================================================================\n",
      "Dep. Variable:                      y   No. Observations:                   21\n",
      "Model:                 ARIMA(5, 1, 0)   Log Likelihood                 -89.420\n",
      "Date:                Sat, 26 Mar 2022   AIC                            190.840\n",
      "Time:                        15:32:31   BIC                            196.815\n",
      "Sample:                             0   HQIC                           192.006\n",
      "                                 - 21                                         \n",
      "Covariance Type:                  opg                                         \n",
      "==============================================================================\n",
      "                 coef    std err          z      P>|z|      [0.025      0.975]\n",
      "------------------------------------------------------------------------------\n",
      "ar.L1         -0.7380      0.331     -2.230      0.026      -1.387      -0.089\n",
      "ar.L2         -0.3865      0.471     -0.820      0.412      -1.310       0.537\n",
      "ar.L3         -0.4409      0.400     -1.103      0.270      -1.224       0.343\n",
      "ar.L4         -0.3363      0.271     -1.241      0.215      -0.867       0.195\n",
      "ar.L5         -0.4201      0.392     -1.071      0.284      -1.189       0.349\n",
      "sigma2       405.7664    146.363      2.772      0.006     118.900     692.633\n",
      "===================================================================================\n",
      "Ljung-Box (L1) (Q):                   0.11   Jarque-Bera (JB):                 3.24\n",
      "Prob(Q):                              0.74   Prob(JB):                         0.20\n",
      "Heteroskedasticity (H):              20.32   Skew:                            -0.58\n",
      "Prob(H) (two-sided):                  0.00   Kurtosis:                         4.59\n",
      "===================================================================================\n",
      "\n",
      "Warnings:\n",
      "[1] Covariance matrix calculated using the outer product of gradients (complex-step).\n"
     ]
    },
    {
     "data": {
      "text/plain": "<Figure size 432x288 with 1 Axes>",
      "image/png": "[encoded data removed]"
     },
     "metadata": {
      "needs_background": "light"
     },
     "output_type": "display_data"
    },
    {
     "data": {
      "text/plain": "<Figure size 432x288 with 1 Axes>",
      "image/png": "[encoded data removed]"
     },
     "metadata": {
      "needs_background": "light"
     },
     "output_type": "display_data"
    },
    {
     "name": "stdout",
     "output_type": "stream",
     "text": [
      "               0\n",
      "count  21.000000\n",
      "mean    6.851326\n",
      "std    20.130941\n",
      "min   -48.584513\n",
      "25%    -0.539034\n",
      "50%     5.461493\n",
      "75%    21.619300\n",
      "max    47.479677\n"
     ]
    }
   ],
   "source": [
    "models_list = {}\n",
    "for i in sales_points.index:\n",
    "    result = dict()\n",
    "    product_series = sales_points.iloc[i]\n",
    "    result[\"input_data\"] = product_series\n",
    "    __data = eval(product_series[\"WeeklySales\"])\n",
    "    build_arima_model(__data,result,show_fig=True,show_summary=True)\n",
    "\n",
    "    models_list[product_series[\"ItemCode\"]] = result\n",
    "    break"
   ],
   "metadata": {
    "collapsed": false,
    "pycharm": {
     "name": "#%%\n"
    }
   }
  },
  {
   "cell_type": "code",
   "execution_count": null,
   "outputs": [],
   "source": [],
   "metadata": {
    "collapsed": false,
    "pycharm": {
     "name": "#%%\n"
    }
   }
  }
 ],
 "metadata": {
  "kernelspec": {
   "display_name": "Python 3",
   "language": "python",
   "name": "python3"
  },
  "language_info": {
   "codemirror_mode": {
    "name": "ipython",
    "version": 2
   },
   "file_extension": ".py",
   "mimetype": "text/x-python",
   "name": "python",
   "nbconvert_exporter": "python",
   "pygments_lexer": "ipython2",
   "version": "2.7.6"
  }
 },
 "nbformat": 4,
 "nbformat_minor": 0
}