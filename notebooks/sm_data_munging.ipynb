{
 "cells": [
  {
   "cell_type": "code",
   "execution_count": 1,
   "metadata": {},
   "outputs": [],
   "source": [
    "import pandas as pd"
   ]
  },
  {
   "cell_type": "code",
   "execution_count": 2,
   "metadata": {},
   "outputs": [],
   "source": [
    "train_df = pd.read_csv('../data/Semi Finals Case/train_data.csv')\n",
    "promo_df = pd.read_csv('../data/Semi Finals Case/promotion_data.csv')\n",
    "val_df = pd.read_csv('../data/Semi Finals Case/validation_data.csv')\n",
    "test_df = pd.read_csv('../data/Semi Finals Case/test_data.csv')"
   ]
  },
  {
   "cell_type": "code",
   "execution_count": 3,
   "metadata": {},
   "outputs": [
    {
     "data": {
      "text/html": [
       "<div><div id=4e7bacf7-ee41-4ee8-8ebb-c179e911c1b7 style=\"display:none; background-color:#9D6CFF; color:white; width:200px; height:30px; padding-left:5px; border-radius:4px; flex-direction:row; justify-content:space-around; align-items:center;\" onmouseover=\"this.style.backgroundColor='#BA9BF8'\" onmouseout=\"this.style.backgroundColor='#9D6CFF'\" onclick=\"window.commands?.execute('create-mitosheet-from-dataframe-output');\">See Full Dataframe in Mito</div> <script> if (window.commands.hasCommand('create-mitosheet-from-dataframe-output')) document.getElementById('4e7bacf7-ee41-4ee8-8ebb-c179e911c1b7').style.display = 'flex' </script> <table border=\"1\" class=\"dataframe\">\n",
       "  <thead>\n",
       "    <tr style=\"text-align: right;\">\n",
       "      <th></th>\n",
       "      <th>CategoryCode</th>\n",
       "      <th>ItemCode</th>\n",
       "      <th>DateID</th>\n",
       "      <th>DailySales</th>\n",
       "    </tr>\n",
       "  </thead>\n",
       "  <tbody>\n",
       "    <tr>\n",
       "      <th>0</th>\n",
       "      <td>category_2</td>\n",
       "      <td>1071115</td>\n",
       "      <td>12/19/2021</td>\n",
       "      <td>1</td>\n",
       "    </tr>\n",
       "    <tr>\n",
       "      <th>1</th>\n",
       "      <td>category_4</td>\n",
       "      <td>210652</td>\n",
       "      <td>2/13/2022</td>\n",
       "      <td>1</td>\n",
       "    </tr>\n",
       "    <tr>\n",
       "      <th>2</th>\n",
       "      <td>category_2</td>\n",
       "      <td>877624</td>\n",
       "      <td>12/19/2021</td>\n",
       "      <td>1</td>\n",
       "    </tr>\n",
       "    <tr>\n",
       "      <th>3</th>\n",
       "      <td>category_1</td>\n",
       "      <td>371104</td>\n",
       "      <td>12/19/2021</td>\n",
       "      <td>3</td>\n",
       "    </tr>\n",
       "    <tr>\n",
       "      <th>4</th>\n",
       "      <td>category_1</td>\n",
       "      <td>1090294</td>\n",
       "      <td>12/19/2021</td>\n",
       "      <td>3</td>\n",
       "    </tr>\n",
       "  </tbody>\n",
       "</table></div>"
      ],
      "text/plain": [
       "  CategoryCode  ItemCode      DateID  DailySales\n",
       "0   category_2   1071115  12/19/2021           1\n",
       "1   category_4    210652   2/13/2022           1\n",
       "2   category_2    877624  12/19/2021           1\n",
       "3   category_1    371104  12/19/2021           3\n",
       "4   category_1   1090294  12/19/2021           3"
      ]
     },
     "execution_count": 3,
     "metadata": {},
     "output_type": "execute_result"
    }
   ],
   "source": [
    "train_df.head()"
   ]
  },
  {
   "cell_type": "code",
   "execution_count": 4,
   "metadata": {},
   "outputs": [
    {
     "data": {
      "text/html": [
       "<div><div id=73b4192a-ae6f-4ccf-8662-565ee286a4fc style=\"display:none; background-color:#9D6CFF; color:white; width:200px; height:30px; padding-left:5px; border-radius:4px; flex-direction:row; justify-content:space-around; align-items:center;\" onmouseover=\"this.style.backgroundColor='#BA9BF8'\" onmouseout=\"this.style.backgroundColor='#9D6CFF'\" onclick=\"window.commands?.execute('create-mitosheet-from-dataframe-output');\">See Full Dataframe in Mito</div> <script> if (window.commands.hasCommand('create-mitosheet-from-dataframe-output')) document.getElementById('73b4192a-ae6f-4ccf-8662-565ee286a4fc').style.display = 'flex' </script> <table border=\"1\" class=\"dataframe\">\n",
       "  <thead>\n",
       "    <tr style=\"text-align: right;\">\n",
       "      <th></th>\n",
       "      <th>ItemCode</th>\n",
       "      <th>PromotionStartDate</th>\n",
       "      <th>PromotionEndDate</th>\n",
       "      <th>DiscountValue</th>\n",
       "      <th>DiscountType</th>\n",
       "      <th>SellingPrice</th>\n",
       "    </tr>\n",
       "  </thead>\n",
       "  <tbody>\n",
       "    <tr>\n",
       "      <th>0</th>\n",
       "      <td>379249</td>\n",
       "      <td>12/3/2021</td>\n",
       "      <td>12/9/2021</td>\n",
       "      <td>10</td>\n",
       "      <td>Percentage</td>\n",
       "      <td>70</td>\n",
       "    </tr>\n",
       "    <tr>\n",
       "      <th>1</th>\n",
       "      <td>1066570</td>\n",
       "      <td>11/19/2021</td>\n",
       "      <td>11/25/2021</td>\n",
       "      <td>15</td>\n",
       "      <td>Percentage</td>\n",
       "      <td>45</td>\n",
       "    </tr>\n",
       "    <tr>\n",
       "      <th>2</th>\n",
       "      <td>124954</td>\n",
       "      <td>10/29/2021</td>\n",
       "      <td>11/4/2021</td>\n",
       "      <td>15</td>\n",
       "      <td>Percentage</td>\n",
       "      <td>210</td>\n",
       "    </tr>\n",
       "    <tr>\n",
       "      <th>3</th>\n",
       "      <td>35530</td>\n",
       "      <td>10/22/2021</td>\n",
       "      <td>10/28/2021</td>\n",
       "      <td>15</td>\n",
       "      <td>Percentage</td>\n",
       "      <td>60</td>\n",
       "    </tr>\n",
       "    <tr>\n",
       "      <th>4</th>\n",
       "      <td>1013335</td>\n",
       "      <td>1/21/2022</td>\n",
       "      <td>1/27/2022</td>\n",
       "      <td>10</td>\n",
       "      <td>Percentage</td>\n",
       "      <td>210</td>\n",
       "    </tr>\n",
       "  </tbody>\n",
       "</table></div>"
      ],
      "text/plain": [
       "   ItemCode PromotionStartDate PromotionEndDate  DiscountValue DiscountType  \\\n",
       "0    379249          12/3/2021        12/9/2021             10   Percentage   \n",
       "1   1066570         11/19/2021       11/25/2021             15   Percentage   \n",
       "2    124954         10/29/2021        11/4/2021             15   Percentage   \n",
       "3     35530         10/22/2021       10/28/2021             15   Percentage   \n",
       "4   1013335          1/21/2022        1/27/2022             10   Percentage   \n",
       "\n",
       "   SellingPrice  \n",
       "0            70  \n",
       "1            45  \n",
       "2           210  \n",
       "3            60  \n",
       "4           210  "
      ]
     },
     "execution_count": 4,
     "metadata": {},
     "output_type": "execute_result"
    }
   ],
   "source": [
    "promo_df.head()"
   ]
  },
  {
   "cell_type": "code",
   "execution_count": 7,
   "metadata": {},
   "outputs": [
    {
     "name": "stdout",
     "output_type": "stream",
     "text": [
      "(314, 6) 66\n"
     ]
    }
   ],
   "source": [
    "print(promo_df.shape, promo_df['ItemCode'].nunique())"
   ]
  },
  {
   "cell_type": "code",
   "execution_count": 10,
   "metadata": {},
   "outputs": [],
   "source": [
    "train_df['DateID'] = pd.to_datetime(train_df['DateID'])\n",
    "promo_df['PromotionStartDate'] = pd.to_datetime(promo_df['PromotionStartDate'])\n",
    "promo_df['PromotionEndDate'] = pd.to_datetime(promo_df['PromotionEndDate'])"
   ]
  },
  {
   "cell_type": "code",
   "execution_count": null,
   "metadata": {},
   "outputs": [],
   "source": [
    "prms_dict = promo_df.groupby('ItemCode')['PromotionStartDate'].agg(list).to_dict()\n",
    "prme_dict = promo_df.groupby('ItemCode')['PromotionEndDate'].agg(list).to_dict()\n",
    "prmp_dict = {item: list(zip(prms_dict[item], prme_dict[item])) for item in prme_dict}\n",
    "prmp_dict"
   ]
  },
  {
   "cell_type": "code",
   "execution_count": 29,
   "metadata": {},
   "outputs": [],
   "source": [
    "sub_dfs = []\n",
    "for item in promo_df['ItemCode'].values:\n",
    "    flt_df = train_df.copy().loc[train_df['ItemCode']==item, :]\n",
    "    for ps, pe in prmp_dict[item]:\n",
    "        sub_df = flt_df.copy().loc[(flt_df['DateID']>ps)&(flt_df['DateID']<pe), :]\n",
    "        promo_row = list(promo_df.copy().loc[(promo_df['ItemCode']==item)&(promo_df['PromotionStartDate']==ps), :].values[0])\n",
    "        sub_df['PromoStarted'] = promo_row[1]\n",
    "        sub_df['PromoEnded'] = promo_row[2]\n",
    "        sub_df['DiscountValue'] = promo_row[3]\n",
    "        sub_df['DiscountType'] = promo_row[4]\n",
    "        sub_df['SellingPrice'] = promo_row[5]\n",
    "        sub_dfs.append(sub_df)\n",
    "    "
   ]
  },
  {
   "cell_type": "code",
   "execution_count": 28,
   "metadata": {},
   "outputs": [
    {
     "data": {
      "text/plain": [
       "(20651, 4)"
      ]
     },
     "execution_count": 28,
     "metadata": {},
     "output_type": "execute_result"
    }
   ],
   "source": [
    "train_df.shape"
   ]
  },
  {
   "cell_type": "code",
   "execution_count": 30,
   "metadata": {},
   "outputs": [],
   "source": [
    "full_flt_df = pd.concat(sub_dfs)"
   ]
  },
  {
   "cell_type": "code",
   "execution_count": 31,
   "metadata": {},
   "outputs": [
    {
     "data": {
      "text/plain": [
       "(8912, 9)"
      ]
     },
     "execution_count": 31,
     "metadata": {},
     "output_type": "execute_result"
    }
   ],
   "source": [
    "full_flt_df.shape"
   ]
  },
  {
   "cell_type": "code",
   "execution_count": 32,
   "metadata": {},
   "outputs": [
    {
     "data": {
      "text/html": [
       "<div><div id=e0b75651-ed7e-42ad-afd9-0ccdd656abbd style=\"display:none; background-color:#9D6CFF; color:white; width:200px; height:30px; padding-left:5px; border-radius:4px; flex-direction:row; justify-content:space-around; align-items:center;\" onmouseover=\"this.style.backgroundColor='#BA9BF8'\" onmouseout=\"this.style.backgroundColor='#9D6CFF'\" onclick=\"window.commands?.execute('create-mitosheet-from-dataframe-output');\">See Full Dataframe in Mito</div> <script> if (window.commands.hasCommand('create-mitosheet-from-dataframe-output')) document.getElementById('e0b75651-ed7e-42ad-afd9-0ccdd656abbd').style.display = 'flex' </script> <table border=\"1\" class=\"dataframe\">\n",
       "  <thead>\n",
       "    <tr style=\"text-align: right;\">\n",
       "      <th></th>\n",
       "      <th>CategoryCode</th>\n",
       "      <th>ItemCode</th>\n",
       "      <th>DateID</th>\n",
       "      <th>DailySales</th>\n",
       "      <th>PromoStarted</th>\n",
       "      <th>PromoEnded</th>\n",
       "      <th>DiscountValue</th>\n",
       "      <th>DiscountType</th>\n",
       "      <th>SellingPrice</th>\n",
       "    </tr>\n",
       "  </thead>\n",
       "  <tbody>\n",
       "    <tr>\n",
       "      <th>2059</th>\n",
       "      <td>category_1</td>\n",
       "      <td>379249</td>\n",
       "      <td>2021-12-04</td>\n",
       "      <td>9</td>\n",
       "      <td>2021-12-03</td>\n",
       "      <td>2021-12-09</td>\n",
       "      <td>10</td>\n",
       "      <td>Percentage</td>\n",
       "      <td>70</td>\n",
       "    </tr>\n",
       "    <tr>\n",
       "      <th>2483</th>\n",
       "      <td>category_1</td>\n",
       "      <td>379249</td>\n",
       "      <td>2021-12-07</td>\n",
       "      <td>11</td>\n",
       "      <td>2021-12-03</td>\n",
       "      <td>2021-12-09</td>\n",
       "      <td>10</td>\n",
       "      <td>Percentage</td>\n",
       "      <td>70</td>\n",
       "    </tr>\n",
       "    <tr>\n",
       "      <th>9468</th>\n",
       "      <td>category_1</td>\n",
       "      <td>379249</td>\n",
       "      <td>2021-12-05</td>\n",
       "      <td>9</td>\n",
       "      <td>2021-12-03</td>\n",
       "      <td>2021-12-09</td>\n",
       "      <td>10</td>\n",
       "      <td>Percentage</td>\n",
       "      <td>70</td>\n",
       "    </tr>\n",
       "    <tr>\n",
       "      <th>9636</th>\n",
       "      <td>category_1</td>\n",
       "      <td>379249</td>\n",
       "      <td>2021-12-08</td>\n",
       "      <td>9</td>\n",
       "      <td>2021-12-03</td>\n",
       "      <td>2021-12-09</td>\n",
       "      <td>10</td>\n",
       "      <td>Percentage</td>\n",
       "      <td>70</td>\n",
       "    </tr>\n",
       "    <tr>\n",
       "      <th>19537</th>\n",
       "      <td>category_1</td>\n",
       "      <td>379249</td>\n",
       "      <td>2021-12-06</td>\n",
       "      <td>6</td>\n",
       "      <td>2021-12-03</td>\n",
       "      <td>2021-12-09</td>\n",
       "      <td>10</td>\n",
       "      <td>Percentage</td>\n",
       "      <td>70</td>\n",
       "    </tr>\n",
       "  </tbody>\n",
       "</table></div>"
      ],
      "text/plain": [
       "      CategoryCode  ItemCode     DateID  DailySales PromoStarted PromoEnded  \\\n",
       "2059    category_1    379249 2021-12-04           9   2021-12-03 2021-12-09   \n",
       "2483    category_1    379249 2021-12-07          11   2021-12-03 2021-12-09   \n",
       "9468    category_1    379249 2021-12-05           9   2021-12-03 2021-12-09   \n",
       "9636    category_1    379249 2021-12-08           9   2021-12-03 2021-12-09   \n",
       "19537   category_1    379249 2021-12-06           6   2021-12-03 2021-12-09   \n",
       "\n",
       "       DiscountValue DiscountType  SellingPrice  \n",
       "2059              10   Percentage            70  \n",
       "2483              10   Percentage            70  \n",
       "9468              10   Percentage            70  \n",
       "9636              10   Percentage            70  \n",
       "19537             10   Percentage            70  "
      ]
     },
     "execution_count": 32,
     "metadata": {},
     "output_type": "execute_result"
    }
   ],
   "source": [
    "full_flt_df.head()"
   ]
  },
  {
   "cell_type": "code",
   "execution_count": 33,
   "metadata": {},
   "outputs": [],
   "source": [
    "full_flt_df.to_csv('../data/Semi Finals Case/merged_promo_item_df.csv', index=False)"
   ]
  },
  {
   "cell_type": "code",
   "execution_count": null,
   "metadata": {},
   "outputs": [],
   "source": []
  }
 ],
 "metadata": {
  "interpreter": {
   "hash": "aacd9efd2e917f2085b49ad3eecd2bc8a974d0bb8b89bc48afae7fa44e9f517f"
  },
  "kernelspec": {
   "display_name": "Python 3.9.7 ('base')",
   "language": "python",
   "name": "python3"
  },
  "language_info": {
   "codemirror_mode": {
    "name": "ipython",
    "version": 3
   },
   "file_extension": ".py",
   "mimetype": "text/x-python",
   "name": "python",
   "nbconvert_exporter": "python",
   "pygments_lexer": "ipython3",
   "version": "3.9.7"
  },
  "orig_nbformat": 4
 },
 "nbformat": 4,
 "nbformat_minor": 2
}
