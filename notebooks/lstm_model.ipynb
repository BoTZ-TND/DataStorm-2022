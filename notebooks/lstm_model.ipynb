{
 "cells": [
  {
   "cell_type": "code",
   "execution_count": 1,
   "metadata": {},
   "outputs": [],
   "source": [
    "import pandas as pd\n",
    "import numpy as np\n",
    "import tensorflow as tf \n",
    "from tensorflow.keras.models import Model, Sequential\n",
    "from tensorflow.keras.layers import LSTM, Dense, SimpleRNN, GRU, ReLU\n",
    "from tensorflow.keras.losses import MAPE\n",
    "\n",
    "from collections import OrderedDict"
   ]
  },
  {
   "cell_type": "code",
   "execution_count": 2,
   "metadata": {},
   "outputs": [
    {
     "data": {
      "text/html": [
       "<div>\n",
       "<style scoped>\n",
       "    .dataframe tbody tr th:only-of-type {\n",
       "        vertical-align: middle;\n",
       "    }\n",
       "\n",
       "    .dataframe tbody tr th {\n",
       "        vertical-align: top;\n",
       "    }\n",
       "\n",
       "    .dataframe thead th {\n",
       "        text-align: right;\n",
       "    }\n",
       "</style>\n",
       "<table border=\"1\" class=\"dataframe\">\n",
       "  <thead>\n",
       "    <tr style=\"text-align: right;\">\n",
       "      <th></th>\n",
       "      <th>Unnamed: 0</th>\n",
       "      <th>ItemCode</th>\n",
       "      <th>Date</th>\n",
       "      <th>DailySales</th>\n",
       "      <th>CategoryCode</th>\n",
       "    </tr>\n",
       "  </thead>\n",
       "  <tbody>\n",
       "    <tr>\n",
       "      <th>0</th>\n",
       "      <td>0</td>\n",
       "      <td>3418</td>\n",
       "      <td>2021-10-01</td>\n",
       "      <td>18</td>\n",
       "      <td>category_1</td>\n",
       "    </tr>\n",
       "    <tr>\n",
       "      <th>1</th>\n",
       "      <td>1</td>\n",
       "      <td>3418</td>\n",
       "      <td>2021-10-02</td>\n",
       "      <td>3</td>\n",
       "      <td>category_1</td>\n",
       "    </tr>\n",
       "    <tr>\n",
       "      <th>2</th>\n",
       "      <td>2</td>\n",
       "      <td>3418</td>\n",
       "      <td>2021-10-03</td>\n",
       "      <td>8</td>\n",
       "      <td>category_1</td>\n",
       "    </tr>\n",
       "    <tr>\n",
       "      <th>3</th>\n",
       "      <td>3</td>\n",
       "      <td>3418</td>\n",
       "      <td>2021-10-04</td>\n",
       "      <td>2</td>\n",
       "      <td>category_1</td>\n",
       "    </tr>\n",
       "    <tr>\n",
       "      <th>4</th>\n",
       "      <td>4</td>\n",
       "      <td>3418</td>\n",
       "      <td>2021-10-05</td>\n",
       "      <td>4</td>\n",
       "      <td>category_1</td>\n",
       "    </tr>\n",
       "  </tbody>\n",
       "</table>\n",
       "</div>"
      ],
      "text/plain": [
       "   Unnamed: 0  ItemCode        Date  DailySales CategoryCode\n",
       "0           0      3418  2021-10-01          18   category_1\n",
       "1           1      3418  2021-10-02           3   category_1\n",
       "2           2      3418  2021-10-03           8   category_1\n",
       "3           3      3418  2021-10-04           2   category_1\n",
       "4           4      3418  2021-10-05           4   category_1"
      ]
     },
     "execution_count": 2,
     "metadata": {},
     "output_type": "execute_result"
    }
   ],
   "source": [
    "train_df = pd.read_csv('../data/train_dataV3.csv')\n",
    "train_df.head()"
   ]
  },
  {
   "cell_type": "code",
   "execution_count": 3,
   "metadata": {},
   "outputs": [
    {
     "data": {
      "text/html": [
       "<div>\n",
       "<style scoped>\n",
       "    .dataframe tbody tr th:only-of-type {\n",
       "        vertical-align: middle;\n",
       "    }\n",
       "\n",
       "    .dataframe tbody tr th {\n",
       "        vertical-align: top;\n",
       "    }\n",
       "\n",
       "    .dataframe thead th {\n",
       "        text-align: right;\n",
       "    }\n",
       "</style>\n",
       "<table border=\"1\" class=\"dataframe\">\n",
       "  <thead>\n",
       "    <tr style=\"text-align: right;\">\n",
       "      <th></th>\n",
       "      <th>Unnamed: 0</th>\n",
       "      <th>ItemCode</th>\n",
       "      <th>#sales</th>\n",
       "      <th>stage</th>\n",
       "      <th>WeeklySales</th>\n",
       "    </tr>\n",
       "  </thead>\n",
       "  <tbody>\n",
       "    <tr>\n",
       "      <th>0</th>\n",
       "      <td>0</td>\n",
       "      <td>3418</td>\n",
       "      <td>21</td>\n",
       "      <td>validation</td>\n",
       "      <td>[29, 42, 41, 41, 44, 46, 43, 49, 54, 69, 101, ...</td>\n",
       "    </tr>\n",
       "    <tr>\n",
       "      <th>1</th>\n",
       "      <td>1</td>\n",
       "      <td>3427</td>\n",
       "      <td>21</td>\n",
       "      <td>validation</td>\n",
       "      <td>[11, 40, 20, 48, 54, 28, 36, 52, 42, 57, 46, 4...</td>\n",
       "    </tr>\n",
       "    <tr>\n",
       "      <th>2</th>\n",
       "      <td>2</td>\n",
       "      <td>7666</td>\n",
       "      <td>21</td>\n",
       "      <td>validation</td>\n",
       "      <td>[84, 119, 196, 185, 94, 15, 10, 30, 79, 82, 14...</td>\n",
       "    </tr>\n",
       "    <tr>\n",
       "      <th>3</th>\n",
       "      <td>3</td>\n",
       "      <td>9925</td>\n",
       "      <td>21</td>\n",
       "      <td>test</td>\n",
       "      <td>[1, 9, 11, 13, 5, 11, 11, 13, 12, 10, 21, 15, ...</td>\n",
       "    </tr>\n",
       "    <tr>\n",
       "      <th>4</th>\n",
       "      <td>4</td>\n",
       "      <td>16936</td>\n",
       "      <td>21</td>\n",
       "      <td>test</td>\n",
       "      <td>[9, 25, 40, 31, 21, 43, 7, 34, 151, 32, 28, 25...</td>\n",
       "    </tr>\n",
       "  </tbody>\n",
       "</table>\n",
       "</div>"
      ],
      "text/plain": [
       "   Unnamed: 0  ...                                        WeeklySales\n",
       "0           0  ...  [29, 42, 41, 41, 44, 46, 43, 49, 54, 69, 101, ...\n",
       "1           1  ...  [11, 40, 20, 48, 54, 28, 36, 52, 42, 57, 46, 4...\n",
       "2           2  ...  [84, 119, 196, 185, 94, 15, 10, 30, 79, 82, 14...\n",
       "3           3  ...  [1, 9, 11, 13, 5, 11, 11, 13, 12, 10, 21, 15, ...\n",
       "4           4  ...  [9, 25, 40, 31, 21, 43, 7, 34, 151, 32, 28, 25...\n",
       "\n",
       "[5 rows x 5 columns]"
      ]
     },
     "execution_count": 3,
     "metadata": {},
     "output_type": "execute_result"
    }
   ],
   "source": [
    "sale_df = pd.read_csv('../data/SalesPointsV2.csv')\n",
    "sale_df.head()"
   ]
  },
  {
   "cell_type": "code",
   "execution_count": 4,
   "metadata": {},
   "outputs": [],
   "source": [
    "# split a univariate sequence into samples\n",
    "def split_sequence(sequence, n_steps):\n",
    "\tX, y = list(), list()\n",
    "\tfor i in range(len(sequence)):\n",
    "\t\t# find the end of this pattern\n",
    "\t\tend_ix = i + n_steps\n",
    "\t\t# check if we are beyond the sequence\n",
    "\t\tif end_ix > len(sequence)-1:\n",
    "\t\t\tbreak\n",
    "\t\t# gather input and output parts of the pattern\n",
    "\t\tseq_x, seq_y = sequence[i:end_ix], sequence[end_ix]\n",
    "\t\tX.append(seq_x)\n",
    "\t\ty.append(seq_y)\n",
    "\treturn array(X), array(y)"
   ]
  },
  {
   "cell_type": "code",
   "execution_count": 5,
   "metadata": {},
   "outputs": [],
   "source": [
    "from numpy import array\n",
    "import random\n",
    "# split a univariate sequence into samples\n",
    "def split_sequence(sequence, n_steps):\n",
    "    X, y = list(), list()\n",
    "    for i in range(len(sequence)):\n",
    "        # find the end of this pattern\n",
    "        end_ix = i + n_steps\n",
    "        # check if we are beyond the sequence\n",
    "        if end_ix > len(sequence)-1:\n",
    "            break\n",
    "        # gather input and output parts of the pattern\n",
    "        rnd_ind = random.choice([0, 1, 2, 3,])\n",
    "        seq_x, seq_y = sequence[i+rnd_ind:end_ix+rnd_ind], sequence[end_ix+rnd_ind:end_ix+rnd_ind+4]\n",
    "\n",
    "        if len(seq_y) == 4:\n",
    "            X.append(seq_x)\n",
    "            y.append(seq_y)\n",
    "        else:\n",
    "            return X, y\n",
    " \n",
    "# define input sequence\n",
    "# raw_seq = range(10, 1000, 10)\n",
    "# choose a number of time steps\n",
    "\n",
    "# n_steps = 10\n",
    "# split into samples\n",
    "# X, y = split_sequence(raw_seq, n_steps)\n",
    "# summarize the data\n",
    "# for i in range(len(X)):\n",
    "#     print(X[i], y[i])"
   ]
  },
  {
   "cell_type": "code",
   "execution_count": 6,
   "metadata": {},
   "outputs": [],
   "source": [
    "def dataset_gen(df):\n",
    "    X_dataset, y_dataset = [], []\n",
    "    for l in df['WeeklySales'].values:\n",
    "        x, y = split_sequence(eval(l), 15)\n",
    "        X_dataset.extend(x)\n",
    "        y_dataset.extend(y)\n",
    "\n",
    "    return np.array(X_dataset), np.array(y_dataset)\n",
    "    "
   ]
  },
  {
   "cell_type": "code",
   "execution_count": 7,
   "metadata": {},
   "outputs": [
    {
     "data": {
      "text/plain": [
       "array([[42, 41, 41, ..., 39, 83, 85],\n",
       "       [42, 41, 41, ..., 39, 83, 85],\n",
       "       [11, 40, 20, ..., 78, 32, 66],\n",
       "       ...,\n",
       "       [22, 26, 14, ..., 27, 31, 53],\n",
       "       [ 3,  0,  0, ...,  0,  5,  7],\n",
       "       [ 3,  0,  0, ...,  0,  5,  7]])"
      ]
     },
     "execution_count": 7,
     "metadata": {},
     "output_type": "execute_result"
    }
   ],
   "source": [
    "X_dt, y_dt = dataset_gen(sale_df)\n",
    "X_dt"
   ]
  },
  {
   "cell_type": "code",
   "execution_count": 8,
   "metadata": {},
   "outputs": [
    {
     "data": {
      "text/plain": [
       "(225, 15)"
      ]
     },
     "execution_count": 8,
     "metadata": {},
     "output_type": "execute_result"
    }
   ],
   "source": [
    "X_dt.shape"
   ]
  },
  {
   "cell_type": "code",
   "execution_count": 9,
   "metadata": {},
   "outputs": [
    {
     "name": "stdout",
     "output_type": "stream",
     "text": [
      "WARNING:tensorflow:Layer gru will not use cuDNN kernels since it doesn't meet the criteria. It will use a generic GPU kernel as fallback when running on GPU.\n"
     ]
    }
   ],
   "source": [
    "# define model\n",
    "model = Sequential()\n",
    "model.add(GRU(20, activation='relu', input_shape=(15, 1)))\n",
    "model.add(Dense(4))\n",
    "model.add(ReLU())\n",
    "\n",
    "opt = tf.keras.optimizers.Adagrad(learning_rate=0.02)\n",
    "model.compile(optimizer=opt, loss='mape')"
   ]
  },
  {
   "cell_type": "code",
   "execution_count": 10,
   "metadata": {},
   "outputs": [],
   "source": [
    "# reshape from [samples, timesteps] into [samples, timesteps, features]\n",
    "n_features = 1\n",
    "X_dt = X_dt.reshape((X_dt.shape[0], X_dt.shape[1], n_features))"
   ]
  },
  {
   "cell_type": "code",
   "execution_count": 11,
   "metadata": {},
   "outputs": [
    {
     "data": {
      "text/plain": [
       "<keras.callbacks.History at 0x1b90b09ca30>"
      ]
     },
     "execution_count": 11,
     "metadata": {},
     "output_type": "execute_result"
    }
   ],
   "source": [
    "# fit model\n",
    "model.fit(X_dt, y_dt, epochs=200, verbose=0)#, batch_size=4)"
   ]
  },
  {
   "cell_type": "code",
   "execution_count": 12,
   "metadata": {},
   "outputs": [
    {
     "data": {
      "text/plain": [
       "ItemCode\n",
       "3418          [25, 69, 120, 69]\n",
       "3427            [7, 56, 72, 33]\n",
       "7666               [48, 16, 17]\n",
       "17287          [57, 60, 83, 64]\n",
       "17296      [366, 514, 728, 771]\n",
       "                   ...         \n",
       "1097143        [43, 47, 32, 27]\n",
       "1098493           [10, 8, 9, 9]\n",
       "1098502            [7, 6, 7, 4]\n",
       "1101661        [64, 69, 54, 88]\n",
       "1105009        [11, 10, 10, 19]\n",
       "Name: WeeklySales, Length: 95, dtype: object"
      ]
     },
     "execution_count": 12,
     "metadata": {},
     "output_type": "execute_result"
    }
   ],
   "source": [
    "val_df = pd.read_csv('../data/validation_data.csv').sort_values(by=['ItemCode', 'Week'])\n",
    "sales = val_df.groupby('ItemCode')['WeeklySales'].agg(list)\n",
    "# val_df['Sales'] = val_df['ItemCode'].map(sales)\n",
    "# val_df.head()\n",
    "sales"
   ]
  },
  {
   "cell_type": "code",
   "execution_count": 13,
   "metadata": {},
   "outputs": [],
   "source": [
    "def dataset_vgen(train_df, val_ser):\n",
    "    tr_df = train_df.copy().set_index('ItemCode')\n",
    "    X_dataset, y_dataset = [], []\n",
    "    for i,l in tr_df.loc[tr_df['stage']=='validation', ['WeeklySales']].to_dict()['WeeklySales'].items():\n",
    "        x = eval(l)[-15:]\n",
    "        X_dataset.append(x)\n",
    "        y_dataset.append(val_ser[i])\n",
    "\n",
    "    return np.array(X_dataset), np.array(y_dataset)"
   ]
  },
  {
   "cell_type": "code",
   "execution_count": 14,
   "metadata": {},
   "outputs": [
    {
     "name": "stderr",
     "output_type": "stream",
     "text": [
      "C:\\Users\\deela\\AppData\\Local\\Temp/ipykernel_41392/2016506750.py:9: VisibleDeprecationWarning: Creating an ndarray from ragged nested sequences (which is a list-or-tuple of lists-or-tuples-or ndarrays with different lengths or shapes) is deprecated. If you meant to do this, you must specify 'dtype=object' when creating the ndarray\n",
      "  return np.array(X_dataset), np.array(y_dataset)\n"
     ]
    }
   ],
   "source": [
    "X_val, y_val = dataset_vgen(sale_df, sales)"
   ]
  },
  {
   "cell_type": "code",
   "execution_count": 15,
   "metadata": {},
   "outputs": [],
   "source": [
    "y_hat = model(X_val).numpy()"
   ]
  },
  {
   "cell_type": "code",
   "execution_count": 16,
   "metadata": {},
   "outputs": [],
   "source": [
    "from sklearn.metrics import mean_absolute_percentage_error"
   ]
  },
  {
   "cell_type": "code",
   "execution_count": null,
   "metadata": {},
   "outputs": [],
   "source": [
    "print(y_val.ravel(), y_val.ravel())"
   ]
  },
  {
   "cell_type": "code",
   "execution_count": null,
   "metadata": {},
   "outputs": [],
   "source": [
    "mean_absolute_percentage_error(y_val.ravel(), y_val.ravel())"
   ]
  },
  {
   "cell_type": "code",
   "execution_count": 18,
   "metadata": {},
   "outputs": [],
   "source": [
    "def dataset_tgen(train_df):\n",
    "    tr_df = train_df.copy().set_index('ItemCode')\n",
    "    X_dataset = []\n",
    "    for i,l in tr_df.loc[tr_df['stage']=='test', ['WeeklySales']].to_dict()['WeeklySales'].items():\n",
    "        x = eval(l)[-15:]\n",
    "        X_dataset.append(x)\n",
    "    tr_df.reset_index(inplace=True)\n",
    "    return np.array(X_dataset), tr_df.loc[tr_df['stage']=='test', ['ItemCode']].values"
   ]
  },
  {
   "cell_type": "code",
   "execution_count": 19,
   "metadata": {},
   "outputs": [],
   "source": [
    "X_test, item_idx = dataset_tgen(sale_df)"
   ]
  },
  {
   "cell_type": "code",
   "execution_count": 20,
   "metadata": {},
   "outputs": [],
   "source": [
    "y_test = model(X_test).numpy()"
   ]
  },
  {
   "cell_type": "code",
   "execution_count": 21,
   "metadata": {},
   "outputs": [],
   "source": [
    "I2C_map = pd.Series(train_df.CategoryCode.values,index=train_df.ItemCode).to_dict()"
   ]
  },
  {
   "cell_type": "code",
   "execution_count": 22,
   "metadata": {},
   "outputs": [],
   "source": [
    "labels = []\n",
    "for i in range(y_test.shape[0]):\n",
    "    it = item_idx[i][0]\n",
    "    labels.extend([f\"{I2C_map[it]}_{it}_w1\", f'{I2C_map[it]}_{it}_w2', f'{I2C_map[it]}_{it}_w3', f'{I2C_map[it]}_{it}_w4'])"
   ]
  },
  {
   "cell_type": "code",
   "execution_count": 23,
   "metadata": {},
   "outputs": [],
   "source": [
    "test_dict = {'ID': labels, 'WeeklySales': y_test.astype(np.int).ravel()}\n",
    "res_df = pd.DataFrame(test_dict)"
   ]
  },
  {
   "cell_type": "code",
   "execution_count": 24,
   "metadata": {},
   "outputs": [
    {
     "data": {
      "text/html": [
       "<div>\n",
       "<style scoped>\n",
       "    .dataframe tbody tr th:only-of-type {\n",
       "        vertical-align: middle;\n",
       "    }\n",
       "\n",
       "    .dataframe tbody tr th {\n",
       "        vertical-align: top;\n",
       "    }\n",
       "\n",
       "    .dataframe thead th {\n",
       "        text-align: right;\n",
       "    }\n",
       "</style>\n",
       "<table border=\"1\" class=\"dataframe\">\n",
       "  <thead>\n",
       "    <tr style=\"text-align: right;\">\n",
       "      <th></th>\n",
       "      <th>ID</th>\n",
       "      <th>WeeklySales</th>\n",
       "    </tr>\n",
       "  </thead>\n",
       "  <tbody>\n",
       "    <tr>\n",
       "      <th>0</th>\n",
       "      <td>category_2_9925_w1</td>\n",
       "      <td>0</td>\n",
       "    </tr>\n",
       "    <tr>\n",
       "      <th>1</th>\n",
       "      <td>category_2_9925_w2</td>\n",
       "      <td>0</td>\n",
       "    </tr>\n",
       "    <tr>\n",
       "      <th>2</th>\n",
       "      <td>category_2_9925_w3</td>\n",
       "      <td>0</td>\n",
       "    </tr>\n",
       "    <tr>\n",
       "      <th>3</th>\n",
       "      <td>category_2_9925_w4</td>\n",
       "      <td>0</td>\n",
       "    </tr>\n",
       "    <tr>\n",
       "      <th>4</th>\n",
       "      <td>category_3_16936_w1</td>\n",
       "      <td>0</td>\n",
       "    </tr>\n",
       "  </tbody>\n",
       "</table>\n",
       "</div>"
      ],
      "text/plain": [
       "                    ID  WeeklySales\n",
       "0   category_2_9925_w1            0\n",
       "1   category_2_9925_w2            0\n",
       "2   category_2_9925_w3            0\n",
       "3   category_2_9925_w4            0\n",
       "4  category_3_16936_w1            0"
      ]
     },
     "execution_count": 24,
     "metadata": {},
     "output_type": "execute_result"
    }
   ],
   "source": [
    "res_df.head()"
   ]
  },
  {
   "cell_type": "code",
   "execution_count": 25,
   "metadata": {},
   "outputs": [],
   "source": [
    "res_df.to_csv('../data/answer2.csv')"
   ]
  },
  {
   "cell_type": "code",
   "execution_count": null,
   "metadata": {},
   "outputs": [],
   "source": []
  }
 ],
 "metadata": {
  "interpreter": {
   "hash": "aacd9efd2e917f2085b49ad3eecd2bc8a974d0bb8b89bc48afae7fa44e9f517f"
  },
  "kernelspec": {
   "display_name": "Python 3.9.7 ('base')",
   "language": "python",
   "name": "python3"
  },
  "language_info": {
   "codemirror_mode": {
    "name": "ipython",
    "version": 3
   },
   "file_extension": ".py",
   "mimetype": "text/x-python",
   "name": "python",
   "nbconvert_exporter": "python",
   "pygments_lexer": "ipython3",
   "version": "3.9.7"
  },
  "orig_nbformat": 4
 },
 "nbformat": 4,
 "nbformat_minor": 2
}
