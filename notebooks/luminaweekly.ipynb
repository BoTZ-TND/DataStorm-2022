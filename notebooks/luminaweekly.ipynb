{
 "cells": [
  {
   "cell_type": "code",
   "execution_count": 24,
   "metadata": {},
   "outputs": [],
   "source": [
    "import pandas as pd\n",
    "import numpy as np\n",
    "from datetime import datetime\n",
    "import matplotlib.pyplot as plt\n",
    "\n",
    "import luminaire\n",
    "from luminaire.model.window_density import WindowDensityHyperParams, WindowDensityModel\n",
    "from luminaire.exploration.data_exploration import DataExploration"
   ]
  },
  {
   "cell_type": "code",
   "execution_count": 25,
   "metadata": {},
   "outputs": [
    {
     "name": "stdout",
     "output_type": "stream",
     "text": [
      "21\n"
     ]
    }
   ],
   "source": [
    "print( len(pd.date_range('2021-09-30', '2022-02-25',freq='W')))"
   ]
  },
  {
   "cell_type": "code",
   "execution_count": 26,
   "metadata": {},
   "outputs": [
    {
     "data": {
      "text/html": [
       "<div>\n",
       "<style scoped>\n",
       "    .dataframe tbody tr th:only-of-type {\n",
       "        vertical-align: middle;\n",
       "    }\n",
       "\n",
       "    .dataframe tbody tr th {\n",
       "        vertical-align: top;\n",
       "    }\n",
       "\n",
       "    .dataframe thead th {\n",
       "        text-align: right;\n",
       "    }\n",
       "</style>\n",
       "<table border=\"1\" class=\"dataframe\">\n",
       "  <thead>\n",
       "    <tr style=\"text-align: right;\">\n",
       "      <th></th>\n",
       "      <th>raw</th>\n",
       "    </tr>\n",
       "    <tr>\n",
       "      <th>index</th>\n",
       "      <th></th>\n",
       "    </tr>\n",
       "  </thead>\n",
       "  <tbody>\n",
       "    <tr>\n",
       "      <th>2021-10-03</th>\n",
       "      <td>1</td>\n",
       "    </tr>\n",
       "    <tr>\n",
       "      <th>2021-10-10</th>\n",
       "      <td>12</td>\n",
       "    </tr>\n",
       "    <tr>\n",
       "      <th>2021-10-17</th>\n",
       "      <td>6</td>\n",
       "    </tr>\n",
       "    <tr>\n",
       "      <th>2021-10-24</th>\n",
       "      <td>6</td>\n",
       "    </tr>\n",
       "    <tr>\n",
       "      <th>2021-10-31</th>\n",
       "      <td>10</td>\n",
       "    </tr>\n",
       "  </tbody>\n",
       "</table>\n",
       "</div>"
      ],
      "text/plain": [
       "            raw\n",
       "index          \n",
       "2021-10-03    1\n",
       "2021-10-10   12\n",
       "2021-10-17    6\n",
       "2021-10-24    6\n",
       "2021-10-31   10"
      ]
     },
     "execution_count": 26,
     "metadata": {},
     "output_type": "execute_result"
    }
   ],
   "source": [
    "#17\n",
    "weekly_sales = [1, 12, 6, 6, 10, 11, 7, 3, 2, 4, 12, 7, 4, 4, 8, 7, 7, 6, 8, 0, 11]\n",
    "\n",
    "data = pd.DataFrame({'index': pd.date_range('2021-10-01', '2022-02-25',freq='W'),'raw': weekly_sales}) #Each list would be added as a row\n",
    "data = data.set_index('index')\n",
    "\n",
    "data.head()"
   ]
  },
  {
   "cell_type": "code",
   "execution_count": 27,
   "metadata": {},
   "outputs": [
    {
     "data": {
      "text/plain": [
       "[<matplotlib.lines.Line2D at 0x295812b0a20>]"
      ]
     },
     "execution_count": 27,
     "metadata": {},
     "output_type": "execute_result"
    },
    {
     "data": {
      "image/png": "[encoded data removed]",
      "text/plain": [
       "<Figure size 720x432 with 1 Axes>"
      ]
     },
     "metadata": {
      "needs_background": "light"
     },
     "output_type": "display_data"
    }
   ],
   "source": [
    "plt.figure(figsize=(10,6))\n",
    "plt.plot(data['raw'].values)"
   ]
  },
  {
   "cell_type": "code",
   "execution_count": 31,
   "metadata": {},
   "outputs": [],
   "source": [
    "def change_point_plot(data, profile_summary):\n",
    "    if (profile_summary['change_point_list']):\n",
    "        print(profile_summary['change_point_list'])\n",
    "        change_point_list = list(profile_summary['change_point_list'])\n",
    "    else:\n",
    "        change_point_list=[]\n",
    "        \n",
    "    if profile_summary['trend_change_list']:\n",
    "        trend_change_list = list(profile_summary['trend_change_list'])\n",
    "    else:\n",
    "        trend_change_list = []\n",
    "\n",
    "    trendline = data[data.index.isin(trend_change_list)]\n",
    "\n",
    "    # https://stackoverflow.com/questions/47404678/valueerror-unconverted-data-remains-000000\n",
    "    plt.figure(figsize=(16,6))\n",
    "    plt.plot(data['raw'], linestyle = '-')\n",
    "    plt.title('The Data',fontsize=14)\n",
    "\n",
    "    #view change points\n",
    "    if change_point_list != []:\n",
    "        for x in change_point_list:\n",
    "            #print(x,type(x))\n",
    "            x1= datetime.strptime(x,'%Y-%m-%d %H:%M:%S' )\n",
    "            plt.axvline(x1,lw=2, color='red')\n",
    "\n",
    "    #view trend changes\n",
    "    if trend_change_list != []:\n",
    "        for x in trend_change_list:\n",
    "            #print(x,type(x))\n",
    "            x1= datetime.strptime(x,'%Y-%m-%d %H:%M:%S' )\n",
    "            plt.axvline(x1,lw=2, color='blue')\n",
    "\n",
    "    #trend line\n",
    "    plt.plot(trendline,lw=2, linestyle='dashed', color = 'green')\n",
    "    plt.show()\n",
    "\n"
   ]
  },
  {
   "cell_type": "code",
   "execution_count": 47,
   "metadata": {},
   "outputs": [],
   "source": [
    "weekly_sales = [1, 12, 6, 6, 10, 11, 7, 3, 2, 4, 12, 7, 4, 4, 8, 7, 7, 6, 8, 0, 11] \n",
    "data = pd.DataFrame({'index': pd.date_range('2021-10-01', '2022-02-25',freq='W'),'raw': weekly_sales}) #Each list would be added as a row\n",
    "data = data.set_index('index')\n",
    "from luminaire.optimization.hyperparameter_optimization import HyperparameterOptimization\n",
    "\n",
    "def predict_daylumina(data):\n",
    "    op = HyperparameterOptimization(freq='W')\n",
    "    optimz = op.run(data=data)\n",
    "    de_optimz = DataExploration(freq='W',change_point_threshold=0.5, **optimz)\n",
    "    data2, data_pre_prc = de_optimz.profile(data)\n",
    "    #change_point_plot(data, data_pre_prc)\n",
    "    \n",
    "    print(optimz['LuminaireModel'])\n",
    "\n",
    "    if optimz['LuminaireModel']== 'LADFilteringModel':\n",
    "        #If Kalman filter for anomally\n",
    "        day_model_class_name = optimz['LuminaireModel']\n",
    "        day_module = __import__('luminaire.model', fromlist=[''])\n",
    "        day_model_class = getattr(day_module, day_model_class_name)\n",
    "\n",
    "        day_model_object = day_model_class(hyper_params=optimz, freq='W')\n",
    "        day_success, day_model_date, day_trained_model = day_model_object.train(data=data2, **data_pre_prc)\n",
    "\n",
    "\n",
    "    else:\n",
    "        #If Structural model for anomally \n",
    "        from luminaire.model.lad_structural import LADStructuralModel\n",
    "        hyper_params = {\"include_holidays_exog\": False, \"is_log_transformed\": True, \"max_ft_freq\": 2, \"p\": 1, \"q\": 1}\n",
    "        lad_struct_obj = LADStructuralModel(hyper_params=hyper_params, freq='W') \n",
    "        #print(lad_struct_obj)\n",
    "\n",
    "        day_success, day_model_date, day_trained_model = lad_struct_obj.train(data=data2, **data_pre_prc)\n",
    "\n",
    "    \n",
    "\n",
    "    print(day_success, day_model_date, day_trained_model)\n",
    "\n",
    "    output_pred = pd.DataFrame()\n",
    "    for i in data.index:\n",
    "        actual = data.loc[i,'raw']\n",
    "        output = day_trained_model.score(actual, i)\n",
    "        tmp = pd.DataFrame.from_dict(output[0], orient='index').T\n",
    "        tmp['Actual'] = actual\n",
    "        output_pred = output_pred.append(tmp)  \n",
    "\n",
    "    output_pred['Prediction'] = output_pred['Prediction'].astype(float)\n",
    "    output_pred['PredStdErr'] = output_pred['PredStdErr'].astype(float)    \n",
    "    output_pred['Upper'] = output_pred['Prediction'] + 3 * output_pred['PredStdErr'] \n",
    "    output_pred['Lower'] = output_pred['Prediction'] - 3 * output_pred['PredStdErr'] \n",
    "    output_pred[output_pred['IsAnomaly']==True]\n",
    "    output_pred.index = data.index\n",
    "        "
   ]
  },
  {
   "cell_type": "code",
   "execution_count": 48,
   "metadata": {},
   "outputs": [
    {
     "name": "stdout",
     "output_type": "stream",
     "text": [
      "100%|██████████| 50/50 [00:00<00:00, 173.54trial/s, best loss: 1e+100]\n",
      "LADStructuralModel\n"
     ]
    },
    {
     "ename": "TypeError",
     "evalue": "_training() missing 2 required positional arguments: 'ts_start' and 'ts_end'",
     "output_type": "error",
     "traceback": [
      "\u001b[1;31m---------------------------------------------------------------------------\u001b[0m",
      "\u001b[1;31mTypeError\u001b[0m                                 Traceback (most recent call last)",
      "\u001b[1;32m<ipython-input-48-f201cff13fa3>\u001b[0m in \u001b[0;36m<module>\u001b[1;34m\u001b[0m\n\u001b[1;32m----> 1\u001b[1;33m \u001b[0mpredict_daylumina\u001b[0m\u001b[1;33m(\u001b[0m\u001b[0mdata\u001b[0m\u001b[1;33m)\u001b[0m\u001b[1;33m\u001b[0m\u001b[1;33m\u001b[0m\u001b[0m\n\u001b[0m",
      "\u001b[1;32m<ipython-input-47-31b18147455d>\u001b[0m in \u001b[0;36mpredict_daylumina\u001b[1;34m(data)\u001b[0m\n\u001b[0;32m     30\u001b[0m         \u001b[1;31m#print(lad_struct_obj)\u001b[0m\u001b[1;33m\u001b[0m\u001b[1;33m\u001b[0m\u001b[1;33m\u001b[0m\u001b[0m\n\u001b[0;32m     31\u001b[0m \u001b[1;33m\u001b[0m\u001b[0m\n\u001b[1;32m---> 32\u001b[1;33m         \u001b[0mday_success\u001b[0m\u001b[1;33m,\u001b[0m \u001b[0mday_model_date\u001b[0m\u001b[1;33m,\u001b[0m \u001b[0mday_trained_model\u001b[0m \u001b[1;33m=\u001b[0m \u001b[0mlad_struct_obj\u001b[0m\u001b[1;33m.\u001b[0m\u001b[0mtrain\u001b[0m\u001b[1;33m(\u001b[0m\u001b[0mdata\u001b[0m\u001b[1;33m=\u001b[0m\u001b[0mdata2\u001b[0m\u001b[1;33m,\u001b[0m \u001b[1;33m**\u001b[0m\u001b[0mdata_pre_prc\u001b[0m\u001b[1;33m)\u001b[0m\u001b[1;33m\u001b[0m\u001b[1;33m\u001b[0m\u001b[0m\n\u001b[0m\u001b[0;32m     33\u001b[0m \u001b[1;33m\u001b[0m\u001b[0m\n\u001b[0;32m     34\u001b[0m \u001b[1;33m\u001b[0m\u001b[0m\n",
      "\u001b[1;32m~\\anaconda3\\envs\\lumina\\lib\\site-packages\\luminaire\\model\\lad_structural.py\u001b[0m in \u001b[0;36mtrain\u001b[1;34m(self, data, optimize, **kwargs)\u001b[0m\n\u001b[0;32m    485\u001b[0m                                        \u001b[0minclude_holidays\u001b[0m\u001b[1;33m=\u001b[0m\u001b[0mself\u001b[0m\u001b[1;33m.\u001b[0m\u001b[0m_params\u001b[0m\u001b[1;33m[\u001b[0m\u001b[1;34m'include_holidays_exog'\u001b[0m\u001b[1;33m]\u001b[0m\u001b[1;33m,\u001b[0m\u001b[1;33m\u001b[0m\u001b[1;33m\u001b[0m\u001b[0m\n\u001b[0;32m    486\u001b[0m                                        \u001b[0moptimize\u001b[0m\u001b[1;33m=\u001b[0m\u001b[0moptimize\u001b[0m\u001b[1;33m,\u001b[0m\u001b[1;33m\u001b[0m\u001b[1;33m\u001b[0m\u001b[0m\n\u001b[1;32m--> 487\u001b[1;33m                                        \u001b[1;33m**\u001b[0m\u001b[0mkwargs\u001b[0m\u001b[1;33m\u001b[0m\u001b[1;33m\u001b[0m\u001b[0m\n\u001b[0m\u001b[0;32m    488\u001b[0m                                        )\n\u001b[0;32m    489\u001b[0m \u001b[1;33m\u001b[0m\u001b[0m\n",
      "\u001b[1;31mTypeError\u001b[0m: _training() missing 2 required positional arguments: 'ts_start' and 'ts_end'"
     ]
    }
   ],
   "source": [
    "predict_daylumina(data)"
   ]
  }
 ],
 "metadata": {
  "interpreter": {
   "hash": "ce8e003234014f2eaa3aff1954d5269c545beb598d8a2ce9c713b3324ead1c3f"
  },
  "kernelspec": {
   "display_name": "Python 3.6.13 ('lumina')",
   "language": "python",
   "name": "python3"
  },
  "language_info": {
   "codemirror_mode": {
    "name": "ipython",
    "version": 3
   },
   "file_extension": ".py",
   "mimetype": "text/x-python",
   "name": "python",
   "nbconvert_exporter": "python",
   "pygments_lexer": "ipython3",
   "version": "3.6.13"
  },
  "orig_nbformat": 4
 },
 "nbformat": 4,
 "nbformat_minor": 2
}
