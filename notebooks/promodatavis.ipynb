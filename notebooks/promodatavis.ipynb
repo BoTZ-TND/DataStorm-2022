{
 "cells": [
  {
   "cell_type": "code",
   "execution_count": null,
   "metadata": {},
   "outputs": [],
   "source": [
    "import pandas as pd \n",
    "import numpy as np\n",
    "import matplotlib.pyplot as plt \n",
    "import seaborn as sns\n",
    "from functools import reduce\n",
    "import random"
   ]
  },
  {
   "cell_type": "code",
   "execution_count": null,
   "metadata": {},
   "outputs": [],
   "source": []
  },
  {
   "cell_type": "code",
   "execution_count": null,
   "metadata": {},
   "outputs": [],
   "source": [
    "Cpalette={'Blue': '#0055BF', 'Red': '#C91A09', 'Yellow': '#F2CD37'}\n",
    "with sns.plotting_context(\"talk\"):\n",
    "    sns.lineplot(x=Date_list, y=dSales, dashes=False, color='blue', markers='o')\n",
    "    g = sns.lineplot(x=W2D_list, y=wSales, linestyle=\"dashed\", color='blue', markers='o')\n",
    "    plt.setp(g.get_xticklabels(), rotation=90)"
   ]
  }
 ],
 "metadata": {
  "interpreter": {
   "hash": "ee3cbc6fc2c4ea3ea9ddd5e0b89290d83acfbf90d8057a58ad10e7cbdfe05b54"
  },
  "kernelspec": {
   "display_name": "Python 3.8.12 ('botz')",
   "language": "python",
   "name": "python3"
  },
  "language_info": {
   "codemirror_mode": {
    "name": "ipython",
    "version": 3
   },
   "file_extension": ".py",
   "mimetype": "text/x-python",
   "name": "python",
   "nbconvert_exporter": "python",
   "pygments_lexer": "ipython3",
   "version": "3.8.12"
  },
  "orig_nbformat": 4
 },
 "nbformat": 4,
 "nbformat_minor": 2
}
