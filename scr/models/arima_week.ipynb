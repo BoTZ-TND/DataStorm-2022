{
 "cells": [
  {
   "cell_type": "code",
   "execution_count": 98,
   "metadata": {
    "collapsed": true
   },
   "outputs": [],
   "source": [
    "import  pandas as pd\n",
    "from statsmodels.tsa.arima.model import ARIMA\n",
    "import matplotlib.pyplot as plt\n",
    "import numpy as np\n",
    "from tqdm import tqdm\n",
    "from sklearn.metrics import mean_squared_error\n",
    "from sklearn.metrics import mean_absolute_percentage_error"
   ]
  },
  {
   "cell_type": "code",
   "execution_count": 72,
   "outputs": [],
   "source": [
    "sales_points = pd.read_csv(\"D:\\\\Competitions\\\\DataStorm-2022\\\\data\\\\SalesPointsV2.csv\")"
   ],
   "metadata": {
    "collapsed": false,
    "pycharm": {
     "name": "#%%\n"
    }
   }
  },
  {
   "cell_type": "code",
   "execution_count": 73,
   "outputs": [
    {
     "data": {
      "text/plain": "     Unnamed: 0  ItemCode  #sales       stage  \\\n0             0      3418      21  validation   \n1             1      3427      21  validation   \n2             2      7666      21  validation   \n3             3      9925      21        test   \n4             4     16936      21        test   \n..          ...       ...     ...         ...   \n189         189   1101769      21        test   \n190         190   1103056      19        test   \n191         191   1105009      18  validation   \n192         192   1105018      17        test   \n193         193   1105027      17        test   \n\n                                           WeeklySales  \n0    [29, 42, 41, 41, 44, 46, 43, 49, 54, 69, 101, ...  \n1    [11, 40, 20, 48, 54, 28, 36, 52, 42, 57, 46, 4...  \n2    [84, 119, 196, 185, 94, 15, 10, 30, 79, 82, 14...  \n3    [1, 9, 11, 13, 5, 11, 11, 13, 12, 10, 21, 15, ...  \n4    [9, 25, 40, 31, 21, 43, 7, 34, 151, 32, 28, 25...  \n..                                                 ...  \n189  [8, 3, 0, 0, 18, 20, 22, 17, 14, 1, 0, 2, 0, 0...  \n190  [8, 12, 28, 27, 20, 17, 24, 19, 12, 7, 18, 11,...  \n191  [5, 5, 10, 17, 17, 4, 6, 9, 4, 7, 2, 6, 6, 7, ...  \n192  [3, 6, 11, 4, 7, 8, 6, 7, 10, 12, 4, 10, 10, 1...  \n193  [3, 11, 10, 7, 16, 13, 10, 12, 7, 8, 12, 6, 5,...  \n\n[194 rows x 5 columns]",
      "text/html": "<div>\n<style scoped>\n    .dataframe tbody tr th:only-of-type {\n        vertical-align: middle;\n    }\n\n    .dataframe tbody tr th {\n        vertical-align: top;\n    }\n\n    .dataframe thead th {\n        text-align: right;\n    }\n</style>\n<table border=\"1\" class=\"dataframe\">\n  <thead>\n    <tr style=\"text-align: right;\">\n      <th></th>\n      <th>Unnamed: 0</th>\n      <th>ItemCode</th>\n      <th>#sales</th>\n      <th>stage</th>\n      <th>WeeklySales</th>\n    </tr>\n  </thead>\n  <tbody>\n    <tr>\n      <th>0</th>\n      <td>0</td>\n      <td>3418</td>\n      <td>21</td>\n      <td>validation</td>\n      <td>[29, 42, 41, 41, 44, 46, 43, 49, 54, 69, 101, ...</td>\n    </tr>\n    <tr>\n      <th>1</th>\n      <td>1</td>\n      <td>3427</td>\n      <td>21</td>\n      <td>validation</td>\n      <td>[11, 40, 20, 48, 54, 28, 36, 52, 42, 57, 46, 4...</td>\n    </tr>\n    <tr>\n      <th>2</th>\n      <td>2</td>\n      <td>7666</td>\n      <td>21</td>\n      <td>validation</td>\n      <td>[84, 119, 196, 185, 94, 15, 10, 30, 79, 82, 14...</td>\n    </tr>\n    <tr>\n      <th>3</th>\n      <td>3</td>\n      <td>9925</td>\n      <td>21</td>\n      <td>test</td>\n      <td>[1, 9, 11, 13, 5, 11, 11, 13, 12, 10, 21, 15, ...</td>\n    </tr>\n    <tr>\n      <th>4</th>\n      <td>4</td>\n      <td>16936</td>\n      <td>21</td>\n      <td>test</td>\n      <td>[9, 25, 40, 31, 21, 43, 7, 34, 151, 32, 28, 25...</td>\n    </tr>\n    <tr>\n      <th>...</th>\n      <td>...</td>\n      <td>...</td>\n      <td>...</td>\n      <td>...</td>\n      <td>...</td>\n    </tr>\n    <tr>\n      <th>189</th>\n      <td>189</td>\n      <td>1101769</td>\n      <td>21</td>\n      <td>test</td>\n      <td>[8, 3, 0, 0, 18, 20, 22, 17, 14, 1, 0, 2, 0, 0...</td>\n    </tr>\n    <tr>\n      <th>190</th>\n      <td>190</td>\n      <td>1103056</td>\n      <td>19</td>\n      <td>test</td>\n      <td>[8, 12, 28, 27, 20, 17, 24, 19, 12, 7, 18, 11,...</td>\n    </tr>\n    <tr>\n      <th>191</th>\n      <td>191</td>\n      <td>1105009</td>\n      <td>18</td>\n      <td>validation</td>\n      <td>[5, 5, 10, 17, 17, 4, 6, 9, 4, 7, 2, 6, 6, 7, ...</td>\n    </tr>\n    <tr>\n      <th>192</th>\n      <td>192</td>\n      <td>1105018</td>\n      <td>17</td>\n      <td>test</td>\n      <td>[3, 6, 11, 4, 7, 8, 6, 7, 10, 12, 4, 10, 10, 1...</td>\n    </tr>\n    <tr>\n      <th>193</th>\n      <td>193</td>\n      <td>1105027</td>\n      <td>17</td>\n      <td>test</td>\n      <td>[3, 11, 10, 7, 16, 13, 10, 12, 7, 8, 12, 6, 5,...</td>\n    </tr>\n  </tbody>\n</table>\n<p>194 rows × 5 columns</p>\n</div>"
     },
     "execution_count": 73,
     "metadata": {},
     "output_type": "execute_result"
    }
   ],
   "source": [
    "sales_points"
   ],
   "metadata": {
    "collapsed": false,
    "pycharm": {
     "name": "#%%\n"
    }
   }
  },
  {
   "cell_type": "code",
   "execution_count": 74,
   "outputs": [],
   "source": [
    "from statsmodels.tsa.statespace.sarimax import SARIMAX\n",
    "\n",
    "\n",
    "def build_arima_model(lis_data,result,order=(5,0,0),show_fig=False,show_summary=False):\n",
    "    model = SARIMAX(lis_data, order=order)\n",
    "    model_fit = model.fit()\n",
    "    if show_summary:\n",
    "        # summary of fit model\n",
    "        print(model_fit.summary())\n",
    "\n",
    "    if show_fig:\n",
    "        # line plot of residuals\n",
    "        residuals = pd.DataFrame(model_fit.resid)\n",
    "        residuals.plot()\n",
    "        plt.show()\n",
    "        # density plot of residuals\n",
    "        residuals.plot(kind='kde')\n",
    "        plt.show()\n",
    "        # summary stats of residuals\n",
    "        print(residuals.describe())\n",
    "\n",
    "    result[\"arima_model\"] = model_fit\n",
    "    return result"
   ],
   "metadata": {
    "collapsed": false,
    "pycharm": {
     "name": "#%%\n"
    }
   }
  },
  {
   "cell_type": "code",
   "execution_count": 75,
   "outputs": [],
   "source": [
    "selected_data_points = sales_points"
   ],
   "metadata": {
    "collapsed": false,
    "pycharm": {
     "name": "#%%\n"
    }
   }
  },
  {
   "cell_type": "code",
   "execution_count": 76,
   "outputs": [
    {
     "name": "stderr",
     "output_type": "stream",
     "text": [
      "  0%|          | 0/194 [00:00<?, ?it/s]d:\\competitions\\datastorm-2022\\venv\\lib\\site-packages\\statsmodels\\tsa\\statespace\\sarimax.py:966: UserWarning: Non-stationary starting autoregressive parameters found. Using zeros as starting parameters.\n",
      "  warn('Non-stationary starting autoregressive parameters'\n",
      "100%|██████████| 194/194 [00:12<00:00, 15.95it/s]\n"
     ]
    }
   ],
   "source": [
    "models_list = {}\n",
    "for i in tqdm(selected_data_points.index):\n",
    "    result = dict()\n",
    "    product_series = sales_points.iloc[i]\n",
    "    result[\"input_data\"] = product_series\n",
    "    __data = eval(product_series[\"WeeklySales\"])\n",
    "    build_arima_model(__data,result,show_fig=False,show_summary=False)\n",
    "    model = result[\"arima_model\"]\n",
    "    fc = model.forecast(4,alpha=0.05)\n",
    "    fc_series = pd.Series(fc)\n",
    "    result[\"week_prediction\"] = fc_series\n",
    "    models_list[product_series[\"ItemCode\"]] = result"
   ],
   "metadata": {
    "collapsed": false,
    "pycharm": {
     "name": "#%%\n"
    }
   }
  },
  {
   "cell_type": "code",
   "execution_count": 77,
   "outputs": [],
   "source": [
    "def __day_filter_values(data):\n",
    "    output = {\n",
    "        \"ItemCode\":data[\"input_data\"][\"ItemCode\"]\n",
    "    }\n",
    "\n",
    "    __pred = data[\"week_prediction\"]\n",
    "\n",
    "    output[\"w1\"] = __pred[0]\n",
    "    output[\"w2\"] = __pred[1]\n",
    "    output[\"w3\"] = __pred[2]\n",
    "    output[\"w4\"] = __pred[3]\n",
    "\n",
    "    return output\n",
    "\n",
    "def day_series_filter_out(model_data):\n",
    "    output_df = {}\n",
    "    for __key in tqdm(model_data.keys()):\n",
    "        output_df[__key] = __day_filter_values(model_data[__key])\n",
    "\n",
    "    output_df = pd.DataFrame.from_dict(output_df,orient='index')\n",
    "    output_df = pd.melt(output_df,id_vars=[\"ItemCode\"],value_vars=[\"w1\",\"w2\",\"w3\",\"w4\"])\n",
    "    output_df.columns = [\"ItemCode\",\"Week\",\"WeeklySales\"]\n",
    "    return output_df"
   ],
   "metadata": {
    "collapsed": false,
    "pycharm": {
     "name": "#%%\n"
    }
   }
  },
  {
   "cell_type": "code",
   "execution_count": 78,
   "outputs": [
    {
     "name": "stderr",
     "output_type": "stream",
     "text": [
      "100%|██████████| 194/194 [00:00<00:00, 27731.41it/s]\n"
     ]
    }
   ],
   "source": [
    "out_df = day_series_filter_out(models_list)"
   ],
   "metadata": {
    "collapsed": false,
    "pycharm": {
     "name": "#%%\n"
    }
   }
  },
  {
   "cell_type": "code",
   "execution_count": 79,
   "outputs": [
    {
     "data": {
      "text/plain": "     ItemCode Week  WeeklySales\n0        3418   w1    30.058333\n1        3427   w1    26.496877\n2        7666   w1    37.996309\n3        9925   w1    10.353285\n4       16936   w1    47.482897\n..        ...  ...          ...\n771   1101769   w4    21.014883\n772   1103056   w4     8.155689\n773   1105009   w4     5.731597\n774   1105018   w4     5.538532\n775   1105027   w4     8.779291\n\n[776 rows x 3 columns]",
      "text/html": "<div>\n<style scoped>\n    .dataframe tbody tr th:only-of-type {\n        vertical-align: middle;\n    }\n\n    .dataframe tbody tr th {\n        vertical-align: top;\n    }\n\n    .dataframe thead th {\n        text-align: right;\n    }\n</style>\n<table border=\"1\" class=\"dataframe\">\n  <thead>\n    <tr style=\"text-align: right;\">\n      <th></th>\n      <th>ItemCode</th>\n      <th>Week</th>\n      <th>WeeklySales</th>\n    </tr>\n  </thead>\n  <tbody>\n    <tr>\n      <th>0</th>\n      <td>3418</td>\n      <td>w1</td>\n      <td>30.058333</td>\n    </tr>\n    <tr>\n      <th>1</th>\n      <td>3427</td>\n      <td>w1</td>\n      <td>26.496877</td>\n    </tr>\n    <tr>\n      <th>2</th>\n      <td>7666</td>\n      <td>w1</td>\n      <td>37.996309</td>\n    </tr>\n    <tr>\n      <th>3</th>\n      <td>9925</td>\n      <td>w1</td>\n      <td>10.353285</td>\n    </tr>\n    <tr>\n      <th>4</th>\n      <td>16936</td>\n      <td>w1</td>\n      <td>47.482897</td>\n    </tr>\n    <tr>\n      <th>...</th>\n      <td>...</td>\n      <td>...</td>\n      <td>...</td>\n    </tr>\n    <tr>\n      <th>771</th>\n      <td>1101769</td>\n      <td>w4</td>\n      <td>21.014883</td>\n    </tr>\n    <tr>\n      <th>772</th>\n      <td>1103056</td>\n      <td>w4</td>\n      <td>8.155689</td>\n    </tr>\n    <tr>\n      <th>773</th>\n      <td>1105009</td>\n      <td>w4</td>\n      <td>5.731597</td>\n    </tr>\n    <tr>\n      <th>774</th>\n      <td>1105018</td>\n      <td>w4</td>\n      <td>5.538532</td>\n    </tr>\n    <tr>\n      <th>775</th>\n      <td>1105027</td>\n      <td>w4</td>\n      <td>8.779291</td>\n    </tr>\n  </tbody>\n</table>\n<p>776 rows × 3 columns</p>\n</div>"
     },
     "execution_count": 79,
     "metadata": {},
     "output_type": "execute_result"
    }
   ],
   "source": [
    "out_df"
   ],
   "metadata": {
    "collapsed": false,
    "pycharm": {
     "name": "#%%\n"
    }
   }
  },
  {
   "cell_type": "code",
   "execution_count": 80,
   "outputs": [
    {
     "data": {
      "text/plain": "     ItemCode Week  WeeklySales\n1        3427   w1    26.496877\n195      3427   w2    23.920043\n389      3427   w3    21.951529\n583      3427   w4    27.440648",
      "text/html": "<div>\n<style scoped>\n    .dataframe tbody tr th:only-of-type {\n        vertical-align: middle;\n    }\n\n    .dataframe tbody tr th {\n        vertical-align: top;\n    }\n\n    .dataframe thead th {\n        text-align: right;\n    }\n</style>\n<table border=\"1\" class=\"dataframe\">\n  <thead>\n    <tr style=\"text-align: right;\">\n      <th></th>\n      <th>ItemCode</th>\n      <th>Week</th>\n      <th>WeeklySales</th>\n    </tr>\n  </thead>\n  <tbody>\n    <tr>\n      <th>1</th>\n      <td>3427</td>\n      <td>w1</td>\n      <td>26.496877</td>\n    </tr>\n    <tr>\n      <th>195</th>\n      <td>3427</td>\n      <td>w2</td>\n      <td>23.920043</td>\n    </tr>\n    <tr>\n      <th>389</th>\n      <td>3427</td>\n      <td>w3</td>\n      <td>21.951529</td>\n    </tr>\n    <tr>\n      <th>583</th>\n      <td>3427</td>\n      <td>w4</td>\n      <td>27.440648</td>\n    </tr>\n  </tbody>\n</table>\n</div>"
     },
     "execution_count": 80,
     "metadata": {},
     "output_type": "execute_result"
    }
   ],
   "source": [
    "out_df.loc[out_df[\"ItemCode\"] == 3427]"
   ],
   "metadata": {
    "collapsed": false,
    "pycharm": {
     "name": "#%%\n"
    }
   }
  },
  {
   "cell_type": "code",
   "execution_count": 92,
   "outputs": [],
   "source": [
    "validation_df = pd.read_csv(\"D:\\\\Competitions\\\\DataStorm-2022\\\\data\\\\validation_data.csv\")"
   ],
   "metadata": {
    "collapsed": false,
    "pycharm": {
     "name": "#%%\n"
    }
   }
  },
  {
   "cell_type": "code",
   "execution_count": 101,
   "outputs": [],
   "source": [
    "def select_val_item_codes(df):\n",
    "    validation_item_codes = list(set(pd.read_csv(\"D:\\\\Competitions\\\\DataStorm-2022\\\\data\\\\validation_data.csv\")[\"ItemCode\"].tolist()))\n",
    "    df=df.loc[df[\"ItemCode\"].isin(validation_item_codes)]\n",
    "    return df\n",
    "\n",
    "def evaluate_model_arima(true_df:pd.DataFrame,pred_df:pd.DataFrame):\n",
    "    pred_df = pred_df.sort_values(['ItemCode',\"Week\"])\n",
    "    true_df = true_df.sort_values(['ItemCode',\"Week\"])\n",
    "\n",
    "    merged =pd.merge(true_df,pred_df,on=[\"ItemCode\",\"Week\"],how=\"inner\")\n",
    "    merged[\"WeeklySales_y\"] = merged[\"WeeklySales_y\"].astype(int)\n",
    "\n",
    "    abs_error = mean_absolute_percentage_error(merged[\"WeeklySales_x\"],merged[\"WeeklySales_y\"])\n",
    "\n",
    "    return abs_error"
   ],
   "metadata": {
    "collapsed": false,
    "pycharm": {
     "name": "#%%\n"
    }
   }
  },
  {
   "cell_type": "code",
   "execution_count": 102,
   "outputs": [
    {
     "data": {
      "text/plain": "0.6920449286400434"
     },
     "execution_count": 102,
     "metadata": {},
     "output_type": "execute_result"
    }
   ],
   "source": [
    "evaluate_model_arima(validation_df,select_val_item_codes(out_df))"
   ],
   "metadata": {
    "collapsed": false,
    "pycharm": {
     "name": "#%%\n"
    }
   }
  },
  {
   "cell_type": "code",
   "execution_count": 104,
   "outputs": [],
   "source": [
    "out_df[\"WeeklySales\"] = out_df[\"WeeklySales\"].astype(int)\n",
    "out_df.to_csv(\"output_Lol.csv\",index=False)"
   ],
   "metadata": {
    "collapsed": false,
    "pycharm": {
     "name": "#%%\n"
    }
   }
  },
  {
   "cell_type": "code",
   "execution_count": null,
   "outputs": [],
   "source": [],
   "metadata": {
    "collapsed": false,
    "pycharm": {
     "name": "#%%\n"
    }
   }
  },
  {
   "cell_type": "code",
   "execution_count": null,
   "outputs": [],
   "source": [],
   "metadata": {
    "collapsed": false,
    "pycharm": {
     "name": "#%%\n"
    }
   }
  },
  {
   "cell_type": "code",
   "execution_count": null,
   "outputs": [],
   "source": [],
   "metadata": {
    "collapsed": false,
    "pycharm": {
     "name": "#%%\n"
    }
   }
  },
  {
   "cell_type": "code",
   "execution_count": 108,
   "outputs": [],
   "source": [
    "test_df = pd.read_csv(\"D:\\\\Competitions\\\\DataStorm-2022\\\\data\\\\test_data.csv\")"
   ],
   "metadata": {
    "collapsed": false,
    "pycharm": {
     "name": "#%%\n"
    }
   }
  },
  {
   "cell_type": "code",
   "execution_count": 111,
   "outputs": [
    {
     "data": {
      "text/plain": "    CategoryCode  ItemCode Week  PredictedSales\n0     category_1     43738   w4             NaN\n1     category_2   1006090   w1             NaN\n2     category_2   1076929   w4             NaN\n3     category_1   1081321   w3             NaN\n4     category_2    216151   w4             NaN\n..           ...       ...  ...             ...\n372   category_2   1101571   w1             NaN\n373   category_2   1090258   w4             NaN\n374   category_2    906595   w1             NaN\n375   category_2     32245   w1             NaN\n376   category_2   1006090   w2             NaN\n\n[377 rows x 4 columns]",
      "text/html": "<div>\n<style scoped>\n    .dataframe tbody tr th:only-of-type {\n        vertical-align: middle;\n    }\n\n    .dataframe tbody tr th {\n        vertical-align: top;\n    }\n\n    .dataframe thead th {\n        text-align: right;\n    }\n</style>\n<table border=\"1\" class=\"dataframe\">\n  <thead>\n    <tr style=\"text-align: right;\">\n      <th></th>\n      <th>CategoryCode</th>\n      <th>ItemCode</th>\n      <th>Week</th>\n      <th>PredictedSales</th>\n    </tr>\n  </thead>\n  <tbody>\n    <tr>\n      <th>0</th>\n      <td>category_1</td>\n      <td>43738</td>\n      <td>w4</td>\n      <td>NaN</td>\n    </tr>\n    <tr>\n      <th>1</th>\n      <td>category_2</td>\n      <td>1006090</td>\n      <td>w1</td>\n      <td>NaN</td>\n    </tr>\n    <tr>\n      <th>2</th>\n      <td>category_2</td>\n      <td>1076929</td>\n      <td>w4</td>\n      <td>NaN</td>\n    </tr>\n    <tr>\n      <th>3</th>\n      <td>category_1</td>\n      <td>1081321</td>\n      <td>w3</td>\n      <td>NaN</td>\n    </tr>\n    <tr>\n      <th>4</th>\n      <td>category_2</td>\n      <td>216151</td>\n      <td>w4</td>\n      <td>NaN</td>\n    </tr>\n    <tr>\n      <th>...</th>\n      <td>...</td>\n      <td>...</td>\n      <td>...</td>\n      <td>...</td>\n    </tr>\n    <tr>\n      <th>372</th>\n      <td>category_2</td>\n      <td>1101571</td>\n      <td>w1</td>\n      <td>NaN</td>\n    </tr>\n    <tr>\n      <th>373</th>\n      <td>category_2</td>\n      <td>1090258</td>\n      <td>w4</td>\n      <td>NaN</td>\n    </tr>\n    <tr>\n      <th>374</th>\n      <td>category_2</td>\n      <td>906595</td>\n      <td>w1</td>\n      <td>NaN</td>\n    </tr>\n    <tr>\n      <th>375</th>\n      <td>category_2</td>\n      <td>32245</td>\n      <td>w1</td>\n      <td>NaN</td>\n    </tr>\n    <tr>\n      <th>376</th>\n      <td>category_2</td>\n      <td>1006090</td>\n      <td>w2</td>\n      <td>NaN</td>\n    </tr>\n  </tbody>\n</table>\n<p>377 rows × 4 columns</p>\n</div>"
     },
     "execution_count": 111,
     "metadata": {},
     "output_type": "execute_result"
    }
   ],
   "source": [
    "test_df"
   ],
   "metadata": {
    "collapsed": false,
    "pycharm": {
     "name": "#%%\n"
    }
   }
  },
  {
   "cell_type": "code",
   "execution_count": 112,
   "outputs": [],
   "source": [
    "def create_submission_arima(pred_df:pd.DataFrame,attach_df:pd.DataFrame):\n",
    "    pred_df = pred_df.sort_values(['ItemCode',\"Week\"])\n",
    "    true_df = attach_df.sort_values(['ItemCode',\"Week\"])\n",
    "\n",
    "    merged =pd.merge(true_df,pred_df,on=[\"ItemCode\",\"Week\"],how=\"inner\")\n",
    "    merged= merged[[\"CategoryCode\",\"ItemCode\",\"Week\",\"WeeklySales\"]]\n",
    "    return merged"
   ],
   "metadata": {
    "collapsed": false,
    "pycharm": {
     "name": "#%%\n"
    }
   }
  },
  {
   "cell_type": "code",
   "execution_count": 113,
   "outputs": [
    {
     "data": {
      "text/plain": "    CategoryCode  ItemCode Week  WeeklySales\n0     category_2      9925   w1           10\n1     category_2      9925   w2            9\n2     category_2      9925   w3            8\n3     category_2      9925   w4           13\n4     category_3     16936   w1           47\n..           ...       ...  ...          ...\n372   category_2   1105018   w4            5\n373   category_2   1105027   w1           10\n374   category_2   1105027   w2            6\n375   category_2   1105027   w3           13\n376   category_2   1105027   w4            8\n\n[377 rows x 4 columns]",
      "text/html": "<div>\n<style scoped>\n    .dataframe tbody tr th:only-of-type {\n        vertical-align: middle;\n    }\n\n    .dataframe tbody tr th {\n        vertical-align: top;\n    }\n\n    .dataframe thead th {\n        text-align: right;\n    }\n</style>\n<table border=\"1\" class=\"dataframe\">\n  <thead>\n    <tr style=\"text-align: right;\">\n      <th></th>\n      <th>CategoryCode</th>\n      <th>ItemCode</th>\n      <th>Week</th>\n      <th>WeeklySales</th>\n    </tr>\n  </thead>\n  <tbody>\n    <tr>\n      <th>0</th>\n      <td>category_2</td>\n      <td>9925</td>\n      <td>w1</td>\n      <td>10</td>\n    </tr>\n    <tr>\n      <th>1</th>\n      <td>category_2</td>\n      <td>9925</td>\n      <td>w2</td>\n      <td>9</td>\n    </tr>\n    <tr>\n      <th>2</th>\n      <td>category_2</td>\n      <td>9925</td>\n      <td>w3</td>\n      <td>8</td>\n    </tr>\n    <tr>\n      <th>3</th>\n      <td>category_2</td>\n      <td>9925</td>\n      <td>w4</td>\n      <td>13</td>\n    </tr>\n    <tr>\n      <th>4</th>\n      <td>category_3</td>\n      <td>16936</td>\n      <td>w1</td>\n      <td>47</td>\n    </tr>\n    <tr>\n      <th>...</th>\n      <td>...</td>\n      <td>...</td>\n      <td>...</td>\n      <td>...</td>\n    </tr>\n    <tr>\n      <th>372</th>\n      <td>category_2</td>\n      <td>1105018</td>\n      <td>w4</td>\n      <td>5</td>\n    </tr>\n    <tr>\n      <th>373</th>\n      <td>category_2</td>\n      <td>1105027</td>\n      <td>w1</td>\n      <td>10</td>\n    </tr>\n    <tr>\n      <th>374</th>\n      <td>category_2</td>\n      <td>1105027</td>\n      <td>w2</td>\n      <td>6</td>\n    </tr>\n    <tr>\n      <th>375</th>\n      <td>category_2</td>\n      <td>1105027</td>\n      <td>w3</td>\n      <td>13</td>\n    </tr>\n    <tr>\n      <th>376</th>\n      <td>category_2</td>\n      <td>1105027</td>\n      <td>w4</td>\n      <td>8</td>\n    </tr>\n  </tbody>\n</table>\n<p>377 rows × 4 columns</p>\n</div>"
     },
     "execution_count": 113,
     "metadata": {},
     "output_type": "execute_result"
    }
   ],
   "source": [
    "create_submission_arima(out_df,test_df)"
   ],
   "metadata": {
    "collapsed": false,
    "pycharm": {
     "name": "#%%\n"
    }
   }
  },
  {
   "cell_type": "code",
   "execution_count": 81,
   "outputs": [],
   "source": [
    "#out_df.to_csv(\"out_put1.csv\",index=False)"
   ],
   "metadata": {
    "collapsed": false,
    "pycharm": {
     "name": "#%%\n"
    }
   }
  },
  {
   "cell_type": "code",
   "execution_count": 81,
   "outputs": [],
   "source": [],
   "metadata": {
    "collapsed": false,
    "pycharm": {
     "name": "#%%\n"
    }
   }
  }
 ],
 "metadata": {
  "kernelspec": {
   "display_name": "Python 3",
   "language": "python",
   "name": "python3"
  },
  "language_info": {
   "codemirror_mode": {
    "name": "ipython",
    "version": 2
   },
   "file_extension": ".py",
   "mimetype": "text/x-python",
   "name": "python",
   "nbconvert_exporter": "python",
   "pygments_lexer": "ipython2",
   "version": "2.7.6"
  }
 },
 "nbformat": 4,
 "nbformat_minor": 0
}