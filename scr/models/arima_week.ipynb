{
 "cells": [
  {
   "cell_type": "code",
   "execution_count": 11,
   "metadata": {
    "collapsed": true
   },
   "outputs": [],
   "source": [
    "import  pandas as pd\n",
    "from statsmodels.tsa.arima.model import ARIMA\n",
    "import matplotlib.pyplot as plt\n",
    "import numpy as np\n",
    "from tqdm import tqdm\n",
    "from sklearn.metrics import mean_squared_error"
   ]
  },
  {
   "cell_type": "code",
   "execution_count": 12,
   "outputs": [],
   "source": [
    "sales_points = pd.read_csv(\"D:\\\\Competitions\\\\DataStorm-2022\\\\data\\\\SalesPointsV2.csv\")"
   ],
   "metadata": {
    "collapsed": false,
    "pycharm": {
     "name": "#%%\n"
    }
   }
  },
  {
   "cell_type": "code",
   "execution_count": 13,
   "outputs": [
    {
     "data": {
      "text/plain": "     Unnamed: 0  ItemCode  #sales       stage  \\\n0             0      3418      21  validation   \n1             1      3427      21  validation   \n2             2      7666      21  validation   \n3             3      9925      21        test   \n4             4     16936      21        test   \n..          ...       ...     ...         ...   \n189         189   1101769      21        test   \n190         190   1103056      19        test   \n191         191   1105009      18  validation   \n192         192   1105018      17        test   \n193         193   1105027      17        test   \n\n                                           WeeklySales  \n0    [29, 42, 41, 41, 44, 46, 43, 49, 54, 69, 101, ...  \n1    [11, 40, 20, 48, 54, 28, 36, 52, 42, 57, 46, 4...  \n2    [84, 119, 196, 185, 94, 15, 10, 30, 79, 82, 14...  \n3    [1, 9, 11, 13, 5, 11, 11, 13, 12, 10, 21, 15, ...  \n4    [9, 25, 40, 31, 21, 43, 7, 34, 151, 32, 28, 25...  \n..                                                 ...  \n189  [8, 3, 0, 0, 18, 20, 22, 17, 14, 1, 0, 2, 0, 0...  \n190  [8, 12, 28, 27, 20, 17, 24, 19, 12, 7, 18, 11,...  \n191  [5, 5, 10, 17, 17, 4, 6, 9, 4, 7, 2, 6, 6, 7, ...  \n192  [3, 6, 11, 4, 7, 8, 6, 7, 10, 12, 4, 10, 10, 1...  \n193  [3, 11, 10, 7, 16, 13, 10, 12, 7, 8, 12, 6, 5,...  \n\n[194 rows x 5 columns]",
      "text/html": "<div>\n<style scoped>\n    .dataframe tbody tr th:only-of-type {\n        vertical-align: middle;\n    }\n\n    .dataframe tbody tr th {\n        vertical-align: top;\n    }\n\n    .dataframe thead th {\n        text-align: right;\n    }\n</style>\n<table border=\"1\" class=\"dataframe\">\n  <thead>\n    <tr style=\"text-align: right;\">\n      <th></th>\n      <th>Unnamed: 0</th>\n      <th>ItemCode</th>\n      <th>#sales</th>\n      <th>stage</th>\n      <th>WeeklySales</th>\n    </tr>\n  </thead>\n  <tbody>\n    <tr>\n      <th>0</th>\n      <td>0</td>\n      <td>3418</td>\n      <td>21</td>\n      <td>validation</td>\n      <td>[29, 42, 41, 41, 44, 46, 43, 49, 54, 69, 101, ...</td>\n    </tr>\n    <tr>\n      <th>1</th>\n      <td>1</td>\n      <td>3427</td>\n      <td>21</td>\n      <td>validation</td>\n      <td>[11, 40, 20, 48, 54, 28, 36, 52, 42, 57, 46, 4...</td>\n    </tr>\n    <tr>\n      <th>2</th>\n      <td>2</td>\n      <td>7666</td>\n      <td>21</td>\n      <td>validation</td>\n      <td>[84, 119, 196, 185, 94, 15, 10, 30, 79, 82, 14...</td>\n    </tr>\n    <tr>\n      <th>3</th>\n      <td>3</td>\n      <td>9925</td>\n      <td>21</td>\n      <td>test</td>\n      <td>[1, 9, 11, 13, 5, 11, 11, 13, 12, 10, 21, 15, ...</td>\n    </tr>\n    <tr>\n      <th>4</th>\n      <td>4</td>\n      <td>16936</td>\n      <td>21</td>\n      <td>test</td>\n      <td>[9, 25, 40, 31, 21, 43, 7, 34, 151, 32, 28, 25...</td>\n    </tr>\n    <tr>\n      <th>...</th>\n      <td>...</td>\n      <td>...</td>\n      <td>...</td>\n      <td>...</td>\n      <td>...</td>\n    </tr>\n    <tr>\n      <th>189</th>\n      <td>189</td>\n      <td>1101769</td>\n      <td>21</td>\n      <td>test</td>\n      <td>[8, 3, 0, 0, 18, 20, 22, 17, 14, 1, 0, 2, 0, 0...</td>\n    </tr>\n    <tr>\n      <th>190</th>\n      <td>190</td>\n      <td>1103056</td>\n      <td>19</td>\n      <td>test</td>\n      <td>[8, 12, 28, 27, 20, 17, 24, 19, 12, 7, 18, 11,...</td>\n    </tr>\n    <tr>\n      <th>191</th>\n      <td>191</td>\n      <td>1105009</td>\n      <td>18</td>\n      <td>validation</td>\n      <td>[5, 5, 10, 17, 17, 4, 6, 9, 4, 7, 2, 6, 6, 7, ...</td>\n    </tr>\n    <tr>\n      <th>192</th>\n      <td>192</td>\n      <td>1105018</td>\n      <td>17</td>\n      <td>test</td>\n      <td>[3, 6, 11, 4, 7, 8, 6, 7, 10, 12, 4, 10, 10, 1...</td>\n    </tr>\n    <tr>\n      <th>193</th>\n      <td>193</td>\n      <td>1105027</td>\n      <td>17</td>\n      <td>test</td>\n      <td>[3, 11, 10, 7, 16, 13, 10, 12, 7, 8, 12, 6, 5,...</td>\n    </tr>\n  </tbody>\n</table>\n<p>194 rows × 5 columns</p>\n</div>"
     },
     "execution_count": 13,
     "metadata": {},
     "output_type": "execute_result"
    }
   ],
   "source": [
    "sales_points"
   ],
   "metadata": {
    "collapsed": false,
    "pycharm": {
     "name": "#%%\n"
    }
   }
  },
  {
   "cell_type": "code",
   "execution_count": 14,
   "outputs": [],
   "source": [
    "def build_arima_model(lis_data,result,order=(5,1,0),show_fig=False,show_summary=False):\n",
    "    model = ARIMA(lis_data, order=order)\n",
    "    model_fit = model.fit()\n",
    "    if show_summary:\n",
    "        # summary of fit model\n",
    "        print(model_fit.summary())\n",
    "\n",
    "    if show_fig:\n",
    "        # line plot of residuals\n",
    "        residuals = pd.DataFrame(model_fit.resid)\n",
    "        residuals.plot()\n",
    "        plt.show()\n",
    "        # density plot of residuals\n",
    "        residuals.plot(kind='kde')\n",
    "        plt.show()\n",
    "        # summary stats of residuals\n",
    "        print(residuals.describe())\n",
    "\n",
    "    result[\"arima_model\"] = model_fit\n",
    "    return result"
   ],
   "metadata": {
    "collapsed": false,
    "pycharm": {
     "name": "#%%\n"
    }
   }
  },
  {
   "cell_type": "code",
   "execution_count": 15,
   "outputs": [],
   "source": [
    "selected_data_points = sales_points"
   ],
   "metadata": {
    "collapsed": false,
    "pycharm": {
     "name": "#%%\n"
    }
   }
  },
  {
   "cell_type": "code",
   "execution_count": 16,
   "outputs": [
    {
     "name": "stderr",
     "output_type": "stream",
     "text": [
      "  0%|          | 0/194 [00:00<?, ?it/s]d:\\competitions\\datastorm-2022\\venv\\lib\\site-packages\\statsmodels\\tsa\\statespace\\sarimax.py:966: UserWarning: Non-stationary starting autoregressive parameters found. Using zeros as starting parameters.\n",
      "  warn('Non-stationary starting autoregressive parameters'\n",
      "100%|██████████| 194/194 [00:12<00:00, 15.50it/s]\n"
     ]
    }
   ],
   "source": [
    "models_list = {}\n",
    "for i in tqdm(selected_data_points.index):\n",
    "    result = dict()\n",
    "    product_series = sales_points.iloc[i]\n",
    "    result[\"input_data\"] = product_series\n",
    "    __data = eval(product_series[\"WeeklySales\"])\n",
    "    build_arima_model(__data,result,show_fig=False,show_summary=False)\n",
    "    model = result[\"arima_model\"]\n",
    "    fc = model.forecast(4,alpha=0.05)\n",
    "    fc_series = pd.Series(fc)\n",
    "    result[\"week_prediction\"] = fc_series\n",
    "    models_list[product_series[\"ItemCode\"]] = result"
   ],
   "metadata": {
    "collapsed": false,
    "pycharm": {
     "name": "#%%\n"
    }
   }
  },
  {
   "cell_type": "code",
   "execution_count": 19,
   "outputs": [],
   "source": [
    "def __day_filter_values(data):\n",
    "    output = {\n",
    "        \"ItemCode\":data[\"input_data\"][\"ItemCode\"]\n",
    "    }\n",
    "\n",
    "    __pred = data[\"week_prediction\"]\n",
    "\n",
    "    output[\"w1\"] = __pred[0]\n",
    "    output[\"w2\"] = __pred[1]\n",
    "    output[\"w3\"] = __pred[2]\n",
    "    output[\"w4\"] = __pred[3]\n",
    "\n",
    "    return output\n",
    "\n",
    "def day_series_filter_out(model_data):\n",
    "    output_df = {}\n",
    "    for __key in tqdm(model_data.keys()):\n",
    "        output_df[__key] = __day_filter_values(model_data[__key])\n",
    "\n",
    "    output_df = pd.DataFrame.from_dict(output_df,orient='index')\n",
    "    output_df = pd.melt(output_df,id_vars=[\"ItemCode\"],value_vars=[\"w1\",\"w2\",\"w3\",\"w4\"])\n",
    "    output_df.columns = [\"ItemCode\",\"Week\",\"WeeklySales\"]\n",
    "    return output_df"
   ],
   "metadata": {
    "collapsed": false,
    "pycharm": {
     "name": "#%%\n"
    }
   }
  },
  {
   "cell_type": "code",
   "execution_count": 20,
   "outputs": [
    {
     "name": "stderr",
     "output_type": "stream",
     "text": [
      "100%|██████████| 194/194 [00:00<00:00, 38802.81it/s]\n"
     ]
    },
    {
     "data": {
      "text/plain": "     ItemCode Week  WeeklySales\n0        3418   w1    54.165194\n1        3427   w1    27.816553\n2        7666   w1    41.537592\n3        9925   w1    11.529598\n4       16936   w1    62.034422\n..        ...  ...          ...\n771   1101769   w4    35.539764\n772   1103056   w4    12.494203\n773   1105009   w4     6.564840\n774   1105018   w4     5.854787\n775   1105027   w4     7.788026\n\n[776 rows x 3 columns]",
      "text/html": "<div>\n<style scoped>\n    .dataframe tbody tr th:only-of-type {\n        vertical-align: middle;\n    }\n\n    .dataframe tbody tr th {\n        vertical-align: top;\n    }\n\n    .dataframe thead th {\n        text-align: right;\n    }\n</style>\n<table border=\"1\" class=\"dataframe\">\n  <thead>\n    <tr style=\"text-align: right;\">\n      <th></th>\n      <th>ItemCode</th>\n      <th>Week</th>\n      <th>WeeklySales</th>\n    </tr>\n  </thead>\n  <tbody>\n    <tr>\n      <th>0</th>\n      <td>3418</td>\n      <td>w1</td>\n      <td>54.165194</td>\n    </tr>\n    <tr>\n      <th>1</th>\n      <td>3427</td>\n      <td>w1</td>\n      <td>27.816553</td>\n    </tr>\n    <tr>\n      <th>2</th>\n      <td>7666</td>\n      <td>w1</td>\n      <td>41.537592</td>\n    </tr>\n    <tr>\n      <th>3</th>\n      <td>9925</td>\n      <td>w1</td>\n      <td>11.529598</td>\n    </tr>\n    <tr>\n      <th>4</th>\n      <td>16936</td>\n      <td>w1</td>\n      <td>62.034422</td>\n    </tr>\n    <tr>\n      <th>...</th>\n      <td>...</td>\n      <td>...</td>\n      <td>...</td>\n    </tr>\n    <tr>\n      <th>771</th>\n      <td>1101769</td>\n      <td>w4</td>\n      <td>35.539764</td>\n    </tr>\n    <tr>\n      <th>772</th>\n      <td>1103056</td>\n      <td>w4</td>\n      <td>12.494203</td>\n    </tr>\n    <tr>\n      <th>773</th>\n      <td>1105009</td>\n      <td>w4</td>\n      <td>6.564840</td>\n    </tr>\n    <tr>\n      <th>774</th>\n      <td>1105018</td>\n      <td>w4</td>\n      <td>5.854787</td>\n    </tr>\n    <tr>\n      <th>775</th>\n      <td>1105027</td>\n      <td>w4</td>\n      <td>7.788026</td>\n    </tr>\n  </tbody>\n</table>\n<p>776 rows × 3 columns</p>\n</div>"
     },
     "execution_count": 20,
     "metadata": {},
     "output_type": "execute_result"
    }
   ],
   "source": [
    "day_series_filter_out(models_list)"
   ],
   "metadata": {
    "collapsed": false,
    "pycharm": {
     "name": "#%%\n"
    }
   }
  },
  {
   "cell_type": "code",
   "execution_count": null,
   "outputs": [],
   "source": [],
   "metadata": {
    "collapsed": false,
    "pycharm": {
     "name": "#%%\n"
    }
   }
  }
 ],
 "metadata": {
  "kernelspec": {
   "display_name": "Python 3",
   "language": "python",
   "name": "python3"
  },
  "language_info": {
   "codemirror_mode": {
    "name": "ipython",
    "version": 2
   },
   "file_extension": ".py",
   "mimetype": "text/x-python",
   "name": "python",
   "nbconvert_exporter": "python",
   "pygments_lexer": "ipython2",
   "version": "2.7.6"
  }
 },
 "nbformat": 4,
 "nbformat_minor": 0
}