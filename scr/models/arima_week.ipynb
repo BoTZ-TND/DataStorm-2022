{
 "cells": [
  {
   "cell_type": "code",
   "execution_count": 403,
   "metadata": {
    "collapsed": true
   },
   "outputs": [],
   "source": [
    "import  pandas as pd\n",
    "from statsmodels.tsa.arima.model import ARIMA\n",
    "import matplotlib.pyplot as plt\n",
    "import numpy as np\n",
    "from tqdm import tqdm\n",
    "from sklearn.metrics import mean_squared_error\n",
    "from sklearn.metrics import mean_absolute_percentage_error\n",
    "from statsmodels.tsa.holtwinters import ExponentialSmoothing"
   ]
  },
  {
   "cell_type": "code",
   "execution_count": 404,
   "outputs": [],
   "source": [
    "sales_points = pd.read_csv(\"D:\\\\Competitions\\\\DataStorm-2022\\\\data\\\\SalesPointsV2.csv\")"
   ],
   "metadata": {
    "collapsed": false,
    "pycharm": {
     "name": "#%%\n"
    }
   }
  },
  {
   "cell_type": "code",
   "execution_count": 405,
   "outputs": [
    {
     "data": {
      "text/plain": "     ItemCode  #sales       stage  \\\n0        3418      21  validation   \n1        3427      21  validation   \n2        7666      21  validation   \n3        9925      21        test   \n4       16936      21        test   \n..        ...     ...         ...   \n189   1101769      21        test   \n190   1103056      19        test   \n191   1105009      18  validation   \n192   1105018      17        test   \n193   1105027      17        test   \n\n                                           WeeklySales  \n0    [29, 42, 41, 41, 44, 46, 43, 49, 54, 69, 101, ...  \n1    [11, 40, 20, 48, 54, 28, 36, 52, 42, 57, 46, 4...  \n2    [84, 119, 196, 185, 94, 15, 10, 30, 79, 82, 14...  \n3    [1, 9, 11, 13, 5, 11, 11, 13, 12, 10, 21, 15, ...  \n4    [9, 25, 40, 31, 21, 43, 7, 34, 151, 32, 28, 25...  \n..                                                 ...  \n189  [8, 3, 0, 0, 18, 20, 22, 17, 14, 1, 0, 2, 0, 0...  \n190  [8, 12, 28, 27, 20, 17, 24, 19, 12, 7, 18, 11,...  \n191  [5, 5, 10, 17, 17, 4, 6, 9, 4, 7, 2, 6, 6, 7, ...  \n192  [3, 6, 11, 4, 7, 8, 6, 7, 10, 12, 4, 10, 10, 1...  \n193  [3, 11, 10, 7, 16, 13, 10, 12, 7, 8, 12, 6, 5,...  \n\n[194 rows x 4 columns]",
      "text/html": "<div>\n<style scoped>\n    .dataframe tbody tr th:only-of-type {\n        vertical-align: middle;\n    }\n\n    .dataframe tbody tr th {\n        vertical-align: top;\n    }\n\n    .dataframe thead th {\n        text-align: right;\n    }\n</style>\n<table border=\"1\" class=\"dataframe\">\n  <thead>\n    <tr style=\"text-align: right;\">\n      <th></th>\n      <th>ItemCode</th>\n      <th>#sales</th>\n      <th>stage</th>\n      <th>WeeklySales</th>\n    </tr>\n  </thead>\n  <tbody>\n    <tr>\n      <th>0</th>\n      <td>3418</td>\n      <td>21</td>\n      <td>validation</td>\n      <td>[29, 42, 41, 41, 44, 46, 43, 49, 54, 69, 101, ...</td>\n    </tr>\n    <tr>\n      <th>1</th>\n      <td>3427</td>\n      <td>21</td>\n      <td>validation</td>\n      <td>[11, 40, 20, 48, 54, 28, 36, 52, 42, 57, 46, 4...</td>\n    </tr>\n    <tr>\n      <th>2</th>\n      <td>7666</td>\n      <td>21</td>\n      <td>validation</td>\n      <td>[84, 119, 196, 185, 94, 15, 10, 30, 79, 82, 14...</td>\n    </tr>\n    <tr>\n      <th>3</th>\n      <td>9925</td>\n      <td>21</td>\n      <td>test</td>\n      <td>[1, 9, 11, 13, 5, 11, 11, 13, 12, 10, 21, 15, ...</td>\n    </tr>\n    <tr>\n      <th>4</th>\n      <td>16936</td>\n      <td>21</td>\n      <td>test</td>\n      <td>[9, 25, 40, 31, 21, 43, 7, 34, 151, 32, 28, 25...</td>\n    </tr>\n    <tr>\n      <th>...</th>\n      <td>...</td>\n      <td>...</td>\n      <td>...</td>\n      <td>...</td>\n    </tr>\n    <tr>\n      <th>189</th>\n      <td>1101769</td>\n      <td>21</td>\n      <td>test</td>\n      <td>[8, 3, 0, 0, 18, 20, 22, 17, 14, 1, 0, 2, 0, 0...</td>\n    </tr>\n    <tr>\n      <th>190</th>\n      <td>1103056</td>\n      <td>19</td>\n      <td>test</td>\n      <td>[8, 12, 28, 27, 20, 17, 24, 19, 12, 7, 18, 11,...</td>\n    </tr>\n    <tr>\n      <th>191</th>\n      <td>1105009</td>\n      <td>18</td>\n      <td>validation</td>\n      <td>[5, 5, 10, 17, 17, 4, 6, 9, 4, 7, 2, 6, 6, 7, ...</td>\n    </tr>\n    <tr>\n      <th>192</th>\n      <td>1105018</td>\n      <td>17</td>\n      <td>test</td>\n      <td>[3, 6, 11, 4, 7, 8, 6, 7, 10, 12, 4, 10, 10, 1...</td>\n    </tr>\n    <tr>\n      <th>193</th>\n      <td>1105027</td>\n      <td>17</td>\n      <td>test</td>\n      <td>[3, 11, 10, 7, 16, 13, 10, 12, 7, 8, 12, 6, 5,...</td>\n    </tr>\n  </tbody>\n</table>\n<p>194 rows × 4 columns</p>\n</div>"
     },
     "execution_count": 405,
     "metadata": {},
     "output_type": "execute_result"
    }
   ],
   "source": [
    "sales_points"
   ],
   "metadata": {
    "collapsed": false,
    "pycharm": {
     "name": "#%%\n"
    }
   }
  },
  {
   "cell_type": "code",
   "execution_count": 406,
   "outputs": [],
   "source": [
    "from statsmodels.tsa.statespace.sarimax import SARIMAX\n",
    "\n",
    "\n",
    "def build_arima_model(lis_data,result,order=(4,0,0),show_fig=False,show_summary=False):\n",
    "    model = SARIMAX(lis_data,order=order)\n",
    "    model_fit = model.fit()\n",
    "    if show_summary:\n",
    "        # summary of fit model\n",
    "        print(model_fit.summary())\n",
    "\n",
    "    if show_fig:\n",
    "        # line plot of residuals\n",
    "        residuals = pd.DataFrame(model_fit.resid)\n",
    "        residuals.plot()\n",
    "        plt.show()\n",
    "        # density plot of residuals\n",
    "        residuals.plot(kind='kde')\n",
    "        plt.show()\n",
    "        # summary stats of residuals\n",
    "        print(residuals.describe())\n",
    "\n",
    "    result[\"arima_model\"] = model_fit\n",
    "    return result"
   ],
   "metadata": {
    "collapsed": false,
    "pycharm": {
     "name": "#%%\n"
    }
   }
  },
  {
   "cell_type": "code",
   "execution_count": 407,
   "outputs": [],
   "source": [
    "selected_data_points = sales_points"
   ],
   "metadata": {
    "collapsed": false,
    "pycharm": {
     "name": "#%%\n"
    }
   }
  },
  {
   "cell_type": "code",
   "execution_count": 408,
   "outputs": [
    {
     "name": "stderr",
     "output_type": "stream",
     "text": [
      "  0%|          | 0/194 [00:00<?, ?it/s]d:\\competitions\\datastorm-2022\\venv\\lib\\site-packages\\statsmodels\\tsa\\statespace\\sarimax.py:966: UserWarning: Non-stationary starting autoregressive parameters found. Using zeros as starting parameters.\n",
      "  warn('Non-stationary starting autoregressive parameters'\n",
      "100%|██████████| 194/194 [00:09<00:00, 20.35it/s]\n"
     ]
    }
   ],
   "source": [
    "models_list = {}\n",
    "for i in tqdm(selected_data_points.index):\n",
    "    result = dict()\n",
    "    product_series = sales_points.iloc[i]\n",
    "    result[\"input_data\"] = product_series\n",
    "    __data = eval(product_series[\"WeeklySales\"])\n",
    "    build_arima_model(__data[-20:],result,show_fig=False,show_summary=False)\n",
    "    model = result[\"arima_model\"]\n",
    "    fc = model.forecast(4)\n",
    "    fc_series = pd.Series(fc)\n",
    "    result[\"week_prediction\"] = fc_series\n",
    "    models_list[product_series[\"ItemCode\"]] = result"
   ],
   "metadata": {
    "collapsed": false,
    "pycharm": {
     "name": "#%%\n"
    }
   }
  },
  {
   "cell_type": "code",
   "execution_count": 409,
   "outputs": [],
   "source": [
    "def __day_filter_values(data):\n",
    "    output = {\n",
    "        \"ItemCode\":data[\"input_data\"][\"ItemCode\"]\n",
    "    }\n",
    "\n",
    "    __pred = data[\"week_prediction\"]\n",
    "\n",
    "    output[\"w1\"] = __pred[0]\n",
    "    output[\"w2\"] = __pred[1]\n",
    "    output[\"w3\"] = __pred[2]\n",
    "    output[\"w4\"] = __pred[3]\n",
    "\n",
    "    return output\n",
    "\n",
    "def day_series_filter_out(model_data):\n",
    "    output_df = {}\n",
    "    for __key in tqdm(model_data.keys()):\n",
    "        output_df[__key] = __day_filter_values(model_data[__key])\n",
    "\n",
    "    output_df = pd.DataFrame.from_dict(output_df,orient='index')\n",
    "    output_df = pd.melt(output_df,id_vars=[\"ItemCode\"],value_vars=[\"w1\",\"w2\",\"w3\",\"w4\"])\n",
    "    output_df.columns = [\"ItemCode\",\"Week\",\"WeeklySales\"]\n",
    "    return output_df"
   ],
   "metadata": {
    "collapsed": false,
    "pycharm": {
     "name": "#%%\n"
    }
   }
  },
  {
   "cell_type": "code",
   "execution_count": 410,
   "outputs": [
    {
     "name": "stderr",
     "output_type": "stream",
     "text": [
      "100%|██████████| 194/194 [00:00<00:00, 65341.28it/s]\n"
     ]
    }
   ],
   "source": [
    "out_df = day_series_filter_out(models_list)"
   ],
   "metadata": {
    "collapsed": false,
    "pycharm": {
     "name": "#%%\n"
    }
   }
  },
  {
   "cell_type": "code",
   "execution_count": 411,
   "outputs": [
    {
     "data": {
      "text/plain": "     ItemCode Week  WeeklySales\n0        3418   w1    30.976874\n1        3427   w1    32.693050\n2        7666   w1    39.241415\n3        9925   w1     9.269342\n4       16936   w1    46.355568\n..        ...  ...          ...\n771   1101769   w4    21.796874\n772   1103056   w4     8.802559\n773   1105009   w4     6.749126\n774   1105018   w4     5.490899\n775   1105027   w4     8.946310\n\n[776 rows x 3 columns]",
      "text/html": "<div>\n<style scoped>\n    .dataframe tbody tr th:only-of-type {\n        vertical-align: middle;\n    }\n\n    .dataframe tbody tr th {\n        vertical-align: top;\n    }\n\n    .dataframe thead th {\n        text-align: right;\n    }\n</style>\n<table border=\"1\" class=\"dataframe\">\n  <thead>\n    <tr style=\"text-align: right;\">\n      <th></th>\n      <th>ItemCode</th>\n      <th>Week</th>\n      <th>WeeklySales</th>\n    </tr>\n  </thead>\n  <tbody>\n    <tr>\n      <th>0</th>\n      <td>3418</td>\n      <td>w1</td>\n      <td>30.976874</td>\n    </tr>\n    <tr>\n      <th>1</th>\n      <td>3427</td>\n      <td>w1</td>\n      <td>32.693050</td>\n    </tr>\n    <tr>\n      <th>2</th>\n      <td>7666</td>\n      <td>w1</td>\n      <td>39.241415</td>\n    </tr>\n    <tr>\n      <th>3</th>\n      <td>9925</td>\n      <td>w1</td>\n      <td>9.269342</td>\n    </tr>\n    <tr>\n      <th>4</th>\n      <td>16936</td>\n      <td>w1</td>\n      <td>46.355568</td>\n    </tr>\n    <tr>\n      <th>...</th>\n      <td>...</td>\n      <td>...</td>\n      <td>...</td>\n    </tr>\n    <tr>\n      <th>771</th>\n      <td>1101769</td>\n      <td>w4</td>\n      <td>21.796874</td>\n    </tr>\n    <tr>\n      <th>772</th>\n      <td>1103056</td>\n      <td>w4</td>\n      <td>8.802559</td>\n    </tr>\n    <tr>\n      <th>773</th>\n      <td>1105009</td>\n      <td>w4</td>\n      <td>6.749126</td>\n    </tr>\n    <tr>\n      <th>774</th>\n      <td>1105018</td>\n      <td>w4</td>\n      <td>5.490899</td>\n    </tr>\n    <tr>\n      <th>775</th>\n      <td>1105027</td>\n      <td>w4</td>\n      <td>8.946310</td>\n    </tr>\n  </tbody>\n</table>\n<p>776 rows × 3 columns</p>\n</div>"
     },
     "execution_count": 411,
     "metadata": {},
     "output_type": "execute_result"
    }
   ],
   "source": [
    "out_df"
   ],
   "metadata": {
    "collapsed": false,
    "pycharm": {
     "name": "#%%\n"
    }
   }
  },
  {
   "cell_type": "code",
   "execution_count": 412,
   "outputs": [
    {
     "data": {
      "text/plain": "     ItemCode Week  WeeklySales\n1        3427   w1    32.693050\n195      3427   w2    28.520792\n389      3427   w3    25.562632\n583      3427   w4    31.925110",
      "text/html": "<div>\n<style scoped>\n    .dataframe tbody tr th:only-of-type {\n        vertical-align: middle;\n    }\n\n    .dataframe tbody tr th {\n        vertical-align: top;\n    }\n\n    .dataframe thead th {\n        text-align: right;\n    }\n</style>\n<table border=\"1\" class=\"dataframe\">\n  <thead>\n    <tr style=\"text-align: right;\">\n      <th></th>\n      <th>ItemCode</th>\n      <th>Week</th>\n      <th>WeeklySales</th>\n    </tr>\n  </thead>\n  <tbody>\n    <tr>\n      <th>1</th>\n      <td>3427</td>\n      <td>w1</td>\n      <td>32.693050</td>\n    </tr>\n    <tr>\n      <th>195</th>\n      <td>3427</td>\n      <td>w2</td>\n      <td>28.520792</td>\n    </tr>\n    <tr>\n      <th>389</th>\n      <td>3427</td>\n      <td>w3</td>\n      <td>25.562632</td>\n    </tr>\n    <tr>\n      <th>583</th>\n      <td>3427</td>\n      <td>w4</td>\n      <td>31.925110</td>\n    </tr>\n  </tbody>\n</table>\n</div>"
     },
     "execution_count": 412,
     "metadata": {},
     "output_type": "execute_result"
    }
   ],
   "source": [
    "out_df.loc[out_df[\"ItemCode\"] == 3427]"
   ],
   "metadata": {
    "collapsed": false,
    "pycharm": {
     "name": "#%%\n"
    }
   }
  },
  {
   "cell_type": "code",
   "execution_count": 413,
   "outputs": [],
   "source": [
    "validation_df = pd.read_csv(\"D:\\\\Competitions\\\\DataStorm-2022\\\\data\\\\validation_data.csv\")"
   ],
   "metadata": {
    "collapsed": false,
    "pycharm": {
     "name": "#%%\n"
    }
   }
  },
  {
   "cell_type": "code",
   "execution_count": 414,
   "outputs": [],
   "source": [
    "def select_val_item_codes(df):\n",
    "    validation_item_codes = list(set(pd.read_csv(\"D:\\\\Competitions\\\\DataStorm-2022\\\\data\\\\validation_data.csv\")[\"ItemCode\"].tolist()))\n",
    "    df=df.loc[df[\"ItemCode\"].isin(validation_item_codes)]\n",
    "    return df\n",
    "\n",
    "def evaluate_model_arima(true_df:pd.DataFrame,pred_df:pd.DataFrame):\n",
    "    pred_df = pred_df.sort_values(['ItemCode',\"Week\"])\n",
    "    true_df = true_df.sort_values(['ItemCode',\"Week\"])\n",
    "\n",
    "    merged =pd.merge(true_df,pred_df,on=[\"ItemCode\",\"Week\"],how=\"inner\")\n",
    "    merged[\"WeeklySales_y\"] = merged[\"WeeklySales_y\"].astype(int)\n",
    "\n",
    "    abs_error = mean_absolute_percentage_error(merged[\"WeeklySales_x\"],merged[\"WeeklySales_y\"])\n",
    "\n",
    "    return abs_error"
   ],
   "metadata": {
    "collapsed": false,
    "pycharm": {
     "name": "#%%\n"
    }
   }
  },
  {
   "cell_type": "code",
   "execution_count": 415,
   "outputs": [
    {
     "data": {
      "text/plain": "0.6226734617134216"
     },
     "execution_count": 415,
     "metadata": {},
     "output_type": "execute_result"
    }
   ],
   "source": [
    "evaluate_model_arima(validation_df,select_val_item_codes(out_df))"
   ],
   "metadata": {
    "collapsed": false,
    "pycharm": {
     "name": "#%%\n"
    }
   }
  },
  {
   "cell_type": "code",
   "execution_count": 416,
   "outputs": [],
   "source": [
    "out_df[\"WeeklySales\"] = out_df[\"WeeklySales\"].astype(int)\n",
    "out_df.to_csv(\"output_Lol.csv\",index=False)"
   ],
   "metadata": {
    "collapsed": false,
    "pycharm": {
     "name": "#%%\n"
    }
   }
  },
  {
   "cell_type": "code",
   "execution_count": 416,
   "outputs": [],
   "source": [],
   "metadata": {
    "collapsed": false,
    "pycharm": {
     "name": "#%%\n"
    }
   }
  },
  {
   "cell_type": "code",
   "execution_count": 416,
   "outputs": [],
   "source": [],
   "metadata": {
    "collapsed": false,
    "pycharm": {
     "name": "#%%\n"
    }
   }
  },
  {
   "cell_type": "code",
   "execution_count": 416,
   "outputs": [],
   "source": [],
   "metadata": {
    "collapsed": false,
    "pycharm": {
     "name": "#%%\n"
    }
   }
  },
  {
   "cell_type": "code",
   "execution_count": 417,
   "outputs": [],
   "source": [
    "test_df = pd.read_csv(\"D:\\\\Competitions\\\\DataStorm-2022\\\\data\\\\test_data.csv\")"
   ],
   "metadata": {
    "collapsed": false,
    "pycharm": {
     "name": "#%%\n"
    }
   }
  },
  {
   "cell_type": "code",
   "execution_count": 418,
   "outputs": [
    {
     "data": {
      "text/plain": "    CategoryCode  ItemCode Week  PredictedSales\n0     category_1     43738   w4             NaN\n1     category_2   1006090   w1             NaN\n2     category_2   1076929   w4             NaN\n3     category_1   1081321   w3             NaN\n4     category_2    216151   w4             NaN\n..           ...       ...  ...             ...\n372   category_2   1101571   w1             NaN\n373   category_2   1090258   w4             NaN\n374   category_2    906595   w1             NaN\n375   category_2     32245   w1             NaN\n376   category_2   1006090   w2             NaN\n\n[377 rows x 4 columns]",
      "text/html": "<div>\n<style scoped>\n    .dataframe tbody tr th:only-of-type {\n        vertical-align: middle;\n    }\n\n    .dataframe tbody tr th {\n        vertical-align: top;\n    }\n\n    .dataframe thead th {\n        text-align: right;\n    }\n</style>\n<table border=\"1\" class=\"dataframe\">\n  <thead>\n    <tr style=\"text-align: right;\">\n      <th></th>\n      <th>CategoryCode</th>\n      <th>ItemCode</th>\n      <th>Week</th>\n      <th>PredictedSales</th>\n    </tr>\n  </thead>\n  <tbody>\n    <tr>\n      <th>0</th>\n      <td>category_1</td>\n      <td>43738</td>\n      <td>w4</td>\n      <td>NaN</td>\n    </tr>\n    <tr>\n      <th>1</th>\n      <td>category_2</td>\n      <td>1006090</td>\n      <td>w1</td>\n      <td>NaN</td>\n    </tr>\n    <tr>\n      <th>2</th>\n      <td>category_2</td>\n      <td>1076929</td>\n      <td>w4</td>\n      <td>NaN</td>\n    </tr>\n    <tr>\n      <th>3</th>\n      <td>category_1</td>\n      <td>1081321</td>\n      <td>w3</td>\n      <td>NaN</td>\n    </tr>\n    <tr>\n      <th>4</th>\n      <td>category_2</td>\n      <td>216151</td>\n      <td>w4</td>\n      <td>NaN</td>\n    </tr>\n    <tr>\n      <th>...</th>\n      <td>...</td>\n      <td>...</td>\n      <td>...</td>\n      <td>...</td>\n    </tr>\n    <tr>\n      <th>372</th>\n      <td>category_2</td>\n      <td>1101571</td>\n      <td>w1</td>\n      <td>NaN</td>\n    </tr>\n    <tr>\n      <th>373</th>\n      <td>category_2</td>\n      <td>1090258</td>\n      <td>w4</td>\n      <td>NaN</td>\n    </tr>\n    <tr>\n      <th>374</th>\n      <td>category_2</td>\n      <td>906595</td>\n      <td>w1</td>\n      <td>NaN</td>\n    </tr>\n    <tr>\n      <th>375</th>\n      <td>category_2</td>\n      <td>32245</td>\n      <td>w1</td>\n      <td>NaN</td>\n    </tr>\n    <tr>\n      <th>376</th>\n      <td>category_2</td>\n      <td>1006090</td>\n      <td>w2</td>\n      <td>NaN</td>\n    </tr>\n  </tbody>\n</table>\n<p>377 rows × 4 columns</p>\n</div>"
     },
     "execution_count": 418,
     "metadata": {},
     "output_type": "execute_result"
    }
   ],
   "source": [
    "test_df"
   ],
   "metadata": {
    "collapsed": false,
    "pycharm": {
     "name": "#%%\n"
    }
   }
  },
  {
   "cell_type": "code",
   "execution_count": 419,
   "outputs": [],
   "source": [
    "def create_submission_arima(pred_df:pd.DataFrame,attach_df:pd.DataFrame):\n",
    "    pred_df = pred_df.sort_values(['ItemCode',\"Week\"])\n",
    "    true_df = attach_df.sort_values(['ItemCode',\"Week\"])\n",
    "\n",
    "    merged =pd.merge(true_df,pred_df,on=[\"ItemCode\",\"Week\"],how=\"inner\")\n",
    "    merged= merged[[\"CategoryCode\",\"ItemCode\",\"Week\",\"WeeklySales\"]]\n",
    "    # print(merged)\n",
    "    full_df = merged.copy()\n",
    "    merged['ID'] = merged.apply(lambda x: f\"{x.CategoryCode}_{x.ItemCode}_{x.Week}\", axis=1)\n",
    "\n",
    "    merged = merged.loc[:, ['ID', 'WeeklySales']]\n",
    "    return merged,full_df"
   ],
   "metadata": {
    "collapsed": false,
    "pycharm": {
     "name": "#%%\n"
    }
   }
  },
  {
   "cell_type": "code",
   "execution_count": 420,
   "outputs": [],
   "source": [
    "submission_df,full_df = create_submission_arima(out_df,test_df)"
   ],
   "metadata": {
    "collapsed": false,
    "pycharm": {
     "name": "#%%\n"
    }
   }
  },
  {
   "cell_type": "code",
   "execution_count": 421,
   "outputs": [],
   "source": [
    "#out_df.to_csv(\"out_put1.csv\",index=False)"
   ],
   "metadata": {
    "collapsed": false,
    "pycharm": {
     "name": "#%%\n"
    }
   }
  },
  {
   "cell_type": "code",
   "execution_count": 422,
   "outputs": [],
   "source": [
    "submission_df.to_csv(\"submission_0_6226.csv\",index=False)"
   ],
   "metadata": {
    "collapsed": false,
    "pycharm": {
     "name": "#%%\n"
    }
   }
  },
  {
   "cell_type": "markdown",
   "source": [],
   "metadata": {
    "collapsed": false
   }
  },
  {
   "cell_type": "code",
   "execution_count": 423,
   "outputs": [],
   "source": [
    "sales_poins_1 = pd.read_csv(\"D:\\\\Competitions\\\\DataStorm-2022\\\\data\\\\SalesPointsV2.csv\")\n",
    "test_sales_point = sales_poins_1.loc[sales_poins_1[\"stage\"] == \"test\"]"
   ],
   "metadata": {
    "collapsed": false,
    "pycharm": {
     "name": "#%%\n"
    }
   }
  },
  {
   "cell_type": "code",
   "execution_count": 424,
   "outputs": [
    {
     "data": {
      "text/plain": "     ItemCode  #sales stage                                        WeeklySales\n3        9925      21  test  [1, 9, 11, 13, 5, 11, 11, 13, 12, 10, 21, 15, ...\n4       16936      21  test  [9, 25, 40, 31, 21, 43, 7, 34, 151, 32, 28, 25...\n8       23200      21  test  [8, 7, 33, 7, 64, 80, 61, 30, 108, 163, 195, 1...\n12      32245      21  test  [26, 41, 24, 45, 28, 27, 29, 40, 29, 46, 38, 1...\n13      35449      21  test  [2, 1, 3, 6, 6, 5, 7, 5, 18, 11, 27, 17, 20, 1...\n..        ...     ...   ...                                                ...\n187   1101571      21  test  [2, 7, 18, 7, 6, 7, 3, 8, 4, 3, 2, 2, 81, 87, ...\n189   1101769      21  test  [8, 3, 0, 0, 18, 20, 22, 17, 14, 1, 0, 2, 0, 0...\n190   1103056      19  test  [8, 12, 28, 27, 20, 17, 24, 19, 12, 7, 18, 11,...\n192   1105018      17  test  [3, 6, 11, 4, 7, 8, 6, 7, 10, 12, 4, 10, 10, 1...\n193   1105027      17  test  [3, 11, 10, 7, 16, 13, 10, 12, 7, 8, 12, 6, 5,...\n\n[97 rows x 4 columns]",
      "text/html": "<div>\n<style scoped>\n    .dataframe tbody tr th:only-of-type {\n        vertical-align: middle;\n    }\n\n    .dataframe tbody tr th {\n        vertical-align: top;\n    }\n\n    .dataframe thead th {\n        text-align: right;\n    }\n</style>\n<table border=\"1\" class=\"dataframe\">\n  <thead>\n    <tr style=\"text-align: right;\">\n      <th></th>\n      <th>ItemCode</th>\n      <th>#sales</th>\n      <th>stage</th>\n      <th>WeeklySales</th>\n    </tr>\n  </thead>\n  <tbody>\n    <tr>\n      <th>3</th>\n      <td>9925</td>\n      <td>21</td>\n      <td>test</td>\n      <td>[1, 9, 11, 13, 5, 11, 11, 13, 12, 10, 21, 15, ...</td>\n    </tr>\n    <tr>\n      <th>4</th>\n      <td>16936</td>\n      <td>21</td>\n      <td>test</td>\n      <td>[9, 25, 40, 31, 21, 43, 7, 34, 151, 32, 28, 25...</td>\n    </tr>\n    <tr>\n      <th>8</th>\n      <td>23200</td>\n      <td>21</td>\n      <td>test</td>\n      <td>[8, 7, 33, 7, 64, 80, 61, 30, 108, 163, 195, 1...</td>\n    </tr>\n    <tr>\n      <th>12</th>\n      <td>32245</td>\n      <td>21</td>\n      <td>test</td>\n      <td>[26, 41, 24, 45, 28, 27, 29, 40, 29, 46, 38, 1...</td>\n    </tr>\n    <tr>\n      <th>13</th>\n      <td>35449</td>\n      <td>21</td>\n      <td>test</td>\n      <td>[2, 1, 3, 6, 6, 5, 7, 5, 18, 11, 27, 17, 20, 1...</td>\n    </tr>\n    <tr>\n      <th>...</th>\n      <td>...</td>\n      <td>...</td>\n      <td>...</td>\n      <td>...</td>\n    </tr>\n    <tr>\n      <th>187</th>\n      <td>1101571</td>\n      <td>21</td>\n      <td>test</td>\n      <td>[2, 7, 18, 7, 6, 7, 3, 8, 4, 3, 2, 2, 81, 87, ...</td>\n    </tr>\n    <tr>\n      <th>189</th>\n      <td>1101769</td>\n      <td>21</td>\n      <td>test</td>\n      <td>[8, 3, 0, 0, 18, 20, 22, 17, 14, 1, 0, 2, 0, 0...</td>\n    </tr>\n    <tr>\n      <th>190</th>\n      <td>1103056</td>\n      <td>19</td>\n      <td>test</td>\n      <td>[8, 12, 28, 27, 20, 17, 24, 19, 12, 7, 18, 11,...</td>\n    </tr>\n    <tr>\n      <th>192</th>\n      <td>1105018</td>\n      <td>17</td>\n      <td>test</td>\n      <td>[3, 6, 11, 4, 7, 8, 6, 7, 10, 12, 4, 10, 10, 1...</td>\n    </tr>\n    <tr>\n      <th>193</th>\n      <td>1105027</td>\n      <td>17</td>\n      <td>test</td>\n      <td>[3, 11, 10, 7, 16, 13, 10, 12, 7, 8, 12, 6, 5,...</td>\n    </tr>\n  </tbody>\n</table>\n<p>97 rows × 4 columns</p>\n</div>"
     },
     "execution_count": 424,
     "metadata": {},
     "output_type": "execute_result"
    }
   ],
   "source": [
    "test_sales_point"
   ],
   "metadata": {
    "collapsed": false,
    "pycharm": {
     "name": "#%%\n"
    }
   }
  },
  {
   "cell_type": "code",
   "execution_count": 425,
   "outputs": [],
   "source": [
    "__id = 16936"
   ],
   "metadata": {
    "collapsed": false,
    "pycharm": {
     "name": "#%%\n"
    }
   }
  },
  {
   "cell_type": "code",
   "execution_count": 426,
   "outputs": [
    {
     "data": {
      "text/plain": "[9,\n 25,\n 40,\n 31,\n 21,\n 43,\n 7,\n 34,\n 151,\n 32,\n 28,\n 25,\n 49,\n 27,\n 74,\n 66,\n 43,\n 66,\n 48,\n 13,\n 71]"
     },
     "execution_count": 426,
     "metadata": {},
     "output_type": "execute_result"
    }
   ],
   "source": [
    "eval(test_sales_point.loc[test_sales_point[\"ItemCode\"] == __id].iloc[0][\"WeeklySales\"])"
   ],
   "metadata": {
    "collapsed": false,
    "pycharm": {
     "name": "#%%\n"
    }
   }
  },
  {
   "cell_type": "code",
   "execution_count": 427,
   "outputs": [
    {
     "data": {
      "text/plain": "  CategoryCode  ItemCode Week  WeeklySales\n4   category_3     16936   w1           46\n5   category_3     16936   w2           31\n6   category_3     16936   w3           39\n7   category_3     16936   w4           40",
      "text/html": "<div>\n<style scoped>\n    .dataframe tbody tr th:only-of-type {\n        vertical-align: middle;\n    }\n\n    .dataframe tbody tr th {\n        vertical-align: top;\n    }\n\n    .dataframe thead th {\n        text-align: right;\n    }\n</style>\n<table border=\"1\" class=\"dataframe\">\n  <thead>\n    <tr style=\"text-align: right;\">\n      <th></th>\n      <th>CategoryCode</th>\n      <th>ItemCode</th>\n      <th>Week</th>\n      <th>WeeklySales</th>\n    </tr>\n  </thead>\n  <tbody>\n    <tr>\n      <th>4</th>\n      <td>category_3</td>\n      <td>16936</td>\n      <td>w1</td>\n      <td>46</td>\n    </tr>\n    <tr>\n      <th>5</th>\n      <td>category_3</td>\n      <td>16936</td>\n      <td>w2</td>\n      <td>31</td>\n    </tr>\n    <tr>\n      <th>6</th>\n      <td>category_3</td>\n      <td>16936</td>\n      <td>w3</td>\n      <td>39</td>\n    </tr>\n    <tr>\n      <th>7</th>\n      <td>category_3</td>\n      <td>16936</td>\n      <td>w4</td>\n      <td>40</td>\n    </tr>\n  </tbody>\n</table>\n</div>"
     },
     "execution_count": 427,
     "metadata": {},
     "output_type": "execute_result"
    }
   ],
   "source": [
    "full_df.loc[full_df[\"ItemCode\"] == __id]"
   ],
   "metadata": {
    "collapsed": false,
    "pycharm": {
     "name": "#%%\n"
    }
   }
  },
  {
   "cell_type": "code",
   "execution_count": 427,
   "outputs": [],
   "source": [],
   "metadata": {
    "collapsed": false,
    "pycharm": {
     "name": "#%%\n"
    }
   }
  }
 ],
 "metadata": {
  "kernelspec": {
   "display_name": "Python 3",
   "language": "python",
   "name": "python3"
  },
  "language_info": {
   "codemirror_mode": {
    "name": "ipython",
    "version": 2
   },
   "file_extension": ".py",
   "mimetype": "text/x-python",
   "name": "python",
   "nbconvert_exporter": "python",
   "pygments_lexer": "ipython2",
   "version": "2.7.6"
  }
 },
 "nbformat": 4,
 "nbformat_minor": 0
}