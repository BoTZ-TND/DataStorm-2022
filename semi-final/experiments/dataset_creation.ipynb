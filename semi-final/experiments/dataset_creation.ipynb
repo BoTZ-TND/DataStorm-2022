{
 "cells": [
  {
   "cell_type": "code",
   "execution_count": 100,
   "metadata": {
    "collapsed": true
   },
   "outputs": [],
   "source": [
    "import pandas as pd\n",
    "from tqdm import tqdm"
   ]
  },
  {
   "cell_type": "code",
   "execution_count": 101,
   "outputs": [],
   "source": [
    "promo_combined = pd.read_csv(\"D:\\\\Competitions\\\\DataStorm-2022\\\\semi-final\\\\data\\\\merged_promo_item_df.csv\")\n",
    "promo_data = pd.read_csv(\"D:\\\\Competitions\\\\DataStorm-2022\\\\semi-final\\\\data\\\\promotion_data.csv\")\n",
    "train_data = pd.read_csv(\"D:\\\\Competitions\\\\DataStorm-2022\\\\semi-final\\\\data\\\\train_data.csv\")\n",
    "test_data = pd.read_csv(\"D:\\\\Competitions\\\\DataStorm-2022\\\\semi-final\\\\data\\\\test_data.csv\")\n",
    "val_data = pd.read_csv(\"D:\\\\Competitions\\\\DataStorm-2022\\\\semi-final\\\\data\\\\validation_data.csv\")"
   ],
   "metadata": {
    "collapsed": false,
    "pycharm": {
     "name": "#%%\n"
    }
   }
  },
  {
   "cell_type": "code",
   "execution_count": 102,
   "outputs": [
    {
     "data": {
      "text/plain": "     ItemCode PromotionStartDate PromotionEndDate  DiscountValue DiscountType  \\\n0      379249          12/3/2021        12/9/2021             10   Percentage   \n1     1066570         11/19/2021       11/25/2021             15   Percentage   \n2      124954         10/29/2021        11/4/2021             15   Percentage   \n3       35530         10/22/2021       10/28/2021             15   Percentage   \n4     1013335          1/21/2022        1/27/2022             10   Percentage   \n..        ...                ...              ...            ...          ...   \n309     17287         12/10/2021       12/16/2021             10   Percentage   \n310    132028         10/29/2021        11/4/2021             10   Percentage   \n311   1076938          3/11/2022        3/17/2022             10   Percentage   \n312     17287         12/24/2021       12/30/2021             10   Percentage   \n313     23569         10/29/2021        11/4/2021             10   Percentage   \n\n     SellingPrice  \n0              70  \n1              45  \n2             210  \n3              60  \n4             210  \n..            ...  \n309            70  \n310            45  \n311            80  \n312            70  \n313            75  \n\n[314 rows x 6 columns]",
      "text/html": "<div>\n<style scoped>\n    .dataframe tbody tr th:only-of-type {\n        vertical-align: middle;\n    }\n\n    .dataframe tbody tr th {\n        vertical-align: top;\n    }\n\n    .dataframe thead th {\n        text-align: right;\n    }\n</style>\n<table border=\"1\" class=\"dataframe\">\n  <thead>\n    <tr style=\"text-align: right;\">\n      <th></th>\n      <th>ItemCode</th>\n      <th>PromotionStartDate</th>\n      <th>PromotionEndDate</th>\n      <th>DiscountValue</th>\n      <th>DiscountType</th>\n      <th>SellingPrice</th>\n    </tr>\n  </thead>\n  <tbody>\n    <tr>\n      <th>0</th>\n      <td>379249</td>\n      <td>12/3/2021</td>\n      <td>12/9/2021</td>\n      <td>10</td>\n      <td>Percentage</td>\n      <td>70</td>\n    </tr>\n    <tr>\n      <th>1</th>\n      <td>1066570</td>\n      <td>11/19/2021</td>\n      <td>11/25/2021</td>\n      <td>15</td>\n      <td>Percentage</td>\n      <td>45</td>\n    </tr>\n    <tr>\n      <th>2</th>\n      <td>124954</td>\n      <td>10/29/2021</td>\n      <td>11/4/2021</td>\n      <td>15</td>\n      <td>Percentage</td>\n      <td>210</td>\n    </tr>\n    <tr>\n      <th>3</th>\n      <td>35530</td>\n      <td>10/22/2021</td>\n      <td>10/28/2021</td>\n      <td>15</td>\n      <td>Percentage</td>\n      <td>60</td>\n    </tr>\n    <tr>\n      <th>4</th>\n      <td>1013335</td>\n      <td>1/21/2022</td>\n      <td>1/27/2022</td>\n      <td>10</td>\n      <td>Percentage</td>\n      <td>210</td>\n    </tr>\n    <tr>\n      <th>...</th>\n      <td>...</td>\n      <td>...</td>\n      <td>...</td>\n      <td>...</td>\n      <td>...</td>\n      <td>...</td>\n    </tr>\n    <tr>\n      <th>309</th>\n      <td>17287</td>\n      <td>12/10/2021</td>\n      <td>12/16/2021</td>\n      <td>10</td>\n      <td>Percentage</td>\n      <td>70</td>\n    </tr>\n    <tr>\n      <th>310</th>\n      <td>132028</td>\n      <td>10/29/2021</td>\n      <td>11/4/2021</td>\n      <td>10</td>\n      <td>Percentage</td>\n      <td>45</td>\n    </tr>\n    <tr>\n      <th>311</th>\n      <td>1076938</td>\n      <td>3/11/2022</td>\n      <td>3/17/2022</td>\n      <td>10</td>\n      <td>Percentage</td>\n      <td>80</td>\n    </tr>\n    <tr>\n      <th>312</th>\n      <td>17287</td>\n      <td>12/24/2021</td>\n      <td>12/30/2021</td>\n      <td>10</td>\n      <td>Percentage</td>\n      <td>70</td>\n    </tr>\n    <tr>\n      <th>313</th>\n      <td>23569</td>\n      <td>10/29/2021</td>\n      <td>11/4/2021</td>\n      <td>10</td>\n      <td>Percentage</td>\n      <td>75</td>\n    </tr>\n  </tbody>\n</table>\n<p>314 rows × 6 columns</p>\n</div>"
     },
     "execution_count": 102,
     "metadata": {},
     "output_type": "execute_result"
    }
   ],
   "source": [
    "promo_data"
   ],
   "metadata": {
    "collapsed": false,
    "pycharm": {
     "name": "#%%\n"
    }
   }
  },
  {
   "cell_type": "code",
   "execution_count": 103,
   "outputs": [],
   "source": [
    "promo_data[\"PromotionStartDate\"] = pd.to_datetime(promo_data[\"PromotionStartDate\"])\n",
    "promo_data[\"PromotionEndDate\"] = pd.to_datetime(promo_data[\"PromotionEndDate\"])"
   ],
   "metadata": {
    "collapsed": false,
    "pycharm": {
     "name": "#%%\n"
    }
   }
  },
  {
   "cell_type": "code",
   "execution_count": 104,
   "outputs": [
    {
     "data": {
      "text/plain": "1047967    140\n1067092    140\n59749      140\n17296      140\n20824      140\n          ... \n1090114     64\n1090294     62\n1015621     61\n52099       59\n904984      58\nName: ItemCode, Length: 197, dtype: int64"
     },
     "execution_count": 104,
     "metadata": {},
     "output_type": "execute_result"
    }
   ],
   "source": [
    "train_data[\"ItemCode\"].value_counts()"
   ],
   "metadata": {
    "collapsed": false,
    "pycharm": {
     "name": "#%%\n"
    }
   }
  },
  {
   "cell_type": "code",
   "execution_count": 105,
   "outputs": [
    {
     "data": {
      "text/plain": "1066570    14\n1085749    13\n1048975    13\n17287      13\n379249     12\n           ..\n815101      1\n1090276     1\n687616      1\n903976      1\n1071124     1\nName: ItemCode, Length: 66, dtype: int64"
     },
     "execution_count": 105,
     "metadata": {},
     "output_type": "execute_result"
    }
   ],
   "source": [
    "promo_data[\"ItemCode\"].value_counts()"
   ],
   "metadata": {
    "collapsed": false,
    "pycharm": {
     "name": "#%%\n"
    }
   }
  },
  {
   "cell_type": "code",
   "execution_count": 106,
   "outputs": [],
   "source": [
    "promo_combined.index = pd.MultiIndex.from_frame(promo_combined[[\"ItemCode\",\"DateID\"]], names=[\"ItemCode\",\"DateID\"])"
   ],
   "metadata": {
    "collapsed": false,
    "pycharm": {
     "name": "#%%\n"
    }
   }
  },
  {
   "cell_type": "code",
   "execution_count": 107,
   "outputs": [
    {
     "data": {
      "text/plain": "                    CategoryCode  ItemCode      DateID  DailySales  \\\nItemCode DateID                                                      \n379249   2021-12-04   category_1    379249  2021-12-04           9   \n         2021-12-07   category_1    379249  2021-12-07          11   \n         2021-12-05   category_1    379249  2021-12-05           9   \n         2021-12-08   category_1    379249  2021-12-08           9   \n         2021-12-06   category_1    379249  2021-12-06           6   \n...                          ...       ...         ...         ...   \n23569    2021-11-20   category_2     23569  2021-11-20           6   \n         2021-11-13   category_2     23569  2021-11-13           3   \n         2021-11-15   category_2     23569  2021-11-15           6   \n         2021-11-14   category_2     23569  2021-11-14           7   \n         2021-11-17   category_2     23569  2021-11-17           8   \n\n                    PromoStarted  PromoEnded  DiscountValue DiscountType  \\\nItemCode DateID                                                            \n379249   2021-12-04   2021-12-03  2021-12-09             10   Percentage   \n         2021-12-07   2021-12-03  2021-12-09             10   Percentage   \n         2021-12-05   2021-12-03  2021-12-09             10   Percentage   \n         2021-12-08   2021-12-03  2021-12-09             10   Percentage   \n         2021-12-06   2021-12-03  2021-12-09             10   Percentage   \n...                          ...         ...            ...          ...   \n23569    2021-11-20   2021-11-19  2021-11-25             10   Percentage   \n         2021-11-13   2021-11-12  2021-11-18             10   Percentage   \n         2021-11-15   2021-11-12  2021-11-18             10   Percentage   \n         2021-11-14   2021-11-12  2021-11-18             10   Percentage   \n         2021-11-17   2021-11-12  2021-11-18             10   Percentage   \n\n                     SellingPrice  \nItemCode DateID                    \n379249   2021-12-04            70  \n         2021-12-07            70  \n         2021-12-05            70  \n         2021-12-08            70  \n         2021-12-06            70  \n...                           ...  \n23569    2021-11-20            80  \n         2021-11-13            80  \n         2021-11-15            80  \n         2021-11-14            80  \n         2021-11-17            80  \n\n[8912 rows x 9 columns]",
      "text/html": "<div>\n<style scoped>\n    .dataframe tbody tr th:only-of-type {\n        vertical-align: middle;\n    }\n\n    .dataframe tbody tr th {\n        vertical-align: top;\n    }\n\n    .dataframe thead th {\n        text-align: right;\n    }\n</style>\n<table border=\"1\" class=\"dataframe\">\n  <thead>\n    <tr style=\"text-align: right;\">\n      <th></th>\n      <th></th>\n      <th>CategoryCode</th>\n      <th>ItemCode</th>\n      <th>DateID</th>\n      <th>DailySales</th>\n      <th>PromoStarted</th>\n      <th>PromoEnded</th>\n      <th>DiscountValue</th>\n      <th>DiscountType</th>\n      <th>SellingPrice</th>\n    </tr>\n    <tr>\n      <th>ItemCode</th>\n      <th>DateID</th>\n      <th></th>\n      <th></th>\n      <th></th>\n      <th></th>\n      <th></th>\n      <th></th>\n      <th></th>\n      <th></th>\n      <th></th>\n    </tr>\n  </thead>\n  <tbody>\n    <tr>\n      <th rowspan=\"5\" valign=\"top\">379249</th>\n      <th>2021-12-04</th>\n      <td>category_1</td>\n      <td>379249</td>\n      <td>2021-12-04</td>\n      <td>9</td>\n      <td>2021-12-03</td>\n      <td>2021-12-09</td>\n      <td>10</td>\n      <td>Percentage</td>\n      <td>70</td>\n    </tr>\n    <tr>\n      <th>2021-12-07</th>\n      <td>category_1</td>\n      <td>379249</td>\n      <td>2021-12-07</td>\n      <td>11</td>\n      <td>2021-12-03</td>\n      <td>2021-12-09</td>\n      <td>10</td>\n      <td>Percentage</td>\n      <td>70</td>\n    </tr>\n    <tr>\n      <th>2021-12-05</th>\n      <td>category_1</td>\n      <td>379249</td>\n      <td>2021-12-05</td>\n      <td>9</td>\n      <td>2021-12-03</td>\n      <td>2021-12-09</td>\n      <td>10</td>\n      <td>Percentage</td>\n      <td>70</td>\n    </tr>\n    <tr>\n      <th>2021-12-08</th>\n      <td>category_1</td>\n      <td>379249</td>\n      <td>2021-12-08</td>\n      <td>9</td>\n      <td>2021-12-03</td>\n      <td>2021-12-09</td>\n      <td>10</td>\n      <td>Percentage</td>\n      <td>70</td>\n    </tr>\n    <tr>\n      <th>2021-12-06</th>\n      <td>category_1</td>\n      <td>379249</td>\n      <td>2021-12-06</td>\n      <td>6</td>\n      <td>2021-12-03</td>\n      <td>2021-12-09</td>\n      <td>10</td>\n      <td>Percentage</td>\n      <td>70</td>\n    </tr>\n    <tr>\n      <th>...</th>\n      <th>...</th>\n      <td>...</td>\n      <td>...</td>\n      <td>...</td>\n      <td>...</td>\n      <td>...</td>\n      <td>...</td>\n      <td>...</td>\n      <td>...</td>\n      <td>...</td>\n    </tr>\n    <tr>\n      <th rowspan=\"5\" valign=\"top\">23569</th>\n      <th>2021-11-20</th>\n      <td>category_2</td>\n      <td>23569</td>\n      <td>2021-11-20</td>\n      <td>6</td>\n      <td>2021-11-19</td>\n      <td>2021-11-25</td>\n      <td>10</td>\n      <td>Percentage</td>\n      <td>80</td>\n    </tr>\n    <tr>\n      <th>2021-11-13</th>\n      <td>category_2</td>\n      <td>23569</td>\n      <td>2021-11-13</td>\n      <td>3</td>\n      <td>2021-11-12</td>\n      <td>2021-11-18</td>\n      <td>10</td>\n      <td>Percentage</td>\n      <td>80</td>\n    </tr>\n    <tr>\n      <th>2021-11-15</th>\n      <td>category_2</td>\n      <td>23569</td>\n      <td>2021-11-15</td>\n      <td>6</td>\n      <td>2021-11-12</td>\n      <td>2021-11-18</td>\n      <td>10</td>\n      <td>Percentage</td>\n      <td>80</td>\n    </tr>\n    <tr>\n      <th>2021-11-14</th>\n      <td>category_2</td>\n      <td>23569</td>\n      <td>2021-11-14</td>\n      <td>7</td>\n      <td>2021-11-12</td>\n      <td>2021-11-18</td>\n      <td>10</td>\n      <td>Percentage</td>\n      <td>80</td>\n    </tr>\n    <tr>\n      <th>2021-11-17</th>\n      <td>category_2</td>\n      <td>23569</td>\n      <td>2021-11-17</td>\n      <td>8</td>\n      <td>2021-11-12</td>\n      <td>2021-11-18</td>\n      <td>10</td>\n      <td>Percentage</td>\n      <td>80</td>\n    </tr>\n  </tbody>\n</table>\n<p>8912 rows × 9 columns</p>\n</div>"
     },
     "execution_count": 107,
     "metadata": {},
     "output_type": "execute_result"
    }
   ],
   "source": [
    "promo_combined"
   ],
   "metadata": {
    "collapsed": false,
    "pycharm": {
     "name": "#%%\n"
    }
   }
  },
  {
   "cell_type": "code",
   "execution_count": 108,
   "outputs": [
    {
     "data": {
      "text/plain": "      CategoryCode  ItemCode      DateID  DailySales\n0       category_2   1071115  12/19/2021           1\n1       category_4    210652   2/13/2022           1\n2       category_2    877624  12/19/2021           1\n3       category_1    371104  12/19/2021           3\n4       category_1   1090294  12/19/2021           3\n...            ...       ...         ...         ...\n20646   category_1     36898  10/12/2021           1\n20647   category_2    111436  10/12/2021           1\n20648   category_2    815101  10/12/2021           4\n20649   category_3   1064572  10/12/2021           1\n20650   category_2     87559  10/12/2021           1\n\n[20651 rows x 4 columns]",
      "text/html": "<div>\n<style scoped>\n    .dataframe tbody tr th:only-of-type {\n        vertical-align: middle;\n    }\n\n    .dataframe tbody tr th {\n        vertical-align: top;\n    }\n\n    .dataframe thead th {\n        text-align: right;\n    }\n</style>\n<table border=\"1\" class=\"dataframe\">\n  <thead>\n    <tr style=\"text-align: right;\">\n      <th></th>\n      <th>CategoryCode</th>\n      <th>ItemCode</th>\n      <th>DateID</th>\n      <th>DailySales</th>\n    </tr>\n  </thead>\n  <tbody>\n    <tr>\n      <th>0</th>\n      <td>category_2</td>\n      <td>1071115</td>\n      <td>12/19/2021</td>\n      <td>1</td>\n    </tr>\n    <tr>\n      <th>1</th>\n      <td>category_4</td>\n      <td>210652</td>\n      <td>2/13/2022</td>\n      <td>1</td>\n    </tr>\n    <tr>\n      <th>2</th>\n      <td>category_2</td>\n      <td>877624</td>\n      <td>12/19/2021</td>\n      <td>1</td>\n    </tr>\n    <tr>\n      <th>3</th>\n      <td>category_1</td>\n      <td>371104</td>\n      <td>12/19/2021</td>\n      <td>3</td>\n    </tr>\n    <tr>\n      <th>4</th>\n      <td>category_1</td>\n      <td>1090294</td>\n      <td>12/19/2021</td>\n      <td>3</td>\n    </tr>\n    <tr>\n      <th>...</th>\n      <td>...</td>\n      <td>...</td>\n      <td>...</td>\n      <td>...</td>\n    </tr>\n    <tr>\n      <th>20646</th>\n      <td>category_1</td>\n      <td>36898</td>\n      <td>10/12/2021</td>\n      <td>1</td>\n    </tr>\n    <tr>\n      <th>20647</th>\n      <td>category_2</td>\n      <td>111436</td>\n      <td>10/12/2021</td>\n      <td>1</td>\n    </tr>\n    <tr>\n      <th>20648</th>\n      <td>category_2</td>\n      <td>815101</td>\n      <td>10/12/2021</td>\n      <td>4</td>\n    </tr>\n    <tr>\n      <th>20649</th>\n      <td>category_3</td>\n      <td>1064572</td>\n      <td>10/12/2021</td>\n      <td>1</td>\n    </tr>\n    <tr>\n      <th>20650</th>\n      <td>category_2</td>\n      <td>87559</td>\n      <td>10/12/2021</td>\n      <td>1</td>\n    </tr>\n  </tbody>\n</table>\n<p>20651 rows × 4 columns</p>\n</div>"
     },
     "execution_count": 108,
     "metadata": {},
     "output_type": "execute_result"
    }
   ],
   "source": [
    "train_data"
   ],
   "metadata": {
    "collapsed": false,
    "pycharm": {
     "name": "#%%\n"
    }
   }
  },
  {
   "cell_type": "code",
   "execution_count": 109,
   "outputs": [],
   "source": [
    "train_data.insert(2,\"SellingPrice\",None)\n",
    "train_data.insert(3,\"DistanceToClosestPromo\",None)\n",
    "train_data.insert(4,\"onPromo\",None)\n",
    "train_data[\"DateID\"] = pd.to_datetime(train_data[\"DateID\"])"
   ],
   "metadata": {
    "collapsed": false,
    "pycharm": {
     "name": "#%%\n"
    }
   }
  },
  {
   "cell_type": "code",
   "execution_count": 110,
   "outputs": [
    {
     "name": "stderr",
     "output_type": "stream",
     "text": [
      "100%|██████████| 20651/20651 [00:23<00:00, 893.59it/s] \n"
     ]
    }
   ],
   "source": [
    "lis = []\n",
    "for index in tqdm(train_data.index):\n",
    "    row = train_data.loc[index]\n",
    "    promotion_per_item_code = promo_data[promo_data[\"ItemCode\"] == row[\"ItemCode\"]]\n",
    "    promotion_per_item_code.sort_values(by=['PromotionStartDate'])\n",
    "    if not promotion_per_item_code.shape[0] == 0:\n",
    "        with_sel_range = promotion_per_item_code[(promotion_per_item_code[\"PromotionStartDate\"]<row[\"DateID\"]) & (promotion_per_item_code[\"PromotionEndDate\"]>row[\"DateID\"])]\n",
    "\n",
    "        if not with_sel_range.shape[0] == 0:\n",
    "            train_data.at[index,\"SellingPrice\"] = with_sel_range.at[with_sel_range.index[0],\"SellingPrice\"]\n",
    "            train_data.at[index,\"DistanceToClosestPromo\"] = 0\n",
    "        else:\n",
    "            if promotion_per_item_code.at[promotion_per_item_code.index[0],'PromotionStartDate']>row[\"DateID\"]:\n",
    "                train_data.at[index,\"SellingPrice\"] = promotion_per_item_code.at[promotion_per_item_code.index[0],'SellingPrice']\n",
    "                train_data.at[index,\"DistanceToClosestPromo\"] = promotion_per_item_code.at[promotion_per_item_code.index[0],'PromotionStartDate']-row[\"DateID\"]\n",
    "            elif promotion_per_item_code.at[promotion_per_item_code.index[-1],'PromotionEndDate']<row[\"DateID\"]:\n",
    "                train_data.at[index,\"SellingPrice\"] = promotion_per_item_code.at[promotion_per_item_code.index[-1],'SellingPrice']\n",
    "                train_data.at[index,\"DistanceToClosestPromo\"] = row[\"DateID\"] - promotion_per_item_code.at[promotion_per_item_code.index[0],'PromotionStartDate']\n",
    "            else:\n",
    "                for index_0_i in range(len(promotion_per_item_code.index)-1):\n",
    "                    index_0 = promotion_per_item_code.index[index_0_i]\n",
    "                    n_index_0 = promotion_per_item_code.index[index_0_i+1]\n",
    "                    if promotion_per_item_code.at[index_0,\"PromotionEndDate\"]<row[\"DateID\"]<promotion_per_item_code.at[n_index_0,\"PromotionStartDate\"]:\n",
    "                        train_data.at[index,\"SellingPrice\"] = (promotion_per_item_code.at[index_0,\"SellingPrice\"]+promotion_per_item_code.at[n_index_0,\"SellingPrice\"])/2\n",
    "\n",
    "                        train_data.at[index,\"DistanceToClosestPromo\"] = min(row[\"DateID\"]-promotion_per_item_code.at[index_0,\"PromotionEndDate\"],promotion_per_item_code.at[n_index_0,\"PromotionStartDate\"]-row[\"DateID\"])\n",
    "\n",
    "                if train_data.at[index, \"SellingPrice\"] is None:\n",
    "                    lis.append(index)\n",
    "\n",
    "                train_data.at[index,\"DistanceToClosestPromo\"] = -1\n",
    "    else:\n",
    "        train_data.at[index,\"DistanceToClosestPromo\"] = -1\n",
    "\n",
    "\n"
   ],
   "metadata": {
    "collapsed": false,
    "pycharm": {
     "name": "#%%\n"
    }
   }
  },
  {
   "cell_type": "code",
   "execution_count": 111,
   "outputs": [
    {
     "data": {
      "text/plain": "Empty DataFrame\nColumns: [ItemCode, PromotionStartDate, PromotionEndDate, DiscountValue, DiscountType, SellingPrice]\nIndex: []",
      "text/html": "<div>\n<style scoped>\n    .dataframe tbody tr th:only-of-type {\n        vertical-align: middle;\n    }\n\n    .dataframe tbody tr th {\n        vertical-align: top;\n    }\n\n    .dataframe thead th {\n        text-align: right;\n    }\n</style>\n<table border=\"1\" class=\"dataframe\">\n  <thead>\n    <tr style=\"text-align: right;\">\n      <th></th>\n      <th>ItemCode</th>\n      <th>PromotionStartDate</th>\n      <th>PromotionEndDate</th>\n      <th>DiscountValue</th>\n      <th>DiscountType</th>\n      <th>SellingPrice</th>\n    </tr>\n  </thead>\n  <tbody>\n  </tbody>\n</table>\n</div>"
     },
     "execution_count": 111,
     "metadata": {},
     "output_type": "execute_result"
    }
   ],
   "source": [
    "promo_data.loc[promo_data[\"ItemCode\"].isin(list(set(lis)))]"
   ],
   "metadata": {
    "collapsed": false,
    "pycharm": {
     "name": "#%%\n"
    }
   }
  },
  {
   "cell_type": "code",
   "execution_count": 112,
   "outputs": [
    {
     "data": {
      "text/plain": "CategoryCode                  0\nItemCode                      0\nSellingPrice              13726\nDistanceToClosestPromo        0\nonPromo                   20651\nDateID                        0\nDailySales                    0\ndtype: int64"
     },
     "execution_count": 112,
     "metadata": {},
     "output_type": "execute_result"
    }
   ],
   "source": [
    "train_data.isnull().sum()"
   ],
   "metadata": {
    "collapsed": false,
    "pycharm": {
     "name": "#%%\n"
    }
   }
  },
  {
   "cell_type": "code",
   "execution_count": 113,
   "outputs": [
    {
     "data": {
      "text/plain": "      CategoryCode  ItemCode SellingPrice DistanceToClosestPromo onPromo  \\\n0       category_2   1071115         None                     -1    None   \n1       category_4    210652         None                     -1    None   \n2       category_2    877624         None                     -1    None   \n3       category_1    371104         None                     -1    None   \n4       category_1   1090294         None                     -1    None   \n...            ...       ...          ...                    ...     ...   \n20646   category_1     36898         None                     -1    None   \n20647   category_2    111436         None                     -1    None   \n20648   category_2    815101           80       59 days 00:00:00    None   \n20649   category_3   1064572          370      150 days 00:00:00    None   \n20650   category_2     87559          150      143 days 00:00:00    None   \n\n          DateID  DailySales  \n0     2021-12-19           1  \n1     2022-02-13           1  \n2     2021-12-19           1  \n3     2021-12-19           3  \n4     2021-12-19           3  \n...          ...         ...  \n20646 2021-10-12           1  \n20647 2021-10-12           1  \n20648 2021-10-12           4  \n20649 2021-10-12           1  \n20650 2021-10-12           1  \n\n[20651 rows x 7 columns]",
      "text/html": "<div>\n<style scoped>\n    .dataframe tbody tr th:only-of-type {\n        vertical-align: middle;\n    }\n\n    .dataframe tbody tr th {\n        vertical-align: top;\n    }\n\n    .dataframe thead th {\n        text-align: right;\n    }\n</style>\n<table border=\"1\" class=\"dataframe\">\n  <thead>\n    <tr style=\"text-align: right;\">\n      <th></th>\n      <th>CategoryCode</th>\n      <th>ItemCode</th>\n      <th>SellingPrice</th>\n      <th>DistanceToClosestPromo</th>\n      <th>onPromo</th>\n      <th>DateID</th>\n      <th>DailySales</th>\n    </tr>\n  </thead>\n  <tbody>\n    <tr>\n      <th>0</th>\n      <td>category_2</td>\n      <td>1071115</td>\n      <td>None</td>\n      <td>-1</td>\n      <td>None</td>\n      <td>2021-12-19</td>\n      <td>1</td>\n    </tr>\n    <tr>\n      <th>1</th>\n      <td>category_4</td>\n      <td>210652</td>\n      <td>None</td>\n      <td>-1</td>\n      <td>None</td>\n      <td>2022-02-13</td>\n      <td>1</td>\n    </tr>\n    <tr>\n      <th>2</th>\n      <td>category_2</td>\n      <td>877624</td>\n      <td>None</td>\n      <td>-1</td>\n      <td>None</td>\n      <td>2021-12-19</td>\n      <td>1</td>\n    </tr>\n    <tr>\n      <th>3</th>\n      <td>category_1</td>\n      <td>371104</td>\n      <td>None</td>\n      <td>-1</td>\n      <td>None</td>\n      <td>2021-12-19</td>\n      <td>3</td>\n    </tr>\n    <tr>\n      <th>4</th>\n      <td>category_1</td>\n      <td>1090294</td>\n      <td>None</td>\n      <td>-1</td>\n      <td>None</td>\n      <td>2021-12-19</td>\n      <td>3</td>\n    </tr>\n    <tr>\n      <th>...</th>\n      <td>...</td>\n      <td>...</td>\n      <td>...</td>\n      <td>...</td>\n      <td>...</td>\n      <td>...</td>\n      <td>...</td>\n    </tr>\n    <tr>\n      <th>20646</th>\n      <td>category_1</td>\n      <td>36898</td>\n      <td>None</td>\n      <td>-1</td>\n      <td>None</td>\n      <td>2021-10-12</td>\n      <td>1</td>\n    </tr>\n    <tr>\n      <th>20647</th>\n      <td>category_2</td>\n      <td>111436</td>\n      <td>None</td>\n      <td>-1</td>\n      <td>None</td>\n      <td>2021-10-12</td>\n      <td>1</td>\n    </tr>\n    <tr>\n      <th>20648</th>\n      <td>category_2</td>\n      <td>815101</td>\n      <td>80</td>\n      <td>59 days 00:00:00</td>\n      <td>None</td>\n      <td>2021-10-12</td>\n      <td>4</td>\n    </tr>\n    <tr>\n      <th>20649</th>\n      <td>category_3</td>\n      <td>1064572</td>\n      <td>370</td>\n      <td>150 days 00:00:00</td>\n      <td>None</td>\n      <td>2021-10-12</td>\n      <td>1</td>\n    </tr>\n    <tr>\n      <th>20650</th>\n      <td>category_2</td>\n      <td>87559</td>\n      <td>150</td>\n      <td>143 days 00:00:00</td>\n      <td>None</td>\n      <td>2021-10-12</td>\n      <td>1</td>\n    </tr>\n  </tbody>\n</table>\n<p>20651 rows × 7 columns</p>\n</div>"
     },
     "execution_count": 113,
     "metadata": {},
     "output_type": "execute_result"
    }
   ],
   "source": [
    "train_data"
   ],
   "metadata": {
    "collapsed": false,
    "pycharm": {
     "name": "#%%\n"
    }
   }
  },
  {
   "cell_type": "code",
   "execution_count": 114,
   "outputs": [],
   "source": [
    "train_data.index = pd.MultiIndex.from_frame(train_data[[\"ItemCode\",\"DateID\"]], names=[\"ItemCode\",\"DateID\"])"
   ],
   "metadata": {
    "collapsed": false,
    "pycharm": {
     "name": "#%%\n"
    }
   }
  },
  {
   "cell_type": "code",
   "execution_count": 115,
   "outputs": [],
   "source": [
    "train_data.loc[promo_combined.index,\"onPromo\"] = 1\n",
    "train_data[\"onPromo\"] = train_data[\"onPromo\"].fillna(0)"
   ],
   "metadata": {
    "collapsed": false,
    "pycharm": {
     "name": "#%%\n"
    }
   }
  },
  {
   "cell_type": "code",
   "execution_count": 116,
   "outputs": [
    {
     "data": {
      "text/plain": "CategoryCode                  0\nItemCode                      0\nSellingPrice              13726\nDistanceToClosestPromo        0\nonPromo                       0\nDateID                        0\nDailySales                    0\ndtype: int64"
     },
     "execution_count": 116,
     "metadata": {},
     "output_type": "execute_result"
    }
   ],
   "source": [
    "train_data.isnull().sum()"
   ],
   "metadata": {
    "collapsed": false,
    "pycharm": {
     "name": "#%%\n"
    }
   }
  },
  {
   "cell_type": "code",
   "execution_count": 117,
   "outputs": [
    {
     "data": {
      "text/plain": "                    CategoryCode  ItemCode SellingPrice  \\\nItemCode DateID                                           \n1071115  2021-12-19   category_2   1071115         None   \n210652   2022-02-13   category_4    210652         None   \n877624   2021-12-19   category_2    877624         None   \n371104   2021-12-19   category_1    371104         None   \n1090294  2021-12-19   category_1   1090294         None   \n...                          ...       ...          ...   \n36898    2021-10-12   category_1     36898         None   \n111436   2021-10-12   category_2    111436         None   \n815101   2021-10-12   category_2    815101           80   \n1064572  2021-10-12   category_3   1064572          370   \n87559    2021-10-12   category_2     87559          150   \n\n                    DistanceToClosestPromo  onPromo     DateID  DailySales  \nItemCode DateID                                                             \n1071115  2021-12-19                     -1        0 2021-12-19           1  \n210652   2022-02-13                     -1        0 2022-02-13           1  \n877624   2021-12-19                     -1        0 2021-12-19           1  \n371104   2021-12-19                     -1        0 2021-12-19           3  \n1090294  2021-12-19                     -1        0 2021-12-19           3  \n...                                    ...      ...        ...         ...  \n36898    2021-10-12                     -1        0 2021-10-12           1  \n111436   2021-10-12                     -1        0 2021-10-12           1  \n815101   2021-10-12       59 days 00:00:00        0 2021-10-12           4  \n1064572  2021-10-12      150 days 00:00:00        0 2021-10-12           1  \n87559    2021-10-12      143 days 00:00:00        0 2021-10-12           1  \n\n[20651 rows x 7 columns]",
      "text/html": "<div>\n<style scoped>\n    .dataframe tbody tr th:only-of-type {\n        vertical-align: middle;\n    }\n\n    .dataframe tbody tr th {\n        vertical-align: top;\n    }\n\n    .dataframe thead th {\n        text-align: right;\n    }\n</style>\n<table border=\"1\" class=\"dataframe\">\n  <thead>\n    <tr style=\"text-align: right;\">\n      <th></th>\n      <th></th>\n      <th>CategoryCode</th>\n      <th>ItemCode</th>\n      <th>SellingPrice</th>\n      <th>DistanceToClosestPromo</th>\n      <th>onPromo</th>\n      <th>DateID</th>\n      <th>DailySales</th>\n    </tr>\n    <tr>\n      <th>ItemCode</th>\n      <th>DateID</th>\n      <th></th>\n      <th></th>\n      <th></th>\n      <th></th>\n      <th></th>\n      <th></th>\n      <th></th>\n    </tr>\n  </thead>\n  <tbody>\n    <tr>\n      <th>1071115</th>\n      <th>2021-12-19</th>\n      <td>category_2</td>\n      <td>1071115</td>\n      <td>None</td>\n      <td>-1</td>\n      <td>0</td>\n      <td>2021-12-19</td>\n      <td>1</td>\n    </tr>\n    <tr>\n      <th>210652</th>\n      <th>2022-02-13</th>\n      <td>category_4</td>\n      <td>210652</td>\n      <td>None</td>\n      <td>-1</td>\n      <td>0</td>\n      <td>2022-02-13</td>\n      <td>1</td>\n    </tr>\n    <tr>\n      <th>877624</th>\n      <th>2021-12-19</th>\n      <td>category_2</td>\n      <td>877624</td>\n      <td>None</td>\n      <td>-1</td>\n      <td>0</td>\n      <td>2021-12-19</td>\n      <td>1</td>\n    </tr>\n    <tr>\n      <th>371104</th>\n      <th>2021-12-19</th>\n      <td>category_1</td>\n      <td>371104</td>\n      <td>None</td>\n      <td>-1</td>\n      <td>0</td>\n      <td>2021-12-19</td>\n      <td>3</td>\n    </tr>\n    <tr>\n      <th>1090294</th>\n      <th>2021-12-19</th>\n      <td>category_1</td>\n      <td>1090294</td>\n      <td>None</td>\n      <td>-1</td>\n      <td>0</td>\n      <td>2021-12-19</td>\n      <td>3</td>\n    </tr>\n    <tr>\n      <th>...</th>\n      <th>...</th>\n      <td>...</td>\n      <td>...</td>\n      <td>...</td>\n      <td>...</td>\n      <td>...</td>\n      <td>...</td>\n      <td>...</td>\n    </tr>\n    <tr>\n      <th>36898</th>\n      <th>2021-10-12</th>\n      <td>category_1</td>\n      <td>36898</td>\n      <td>None</td>\n      <td>-1</td>\n      <td>0</td>\n      <td>2021-10-12</td>\n      <td>1</td>\n    </tr>\n    <tr>\n      <th>111436</th>\n      <th>2021-10-12</th>\n      <td>category_2</td>\n      <td>111436</td>\n      <td>None</td>\n      <td>-1</td>\n      <td>0</td>\n      <td>2021-10-12</td>\n      <td>1</td>\n    </tr>\n    <tr>\n      <th>815101</th>\n      <th>2021-10-12</th>\n      <td>category_2</td>\n      <td>815101</td>\n      <td>80</td>\n      <td>59 days 00:00:00</td>\n      <td>0</td>\n      <td>2021-10-12</td>\n      <td>4</td>\n    </tr>\n    <tr>\n      <th>1064572</th>\n      <th>2021-10-12</th>\n      <td>category_3</td>\n      <td>1064572</td>\n      <td>370</td>\n      <td>150 days 00:00:00</td>\n      <td>0</td>\n      <td>2021-10-12</td>\n      <td>1</td>\n    </tr>\n    <tr>\n      <th>87559</th>\n      <th>2021-10-12</th>\n      <td>category_2</td>\n      <td>87559</td>\n      <td>150</td>\n      <td>143 days 00:00:00</td>\n      <td>0</td>\n      <td>2021-10-12</td>\n      <td>1</td>\n    </tr>\n  </tbody>\n</table>\n<p>20651 rows × 7 columns</p>\n</div>"
     },
     "execution_count": 117,
     "metadata": {},
     "output_type": "execute_result"
    }
   ],
   "source": [
    "train_data"
   ],
   "metadata": {
    "collapsed": false,
    "pycharm": {
     "name": "#%%\n"
    }
   }
  },
  {
   "cell_type": "code",
   "execution_count": 118,
   "outputs": [],
   "source": [
    "train_data.to_csv(\"editted.csv\", index=False)"
   ],
   "metadata": {
    "collapsed": false,
    "pycharm": {
     "name": "#%%\n"
    }
   }
  },
  {
   "cell_type": "code",
   "execution_count": null,
   "outputs": [],
   "source": [],
   "metadata": {
    "collapsed": false,
    "pycharm": {
     "name": "#%%\n"
    }
   }
  }
 ],
 "metadata": {
  "kernelspec": {
   "display_name": "Python 3",
   "language": "python",
   "name": "python3"
  },
  "language_info": {
   "codemirror_mode": {
    "name": "ipython",
    "version": 2
   },
   "file_extension": ".py",
   "mimetype": "text/x-python",
   "name": "python",
   "nbconvert_exporter": "python",
   "pygments_lexer": "ipython2",
   "version": "2.7.6"
  }
 },
 "nbformat": 4,
 "nbformat_minor": 0
}