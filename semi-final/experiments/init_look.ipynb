{
 "cells": [
  {
   "cell_type": "code",
   "execution_count": 3,
   "metadata": {
    "collapsed": true
   },
   "outputs": [],
   "source": [
    "import pandas as pd"
   ]
  },
  {
   "cell_type": "code",
   "execution_count": 13,
   "outputs": [],
   "source": [
    "merged_promo_df = pd.read_csv(\"D:\\\\Competitions\\\\DataStorm-2022\\\\semi-final\\\\data\\\\merged_promo_item_df.csv\")\n",
    "test_pd = pd.read_csv(\"D:\\\\Competitions\\\\DataStorm-2022\\\\semi-final\\\\data\\\\test_data.csv\")"
   ],
   "metadata": {
    "collapsed": false,
    "pycharm": {
     "name": "#%%\n"
    }
   }
  },
  {
   "cell_type": "code",
   "execution_count": 11,
   "outputs": [
    {
     "data": {
      "text/plain": "CategoryCode     0\nItemCode         0\nDateID           0\nDailySales       0\nPromoStarted     0\nPromoEnded       0\nDiscountValue    0\nDiscountType     0\nSellingPrice     0\ndtype: int64"
     },
     "execution_count": 11,
     "metadata": {},
     "output_type": "execute_result"
    }
   ],
   "source": [
    "merged_promo_df.isnull().sum()"
   ],
   "metadata": {
    "collapsed": false,
    "pycharm": {
     "name": "#%%\n"
    }
   }
  },
  {
   "cell_type": "code",
   "execution_count": 12,
   "outputs": [
    {
     "data": {
      "text/plain": "     CategoryCode  ItemCode      DateID  DailySales PromoStarted  PromoEnded  \\\n0      category_1    379249  2021-12-04           9   2021-12-03  2021-12-09   \n1      category_1    379249  2021-12-07          11   2021-12-03  2021-12-09   \n2      category_1    379249  2021-12-05           9   2021-12-03  2021-12-09   \n3      category_1    379249  2021-12-08           9   2021-12-03  2021-12-09   \n4      category_1    379249  2021-12-06           6   2021-12-03  2021-12-09   \n...           ...       ...         ...         ...          ...         ...   \n8907   category_2     23569  2021-11-20           6   2021-11-19  2021-11-25   \n8908   category_2     23569  2021-11-13           3   2021-11-12  2021-11-18   \n8909   category_2     23569  2021-11-15           6   2021-11-12  2021-11-18   \n8910   category_2     23569  2021-11-14           7   2021-11-12  2021-11-18   \n8911   category_2     23569  2021-11-17           8   2021-11-12  2021-11-18   \n\n      DiscountValue DiscountType  SellingPrice  \n0                10   Percentage            70  \n1                10   Percentage            70  \n2                10   Percentage            70  \n3                10   Percentage            70  \n4                10   Percentage            70  \n...             ...          ...           ...  \n8907             10   Percentage            80  \n8908             10   Percentage            80  \n8909             10   Percentage            80  \n8910             10   Percentage            80  \n8911             10   Percentage            80  \n\n[8912 rows x 9 columns]",
      "text/html": "<div>\n<style scoped>\n    .dataframe tbody tr th:only-of-type {\n        vertical-align: middle;\n    }\n\n    .dataframe tbody tr th {\n        vertical-align: top;\n    }\n\n    .dataframe thead th {\n        text-align: right;\n    }\n</style>\n<table border=\"1\" class=\"dataframe\">\n  <thead>\n    <tr style=\"text-align: right;\">\n      <th></th>\n      <th>CategoryCode</th>\n      <th>ItemCode</th>\n      <th>DateID</th>\n      <th>DailySales</th>\n      <th>PromoStarted</th>\n      <th>PromoEnded</th>\n      <th>DiscountValue</th>\n      <th>DiscountType</th>\n      <th>SellingPrice</th>\n    </tr>\n  </thead>\n  <tbody>\n    <tr>\n      <th>0</th>\n      <td>category_1</td>\n      <td>379249</td>\n      <td>2021-12-04</td>\n      <td>9</td>\n      <td>2021-12-03</td>\n      <td>2021-12-09</td>\n      <td>10</td>\n      <td>Percentage</td>\n      <td>70</td>\n    </tr>\n    <tr>\n      <th>1</th>\n      <td>category_1</td>\n      <td>379249</td>\n      <td>2021-12-07</td>\n      <td>11</td>\n      <td>2021-12-03</td>\n      <td>2021-12-09</td>\n      <td>10</td>\n      <td>Percentage</td>\n      <td>70</td>\n    </tr>\n    <tr>\n      <th>2</th>\n      <td>category_1</td>\n      <td>379249</td>\n      <td>2021-12-05</td>\n      <td>9</td>\n      <td>2021-12-03</td>\n      <td>2021-12-09</td>\n      <td>10</td>\n      <td>Percentage</td>\n      <td>70</td>\n    </tr>\n    <tr>\n      <th>3</th>\n      <td>category_1</td>\n      <td>379249</td>\n      <td>2021-12-08</td>\n      <td>9</td>\n      <td>2021-12-03</td>\n      <td>2021-12-09</td>\n      <td>10</td>\n      <td>Percentage</td>\n      <td>70</td>\n    </tr>\n    <tr>\n      <th>4</th>\n      <td>category_1</td>\n      <td>379249</td>\n      <td>2021-12-06</td>\n      <td>6</td>\n      <td>2021-12-03</td>\n      <td>2021-12-09</td>\n      <td>10</td>\n      <td>Percentage</td>\n      <td>70</td>\n    </tr>\n    <tr>\n      <th>...</th>\n      <td>...</td>\n      <td>...</td>\n      <td>...</td>\n      <td>...</td>\n      <td>...</td>\n      <td>...</td>\n      <td>...</td>\n      <td>...</td>\n      <td>...</td>\n    </tr>\n    <tr>\n      <th>8907</th>\n      <td>category_2</td>\n      <td>23569</td>\n      <td>2021-11-20</td>\n      <td>6</td>\n      <td>2021-11-19</td>\n      <td>2021-11-25</td>\n      <td>10</td>\n      <td>Percentage</td>\n      <td>80</td>\n    </tr>\n    <tr>\n      <th>8908</th>\n      <td>category_2</td>\n      <td>23569</td>\n      <td>2021-11-13</td>\n      <td>3</td>\n      <td>2021-11-12</td>\n      <td>2021-11-18</td>\n      <td>10</td>\n      <td>Percentage</td>\n      <td>80</td>\n    </tr>\n    <tr>\n      <th>8909</th>\n      <td>category_2</td>\n      <td>23569</td>\n      <td>2021-11-15</td>\n      <td>6</td>\n      <td>2021-11-12</td>\n      <td>2021-11-18</td>\n      <td>10</td>\n      <td>Percentage</td>\n      <td>80</td>\n    </tr>\n    <tr>\n      <th>8910</th>\n      <td>category_2</td>\n      <td>23569</td>\n      <td>2021-11-14</td>\n      <td>7</td>\n      <td>2021-11-12</td>\n      <td>2021-11-18</td>\n      <td>10</td>\n      <td>Percentage</td>\n      <td>80</td>\n    </tr>\n    <tr>\n      <th>8911</th>\n      <td>category_2</td>\n      <td>23569</td>\n      <td>2021-11-17</td>\n      <td>8</td>\n      <td>2021-11-12</td>\n      <td>2021-11-18</td>\n      <td>10</td>\n      <td>Percentage</td>\n      <td>80</td>\n    </tr>\n  </tbody>\n</table>\n<p>8912 rows × 9 columns</p>\n</div>"
     },
     "execution_count": 12,
     "metadata": {},
     "output_type": "execute_result"
    }
   ],
   "source": [
    "merged_promo_df"
   ],
   "metadata": {
    "collapsed": false,
    "pycharm": {
     "name": "#%%\n"
    }
   }
  },
  {
   "cell_type": "code",
   "execution_count": 15,
   "outputs": [
    {
     "data": {
      "text/plain": "0    353\n1     24\nName: OnPromo, dtype: int64"
     },
     "execution_count": 15,
     "metadata": {},
     "output_type": "execute_result"
    }
   ],
   "source": [
    "test_pd"
   ],
   "metadata": {
    "collapsed": false,
    "pycharm": {
     "name": "#%%\n"
    }
   }
  },
  {
   "cell_type": "code",
   "execution_count": null,
   "outputs": [],
   "source": [],
   "metadata": {
    "collapsed": false,
    "pycharm": {
     "name": "#%%\n"
    }
   }
  }
 ],
 "metadata": {
  "kernelspec": {
   "display_name": "Python 3",
   "language": "python",
   "name": "python3"
  },
  "language_info": {
   "codemirror_mode": {
    "name": "ipython",
    "version": 2
   },
   "file_extension": ".py",
   "mimetype": "text/x-python",
   "name": "python",
   "nbconvert_exporter": "python",
   "pygments_lexer": "ipython2",
   "version": "2.7.6"
  }
 },
 "nbformat": 4,
 "nbformat_minor": 0
}