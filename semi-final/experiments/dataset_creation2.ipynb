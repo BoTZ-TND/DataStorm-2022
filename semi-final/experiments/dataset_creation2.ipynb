{
 "cells": [
  {
   "cell_type": "code",
   "execution_count": 43,
   "metadata": {
    "collapsed": true,
    "pycharm": {
     "name": "#%%\n"
    }
   },
   "outputs": [],
   "source": [
    "import pandas as pd\n",
    "from tqdm import tqdm"
   ]
  },
  {
   "cell_type": "code",
   "execution_count": 44,
   "outputs": [],
   "source": [
    "promo_combined = pd.read_csv(\"D:\\\\Competitions\\\\DataStorm-2022\\\\semi-final\\\\data\\\\merged_promo_item_df.csv\")\n",
    "promo_data = pd.read_csv(\"D:\\\\Competitions\\\\DataStorm-2022\\\\semi-final\\\\data\\\\promotion_data.csv\")\n",
    "train_data = pd.read_csv(\"D:\\\\Competitions\\\\DataStorm-2022\\\\semi-final\\\\data\\\\train_data.csv\")\n",
    "test_data = pd.read_csv(\"D:\\\\Competitions\\\\DataStorm-2022\\\\semi-final\\\\data\\\\test_data.csv\")\n",
    "val_data = pd.read_csv(\"D:\\\\Competitions\\\\DataStorm-2022\\\\semi-final\\\\data\\\\validation_data.csv\")"
   ],
   "metadata": {
    "collapsed": false,
    "pycharm": {
     "name": "#%%\n"
    }
   }
  },
  {
   "cell_type": "code",
   "execution_count": 45,
   "outputs": [],
   "source": [
    "promo_combined[\"PromoStarted\"] = pd.to_datetime(promo_combined[\"PromoStarted\"])\n",
    "promo_combined[\"PromoEnded\"] = pd.to_datetime(promo_combined[\"PromoEnded\"])\n",
    "promo_combined[\"DateID\"] = pd.to_datetime(promo_combined[\"DateID\"])"
   ],
   "metadata": {
    "collapsed": false,
    "pycharm": {
     "name": "#%%\n"
    }
   }
  },
  {
   "cell_type": "code",
   "execution_count": 46,
   "outputs": [
    {
     "data": {
      "text/plain": "     CategoryCode  ItemCode     DateID  DailySales PromoStarted PromoEnded  \\\n0      category_1    379249 2021-12-04           9   2021-12-03 2021-12-09   \n1      category_1    379249 2021-12-07          11   2021-12-03 2021-12-09   \n2      category_1    379249 2021-12-05           9   2021-12-03 2021-12-09   \n3      category_1    379249 2021-12-08           9   2021-12-03 2021-12-09   \n4      category_1    379249 2021-12-06           6   2021-12-03 2021-12-09   \n...           ...       ...        ...         ...          ...        ...   \n8907   category_2     23569 2021-11-20           6   2021-11-19 2021-11-25   \n8908   category_2     23569 2021-11-13           3   2021-11-12 2021-11-18   \n8909   category_2     23569 2021-11-15           6   2021-11-12 2021-11-18   \n8910   category_2     23569 2021-11-14           7   2021-11-12 2021-11-18   \n8911   category_2     23569 2021-11-17           8   2021-11-12 2021-11-18   \n\n      DiscountValue DiscountType  SellingPrice  \n0                10   Percentage            70  \n1                10   Percentage            70  \n2                10   Percentage            70  \n3                10   Percentage            70  \n4                10   Percentage            70  \n...             ...          ...           ...  \n8907             10   Percentage            80  \n8908             10   Percentage            80  \n8909             10   Percentage            80  \n8910             10   Percentage            80  \n8911             10   Percentage            80  \n\n[8912 rows x 9 columns]",
      "text/html": "<div>\n<style scoped>\n    .dataframe tbody tr th:only-of-type {\n        vertical-align: middle;\n    }\n\n    .dataframe tbody tr th {\n        vertical-align: top;\n    }\n\n    .dataframe thead th {\n        text-align: right;\n    }\n</style>\n<table border=\"1\" class=\"dataframe\">\n  <thead>\n    <tr style=\"text-align: right;\">\n      <th></th>\n      <th>CategoryCode</th>\n      <th>ItemCode</th>\n      <th>DateID</th>\n      <th>DailySales</th>\n      <th>PromoStarted</th>\n      <th>PromoEnded</th>\n      <th>DiscountValue</th>\n      <th>DiscountType</th>\n      <th>SellingPrice</th>\n    </tr>\n  </thead>\n  <tbody>\n    <tr>\n      <th>0</th>\n      <td>category_1</td>\n      <td>379249</td>\n      <td>2021-12-04</td>\n      <td>9</td>\n      <td>2021-12-03</td>\n      <td>2021-12-09</td>\n      <td>10</td>\n      <td>Percentage</td>\n      <td>70</td>\n    </tr>\n    <tr>\n      <th>1</th>\n      <td>category_1</td>\n      <td>379249</td>\n      <td>2021-12-07</td>\n      <td>11</td>\n      <td>2021-12-03</td>\n      <td>2021-12-09</td>\n      <td>10</td>\n      <td>Percentage</td>\n      <td>70</td>\n    </tr>\n    <tr>\n      <th>2</th>\n      <td>category_1</td>\n      <td>379249</td>\n      <td>2021-12-05</td>\n      <td>9</td>\n      <td>2021-12-03</td>\n      <td>2021-12-09</td>\n      <td>10</td>\n      <td>Percentage</td>\n      <td>70</td>\n    </tr>\n    <tr>\n      <th>3</th>\n      <td>category_1</td>\n      <td>379249</td>\n      <td>2021-12-08</td>\n      <td>9</td>\n      <td>2021-12-03</td>\n      <td>2021-12-09</td>\n      <td>10</td>\n      <td>Percentage</td>\n      <td>70</td>\n    </tr>\n    <tr>\n      <th>4</th>\n      <td>category_1</td>\n      <td>379249</td>\n      <td>2021-12-06</td>\n      <td>6</td>\n      <td>2021-12-03</td>\n      <td>2021-12-09</td>\n      <td>10</td>\n      <td>Percentage</td>\n      <td>70</td>\n    </tr>\n    <tr>\n      <th>...</th>\n      <td>...</td>\n      <td>...</td>\n      <td>...</td>\n      <td>...</td>\n      <td>...</td>\n      <td>...</td>\n      <td>...</td>\n      <td>...</td>\n      <td>...</td>\n    </tr>\n    <tr>\n      <th>8907</th>\n      <td>category_2</td>\n      <td>23569</td>\n      <td>2021-11-20</td>\n      <td>6</td>\n      <td>2021-11-19</td>\n      <td>2021-11-25</td>\n      <td>10</td>\n      <td>Percentage</td>\n      <td>80</td>\n    </tr>\n    <tr>\n      <th>8908</th>\n      <td>category_2</td>\n      <td>23569</td>\n      <td>2021-11-13</td>\n      <td>3</td>\n      <td>2021-11-12</td>\n      <td>2021-11-18</td>\n      <td>10</td>\n      <td>Percentage</td>\n      <td>80</td>\n    </tr>\n    <tr>\n      <th>8909</th>\n      <td>category_2</td>\n      <td>23569</td>\n      <td>2021-11-15</td>\n      <td>6</td>\n      <td>2021-11-12</td>\n      <td>2021-11-18</td>\n      <td>10</td>\n      <td>Percentage</td>\n      <td>80</td>\n    </tr>\n    <tr>\n      <th>8910</th>\n      <td>category_2</td>\n      <td>23569</td>\n      <td>2021-11-14</td>\n      <td>7</td>\n      <td>2021-11-12</td>\n      <td>2021-11-18</td>\n      <td>10</td>\n      <td>Percentage</td>\n      <td>80</td>\n    </tr>\n    <tr>\n      <th>8911</th>\n      <td>category_2</td>\n      <td>23569</td>\n      <td>2021-11-17</td>\n      <td>8</td>\n      <td>2021-11-12</td>\n      <td>2021-11-18</td>\n      <td>10</td>\n      <td>Percentage</td>\n      <td>80</td>\n    </tr>\n  </tbody>\n</table>\n<p>8912 rows × 9 columns</p>\n</div>"
     },
     "execution_count": 46,
     "metadata": {},
     "output_type": "execute_result"
    }
   ],
   "source": [
    "promo_combined"
   ],
   "metadata": {
    "collapsed": false,
    "pycharm": {
     "name": "#%%\n"
    }
   }
  },
  {
   "cell_type": "code",
   "execution_count": 47,
   "outputs": [],
   "source": [
    "promo_combined[\"WOY\"] = promo_combined[\"DateID\"].dt.isocalendar().week\n",
    "promo_combined[\"DOW\"] = promo_combined[\"DateID\"].dt.dayofweek\n",
    "promo_combined[\"DOY\"] = promo_combined[\"DateID\"].dt.day_of_year"
   ],
   "metadata": {
    "collapsed": false,
    "pycharm": {
     "name": "#%%\n"
    }
   }
  },
  {
   "cell_type": "code",
   "execution_count": 48,
   "outputs": [
    {
     "data": {
      "text/plain": "     CategoryCode  ItemCode     DateID  DailySales PromoStarted PromoEnded  \\\n0      category_1    379249 2021-12-04           9   2021-12-03 2021-12-09   \n1      category_1    379249 2021-12-07          11   2021-12-03 2021-12-09   \n2      category_1    379249 2021-12-05           9   2021-12-03 2021-12-09   \n3      category_1    379249 2021-12-08           9   2021-12-03 2021-12-09   \n4      category_1    379249 2021-12-06           6   2021-12-03 2021-12-09   \n...           ...       ...        ...         ...          ...        ...   \n8907   category_2     23569 2021-11-20           6   2021-11-19 2021-11-25   \n8908   category_2     23569 2021-11-13           3   2021-11-12 2021-11-18   \n8909   category_2     23569 2021-11-15           6   2021-11-12 2021-11-18   \n8910   category_2     23569 2021-11-14           7   2021-11-12 2021-11-18   \n8911   category_2     23569 2021-11-17           8   2021-11-12 2021-11-18   \n\n      DiscountValue DiscountType  SellingPrice  WOY  DOW  DOY  \n0                10   Percentage            70   48    5  338  \n1                10   Percentage            70   49    1  341  \n2                10   Percentage            70   48    6  339  \n3                10   Percentage            70   49    2  342  \n4                10   Percentage            70   49    0  340  \n...             ...          ...           ...  ...  ...  ...  \n8907             10   Percentage            80   46    5  324  \n8908             10   Percentage            80   45    5  317  \n8909             10   Percentage            80   46    0  319  \n8910             10   Percentage            80   45    6  318  \n8911             10   Percentage            80   46    2  321  \n\n[8912 rows x 12 columns]",
      "text/html": "<div>\n<style scoped>\n    .dataframe tbody tr th:only-of-type {\n        vertical-align: middle;\n    }\n\n    .dataframe tbody tr th {\n        vertical-align: top;\n    }\n\n    .dataframe thead th {\n        text-align: right;\n    }\n</style>\n<table border=\"1\" class=\"dataframe\">\n  <thead>\n    <tr style=\"text-align: right;\">\n      <th></th>\n      <th>CategoryCode</th>\n      <th>ItemCode</th>\n      <th>DateID</th>\n      <th>DailySales</th>\n      <th>PromoStarted</th>\n      <th>PromoEnded</th>\n      <th>DiscountValue</th>\n      <th>DiscountType</th>\n      <th>SellingPrice</th>\n      <th>WOY</th>\n      <th>DOW</th>\n      <th>DOY</th>\n    </tr>\n  </thead>\n  <tbody>\n    <tr>\n      <th>0</th>\n      <td>category_1</td>\n      <td>379249</td>\n      <td>2021-12-04</td>\n      <td>9</td>\n      <td>2021-12-03</td>\n      <td>2021-12-09</td>\n      <td>10</td>\n      <td>Percentage</td>\n      <td>70</td>\n      <td>48</td>\n      <td>5</td>\n      <td>338</td>\n    </tr>\n    <tr>\n      <th>1</th>\n      <td>category_1</td>\n      <td>379249</td>\n      <td>2021-12-07</td>\n      <td>11</td>\n      <td>2021-12-03</td>\n      <td>2021-12-09</td>\n      <td>10</td>\n      <td>Percentage</td>\n      <td>70</td>\n      <td>49</td>\n      <td>1</td>\n      <td>341</td>\n    </tr>\n    <tr>\n      <th>2</th>\n      <td>category_1</td>\n      <td>379249</td>\n      <td>2021-12-05</td>\n      <td>9</td>\n      <td>2021-12-03</td>\n      <td>2021-12-09</td>\n      <td>10</td>\n      <td>Percentage</td>\n      <td>70</td>\n      <td>48</td>\n      <td>6</td>\n      <td>339</td>\n    </tr>\n    <tr>\n      <th>3</th>\n      <td>category_1</td>\n      <td>379249</td>\n      <td>2021-12-08</td>\n      <td>9</td>\n      <td>2021-12-03</td>\n      <td>2021-12-09</td>\n      <td>10</td>\n      <td>Percentage</td>\n      <td>70</td>\n      <td>49</td>\n      <td>2</td>\n      <td>342</td>\n    </tr>\n    <tr>\n      <th>4</th>\n      <td>category_1</td>\n      <td>379249</td>\n      <td>2021-12-06</td>\n      <td>6</td>\n      <td>2021-12-03</td>\n      <td>2021-12-09</td>\n      <td>10</td>\n      <td>Percentage</td>\n      <td>70</td>\n      <td>49</td>\n      <td>0</td>\n      <td>340</td>\n    </tr>\n    <tr>\n      <th>...</th>\n      <td>...</td>\n      <td>...</td>\n      <td>...</td>\n      <td>...</td>\n      <td>...</td>\n      <td>...</td>\n      <td>...</td>\n      <td>...</td>\n      <td>...</td>\n      <td>...</td>\n      <td>...</td>\n      <td>...</td>\n    </tr>\n    <tr>\n      <th>8907</th>\n      <td>category_2</td>\n      <td>23569</td>\n      <td>2021-11-20</td>\n      <td>6</td>\n      <td>2021-11-19</td>\n      <td>2021-11-25</td>\n      <td>10</td>\n      <td>Percentage</td>\n      <td>80</td>\n      <td>46</td>\n      <td>5</td>\n      <td>324</td>\n    </tr>\n    <tr>\n      <th>8908</th>\n      <td>category_2</td>\n      <td>23569</td>\n      <td>2021-11-13</td>\n      <td>3</td>\n      <td>2021-11-12</td>\n      <td>2021-11-18</td>\n      <td>10</td>\n      <td>Percentage</td>\n      <td>80</td>\n      <td>45</td>\n      <td>5</td>\n      <td>317</td>\n    </tr>\n    <tr>\n      <th>8909</th>\n      <td>category_2</td>\n      <td>23569</td>\n      <td>2021-11-15</td>\n      <td>6</td>\n      <td>2021-11-12</td>\n      <td>2021-11-18</td>\n      <td>10</td>\n      <td>Percentage</td>\n      <td>80</td>\n      <td>46</td>\n      <td>0</td>\n      <td>319</td>\n    </tr>\n    <tr>\n      <th>8910</th>\n      <td>category_2</td>\n      <td>23569</td>\n      <td>2021-11-14</td>\n      <td>7</td>\n      <td>2021-11-12</td>\n      <td>2021-11-18</td>\n      <td>10</td>\n      <td>Percentage</td>\n      <td>80</td>\n      <td>45</td>\n      <td>6</td>\n      <td>318</td>\n    </tr>\n    <tr>\n      <th>8911</th>\n      <td>category_2</td>\n      <td>23569</td>\n      <td>2021-11-17</td>\n      <td>8</td>\n      <td>2021-11-12</td>\n      <td>2021-11-18</td>\n      <td>10</td>\n      <td>Percentage</td>\n      <td>80</td>\n      <td>46</td>\n      <td>2</td>\n      <td>321</td>\n    </tr>\n  </tbody>\n</table>\n<p>8912 rows × 12 columns</p>\n</div>"
     },
     "execution_count": 48,
     "metadata": {},
     "output_type": "execute_result"
    }
   ],
   "source": [
    "promo_combined"
   ],
   "metadata": {
    "collapsed": false,
    "pycharm": {
     "name": "#%%\n"
    }
   }
  },
  {
   "cell_type": "code",
   "execution_count": 49,
   "outputs": [
    {
     "data": {
      "text/plain": "Index(['CategoryCode', 'ItemCode', 'DateID', 'DailySales', 'PromoStarted',\n       'PromoEnded', 'DiscountValue', 'DiscountType', 'SellingPrice', 'WOY',\n       'DOW', 'DOY'],\n      dtype='object')"
     },
     "execution_count": 49,
     "metadata": {},
     "output_type": "execute_result"
    }
   ],
   "source": [
    "promo_combined.columns"
   ],
   "metadata": {
    "collapsed": false,
    "pycharm": {
     "name": "#%%\n"
    }
   }
  },
  {
   "cell_type": "code",
   "execution_count": 50,
   "outputs": [],
   "source": [
    "promo_combined.to_csv(\"promo_feature_added.csv\",index=False)"
   ],
   "metadata": {
    "collapsed": false,
    "pycharm": {
     "name": "#%%\n"
    }
   }
  },
  {
   "cell_type": "code",
   "execution_count": null,
   "outputs": [],
   "source": [],
   "metadata": {
    "collapsed": false,
    "pycharm": {
     "name": "#%%\n"
    }
   }
  }
 ],
 "metadata": {
  "kernelspec": {
   "display_name": "Python 3",
   "language": "python",
   "name": "python3"
  },
  "language_info": {
   "codemirror_mode": {
    "name": "ipython",
    "version": 2
   },
   "file_extension": ".py",
   "mimetype": "text/x-python",
   "name": "python",
   "nbconvert_exporter": "python",
   "pygments_lexer": "ipython2",
   "version": "2.7.6"
  }
 },
 "nbformat": 4,
 "nbformat_minor": 0
}