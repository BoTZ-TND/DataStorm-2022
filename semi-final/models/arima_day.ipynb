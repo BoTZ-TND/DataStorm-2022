{
 "cells": [
  {
   "cell_type": "code",
   "execution_count": 21,
   "metadata": {
    "collapsed": true
   },
   "outputs": [],
   "source": [
    "import  pandas as pd\n",
    "from statsmodels.tsa.arima.model import ARIMA\n",
    "import matplotlib.pyplot as plt\n",
    "import numpy as np\n",
    "from tqdm import tqdm\n",
    "from sklearn.metrics import mean_squared_error"
   ]
  },
  {
   "cell_type": "code",
   "execution_count": 22,
   "outputs": [],
   "source": [
    "sales_points = pd.read_csv(\"D:\\\\Competitions\\\\DataStorm-2022\\\\data\\\\SalesPointsV1.csv\")"
   ],
   "metadata": {
    "collapsed": false,
    "pycharm": {
     "name": "#%%\n"
    }
   }
  },
  {
   "cell_type": "code",
   "execution_count": 23,
   "outputs": [
    {
     "data": {
      "text/plain": "     Unnamed: 0  ItemCode  #sales       stage  \\\n0             0      3418     136  validation   \n1             1      3427     136  validation   \n2             2      7666     135  validation   \n3             3      9925     133        test   \n4             4     16936     136        test   \n..          ...       ...     ...         ...   \n189         189   1101769     136        test   \n190         190   1103056     122        test   \n191         191   1105009     114  validation   \n192         192   1105018     109        test   \n193         193   1105027     106        test   \n\n                                            DailySales  \n0    [18, 3, 8, 2, 4, 2, 8, 12, 0, 14, 2, 9, 8, 5, ...  \n1    [2, 7, 2, 3, 9, 0, 5, 8, 10, 5, 5, 4, 0, 4, 3,...  \n2    [14, 58, 12, 8, 5, 33, 11, 23, 24, 15, 41, 20,...  \n3    [1, 3, 1, 2, 0, 0, 2, 1, 0, 1, 8, 0, 2, 0, 0, ...  \n4    [4, 1, 4, 1, 0, 0, 21, 2, 1, 0, 5, 9, 2, 8, 8,...  \n..                                                 ...  \n189  [4, 1, 3, 1, 1, 1, 0, 0, 0, 0, 0, 0, 0, 0, 0, ...  \n190  [3, 3, 2, 0, 0, 2, 1, 3, 5, 1, 1, 2, 4, 1, 10,...  \n191  [3, 2, 1, 0, 0, 1, 1, 1, 1, 1, 1, 0, 0, 5, 3, ...  \n192  [1, 1, 0, 1, 0, 1, 0, 1, 0, 0, 4, 0, 3, 2, 2, ...  \n193  [3, 2, 3, 0, 0, 3, 0, 3, 3, 1, 0, 4, 1, 0, 1, ...  \n\n[194 rows x 5 columns]",
      "text/html": "<div>\n<style scoped>\n    .dataframe tbody tr th:only-of-type {\n        vertical-align: middle;\n    }\n\n    .dataframe tbody tr th {\n        vertical-align: top;\n    }\n\n    .dataframe thead th {\n        text-align: right;\n    }\n</style>\n<table border=\"1\" class=\"dataframe\">\n  <thead>\n    <tr style=\"text-align: right;\">\n      <th></th>\n      <th>Unnamed: 0</th>\n      <th>ItemCode</th>\n      <th>#sales</th>\n      <th>stage</th>\n      <th>DailySales</th>\n    </tr>\n  </thead>\n  <tbody>\n    <tr>\n      <th>0</th>\n      <td>0</td>\n      <td>3418</td>\n      <td>136</td>\n      <td>validation</td>\n      <td>[18, 3, 8, 2, 4, 2, 8, 12, 0, 14, 2, 9, 8, 5, ...</td>\n    </tr>\n    <tr>\n      <th>1</th>\n      <td>1</td>\n      <td>3427</td>\n      <td>136</td>\n      <td>validation</td>\n      <td>[2, 7, 2, 3, 9, 0, 5, 8, 10, 5, 5, 4, 0, 4, 3,...</td>\n    </tr>\n    <tr>\n      <th>2</th>\n      <td>2</td>\n      <td>7666</td>\n      <td>135</td>\n      <td>validation</td>\n      <td>[14, 58, 12, 8, 5, 33, 11, 23, 24, 15, 41, 20,...</td>\n    </tr>\n    <tr>\n      <th>3</th>\n      <td>3</td>\n      <td>9925</td>\n      <td>133</td>\n      <td>test</td>\n      <td>[1, 3, 1, 2, 0, 0, 2, 1, 0, 1, 8, 0, 2, 0, 0, ...</td>\n    </tr>\n    <tr>\n      <th>4</th>\n      <td>4</td>\n      <td>16936</td>\n      <td>136</td>\n      <td>test</td>\n      <td>[4, 1, 4, 1, 0, 0, 21, 2, 1, 0, 5, 9, 2, 8, 8,...</td>\n    </tr>\n    <tr>\n      <th>...</th>\n      <td>...</td>\n      <td>...</td>\n      <td>...</td>\n      <td>...</td>\n      <td>...</td>\n    </tr>\n    <tr>\n      <th>189</th>\n      <td>189</td>\n      <td>1101769</td>\n      <td>136</td>\n      <td>test</td>\n      <td>[4, 1, 3, 1, 1, 1, 0, 0, 0, 0, 0, 0, 0, 0, 0, ...</td>\n    </tr>\n    <tr>\n      <th>190</th>\n      <td>190</td>\n      <td>1103056</td>\n      <td>122</td>\n      <td>test</td>\n      <td>[3, 3, 2, 0, 0, 2, 1, 3, 5, 1, 1, 2, 4, 1, 10,...</td>\n    </tr>\n    <tr>\n      <th>191</th>\n      <td>191</td>\n      <td>1105009</td>\n      <td>114</td>\n      <td>validation</td>\n      <td>[3, 2, 1, 0, 0, 1, 1, 1, 1, 1, 1, 0, 0, 5, 3, ...</td>\n    </tr>\n    <tr>\n      <th>192</th>\n      <td>192</td>\n      <td>1105018</td>\n      <td>109</td>\n      <td>test</td>\n      <td>[1, 1, 0, 1, 0, 1, 0, 1, 0, 0, 4, 0, 3, 2, 2, ...</td>\n    </tr>\n    <tr>\n      <th>193</th>\n      <td>193</td>\n      <td>1105027</td>\n      <td>106</td>\n      <td>test</td>\n      <td>[3, 2, 3, 0, 0, 3, 0, 3, 3, 1, 0, 4, 1, 0, 1, ...</td>\n    </tr>\n  </tbody>\n</table>\n<p>194 rows × 5 columns</p>\n</div>"
     },
     "execution_count": 23,
     "metadata": {},
     "output_type": "execute_result"
    }
   ],
   "source": [
    "sales_points"
   ],
   "metadata": {
    "collapsed": false,
    "pycharm": {
     "name": "#%%\n"
    }
   }
  },
  {
   "cell_type": "code",
   "execution_count": 24,
   "outputs": [],
   "source": [
    "from statsmodels.tsa.statespace.sarimax import SARIMAX\n",
    "\n",
    "\n",
    "def build_arima_model(lis_data,result,order=(2,4,1),show_fig=False,show_summary=False):\n",
    "    model = SARIMAX(lis_data, order=order)\n",
    "    model_fit = model.fit()\n",
    "    if show_summary:\n",
    "        # summary of fit model\n",
    "        print(model_fit.summary())\n",
    "\n",
    "    if show_fig:\n",
    "        # line plot of residuals\n",
    "        residuals = pd.DataFrame(model_fit.resid)\n",
    "        residuals.plot()\n",
    "        plt.show()\n",
    "        # density plot of residuals\n",
    "        residuals.plot(kind='kde')\n",
    "        plt.show()\n",
    "        # summary stats of residuals\n",
    "        print(residuals.describe())\n",
    "\n",
    "    result[\"arima_model\"] = model_fit\n",
    "    return result"
   ],
   "metadata": {
    "collapsed": false,
    "pycharm": {
     "name": "#%%\n"
    }
   }
  },
  {
   "cell_type": "code",
   "execution_count": 25,
   "outputs": [],
   "source": [
    "selected_data_points = sales_points"
   ],
   "metadata": {
    "collapsed": false,
    "pycharm": {
     "name": "#%%\n"
    }
   }
  },
  {
   "cell_type": "code",
   "execution_count": 26,
   "outputs": [
    {
     "name": "stderr",
     "output_type": "stream",
     "text": [
      "  0%|          | 0/194 [00:00<?, ?it/s]d:\\competitions\\datastorm-2022\\venv\\lib\\site-packages\\statsmodels\\tsa\\statespace\\sarimax.py:978: UserWarning: Non-invertible starting MA parameters found. Using zeros as starting parameters.\n",
      "  warn('Non-invertible starting MA parameters found.'\n",
      "  0%|          | 0/194 [00:00<?, ?it/s]\n"
     ]
    }
   ],
   "source": [
    "models_list = {}\n",
    "for i in tqdm(selected_data_points.index):\n",
    "    result = dict()\n",
    "    product_series = sales_points.iloc[i]\n",
    "    result[\"input_data\"] = product_series\n",
    "    __data = eval(product_series[\"DailySales\"])[-50:]\n",
    "    build_arima_model(__data,result,show_fig=False,show_summary=False)\n",
    "    model = result[\"arima_model\"]\n",
    "    fc = model.forecast(28,alpha=0.05)\n",
    "    fc_series = pd.Series(fc)\n",
    "    result[\"day_prediction\"] = fc_series\n",
    "    models_list[product_series[\"ItemCode\"]] = result\n",
    "    break"
   ],
   "metadata": {
    "collapsed": false,
    "pycharm": {
     "name": "#%%\n"
    }
   }
  },
  {
   "cell_type": "code",
   "execution_count": 27,
   "outputs": [],
   "source": [
    "def __day_filter_values(data):\n",
    "    output = {\n",
    "        \"ItemCode\":data[\"input_data\"][\"ItemCode\"]\n",
    "    }\n",
    "\n",
    "    __pred = data[\"day_prediction\"]\n",
    "\n",
    "    output[\"w1\"] = __pred[6]\n",
    "    output[\"w2\"] = __pred[13]\n",
    "    output[\"w3\"] = __pred[20]\n",
    "    output[\"w4\"] = __pred[27]\n",
    "\n",
    "    return output\n",
    "\n",
    "def day_series_filter_out(model_data):\n",
    "    output_df = {}\n",
    "    for __key in tqdm(model_data.keys()):\n",
    "        output_df[__key] = __day_filter_values(model_data[__key])\n",
    "\n",
    "    output_df = pd.DataFrame.from_dict(output_df,orient='index')\n",
    "    output_df = pd.melt(output_df,id_vars=[\"ItemCode\"],value_vars=[\"w1\",\"w2\",\"w3\",\"w4\"])\n",
    "    output_df.columns = [\"ItemCode\",\"Week\",\"WeeklySales\"]\n",
    "    return output_df"
   ],
   "metadata": {
    "collapsed": false,
    "pycharm": {
     "name": "#%%\n"
    }
   }
  },
  {
   "cell_type": "code",
   "execution_count": 28,
   "outputs": [
    {
     "name": "stderr",
     "output_type": "stream",
     "text": [
      "100%|██████████| 1/1 [00:00<?, ?it/s]\n"
     ]
    },
    {
     "data": {
      "text/plain": "   ItemCode Week  WeeklySales\n0      3418   w1    13.654994\n1      3418   w2    23.583116\n2      3418   w3    43.980493\n3      3418   w4    72.376098",
      "text/html": "<div>\n<style scoped>\n    .dataframe tbody tr th:only-of-type {\n        vertical-align: middle;\n    }\n\n    .dataframe tbody tr th {\n        vertical-align: top;\n    }\n\n    .dataframe thead th {\n        text-align: right;\n    }\n</style>\n<table border=\"1\" class=\"dataframe\">\n  <thead>\n    <tr style=\"text-align: right;\">\n      <th></th>\n      <th>ItemCode</th>\n      <th>Week</th>\n      <th>WeeklySales</th>\n    </tr>\n  </thead>\n  <tbody>\n    <tr>\n      <th>0</th>\n      <td>3418</td>\n      <td>w1</td>\n      <td>13.654994</td>\n    </tr>\n    <tr>\n      <th>1</th>\n      <td>3418</td>\n      <td>w2</td>\n      <td>23.583116</td>\n    </tr>\n    <tr>\n      <th>2</th>\n      <td>3418</td>\n      <td>w3</td>\n      <td>43.980493</td>\n    </tr>\n    <tr>\n      <th>3</th>\n      <td>3418</td>\n      <td>w4</td>\n      <td>72.376098</td>\n    </tr>\n  </tbody>\n</table>\n</div>"
     },
     "execution_count": 28,
     "metadata": {},
     "output_type": "execute_result"
    }
   ],
   "source": [
    "day_series_filter_out(models_list)"
   ],
   "metadata": {
    "collapsed": false,
    "pycharm": {
     "name": "#%%\n"
    }
   }
  },
  {
   "cell_type": "code",
   "execution_count": 28,
   "outputs": [],
   "source": [],
   "metadata": {
    "collapsed": false,
    "pycharm": {
     "name": "#%%\n"
    }
   }
  }
 ],
 "metadata": {
  "kernelspec": {
   "display_name": "Python 3",
   "language": "python",
   "name": "python3"
  },
  "language_info": {
   "codemirror_mode": {
    "name": "ipython",
    "version": 2
   },
   "file_extension": ".py",
   "mimetype": "text/x-python",
   "name": "python",
   "nbconvert_exporter": "python",
   "pygments_lexer": "ipython2",
   "version": "2.7.6"
  }
 },
 "nbformat": 4,
 "nbformat_minor": 0
}